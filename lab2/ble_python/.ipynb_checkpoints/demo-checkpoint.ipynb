{
 "cells": [
  {
   "cell_type": "markdown",
   "metadata": {},
   "source": [
    "## Import necessary modules\n",
    "Run this cell before running any other cells"
   ]
  },
  {
   "cell_type": "code",
   "execution_count": 26,
   "metadata": {
    "tags": []
   },
   "outputs": [
    {
     "name": "stdout",
     "output_type": "stream",
     "text": [
      "The autoreload extension is already loaded. To reload it, use:\n",
      "  %reload_ext autoreload\n"
     ]
    }
   ],
   "source": [
    "%load_ext autoreload\n",
    "%autoreload 2\n",
    "\n",
    "from ble import get_ble_controller\n",
    "from base_ble import LOG\n",
    "from cmd_types import CMD\n",
    "import time\n",
    "import numpy as np\n",
    "\n",
    "LOG.propagate = False"
   ]
  },
  {
   "cell_type": "markdown",
   "metadata": {},
   "source": [
    "# Printing and Logging\n",
    "## Printing\n",
    "You can use the **print()** function in Python to print messages to the screen. <br>\n",
    "The message can be a string, or any other object, the object will be converted into a string before it is written to the screen. <br>\n",
    "\n",
    "## Logging\n",
    "You could use the logging module that is setup in *utils.py*. <br>\n",
    "It prints to both your screen (standard output) as well as to log files (*ble.log*) in the *logs* directory. <br>\n",
    "This is the recommended way to output messages, since the log files can help with debugging. <br>\n",
    "The logging module also provides different log levels as shown below, each formatted with a different color for increased visibility. <br>\n",
    "\n",
    "__**NOTE**__: You may notice that the DEBUG message is not printed to the screen but is printed in the log file. This is because the logging level for the screen is set to INFO and for the file is set to DEBUG. You can change the default log levels in *utils.py* (**STREAM_LOG_LEVEL** and **FILE_LOG_LEVEL**). \n",
    "\n",
    "## Formatting output\n",
    "To format your strings, you may use %-formatting, str.format() or f-strings. <br>\n",
    "The most \"pythonic\" way would be to use f-strings. [Here](https://realpython.com/python-f-strings/) is a good tutorial on f-strings. <br>"
   ]
  },
  {
   "cell_type": "code",
   "execution_count": 2,
   "metadata": {
    "tags": []
   },
   "outputs": [
    {
     "name": "stdout",
     "output_type": "stream",
     "text": [
      "2023-02-02 15:44:20,603 |\u001b[32m INFO     \u001b[0m|: info\n",
      "2023-02-02 15:44:20,604 |\u001b[33m WARNING  \u001b[0m|: warning\n",
      "2023-02-02 15:44:20,606 |\u001b[31m ERROR    \u001b[0m|: error\n",
      "2023-02-02 15:44:20,608 |\u001b[31m\u001b[47m\u001b[1m CRITICAL \u001b[0m|: critical\n"
     ]
    }
   ],
   "source": [
    "LOG.debug(\"debug\")\n",
    "LOG.info(\"info\")\n",
    "LOG.warning(\"warning\")\n",
    "LOG.error(\"error\")\n",
    "LOG.critical(\"critical\")"
   ]
  },
  {
   "cell_type": "markdown",
   "metadata": {},
   "source": [
    "<hr>\n",
    "\n",
    "# BLE\n",
    "## ArtemisBLEController\n",
    "The class **ArtemisBLEController** (defined in *ble.py*) provides member functions to handle various BLE operations to send and receive data to/from the Artemis board, provided the accompanying Arduino sketch is running on the Artemis board. <br>\n",
    "\n",
    "<table align=\"left\">\n",
    "     <tr>\n",
    "        <th style=\"text-align: left; font-size: medium\">Member Functions</th>\n",
    "        <th style=\"text-align: left; font-size: medium\">Description</th style=\"text-align: left\">\n",
    "    </tr>\n",
    "    <tr>\n",
    "        <th style=\"text-align: left\"><span style=\"color:rgb(201,152,4);font-family:monospace\">reload_config()</span></th>\n",
    "        <th style=\"text-align: left\"><span style=\"font-weight: normal\">Reload changes made in <em>connection.yaml.</em></span></th style=\"text-align: left\">\n",
    "    </tr>\n",
    "    <tr>\n",
    "        <th style=\"text-align: left\"><span style=\"color:rgb(201,152,4);font-family:monospace\">connect()</span></th>\n",
    "        <th style=\"text-align: left\"><span style=\"font-weight: normal\">Connect to the Artemis board, whose MAC address is specified in <em>connection.yaml</em>.</span></th>\n",
    "    </tr>\n",
    "    <tr>\n",
    "        <th style=\"text-align: left\"><span style=\"color:rgb(201,152,4);font-family:monospace\">disconnect()</span></th>\n",
    "        <th style=\"text-align: left\"><span style=\"font-weight: normal\">Disconnect from the Artemis board.</span></th>\n",
    "    </tr>\n",
    "    <tr>\n",
    "        <th style=\"text-align: left\"><span style=\"color:rgb(201,152,4);font-family:monospace\">is_connected()</span></th>\n",
    "        <th style=\"text-align: left\"><span style=\"font-weight: normal\">Return a boolean indicating whether your controller is connected to the Artemis board or not.</span></th>\n",
    "    </tr>\n",
    "    <tr>\n",
    "        <th style=\"text-align: left\"><span style=\"color:rgb(201,152,4);font-family:monospace\">send_command(cmd_type, data)</span></th>\n",
    "        <th style=\"text-align: left\"><span style=\"font-weight: normal\">Send the command <strong>cmd_type</strong> (integer) with <strong>data</strong> (string) to the Artemis board.</span></th>\n",
    "    </tr>\n",
    "    <tr>\n",
    "        <th style=\"text-align: left\"><span style=\"color:rgb(201,152,4);font-family:monospace\">receive_float(uuid) <br> receive_string(uuid) <br> receive_int(uuid)</span></th>\n",
    "        <th style=\"text-align: left\"><span style=\"font-weight: normal\">Read the GATT characteristic (specified by its <strong>uuid</strong>) of type float, string or int. <br> The type of the GATT\n",
    "            characteristic is determined by the classes BLEFloatCharacteristic, BLECStringCharacteristic or\n",
    "            BLEIntCharacteristic in the Arduino sketch.</span></th>\n",
    "    </tr>\n",
    "    <tr>\n",
    "        <th style=\"text-align: left\"><span style=\"color:rgb(201,152,4);font-family:monospace\">start_notify(uuid, notification_handler)</span></th>\n",
    "        <th style=\"text-align: left\"><span style=\"font-weight: normal\">Activate notifications on the GATT characteristic (specified by its <strong>uuid</strong>). <br> <strong>notification_handler</strong> is a\n",
    "            function callback which must accept two inputs; the first will be a uuid string object and the second will\n",
    "            be the bytearray of the characteristic value.</span></th>\n",
    "    </tr>\n",
    "    <tr>\n",
    "        <th style=\"text-align: left\"><span style=\"color:rgb(201,152,4);font-family:monospace\">bytearray_to_float(byte_array) <br> bytearray_to_string(byte_array) <br> bytearray_to_int(byte_array)</span></th>\n",
    "        <th style=\"text-align: left\"><span style=\"font-weight: normal\">Convert the <strong>bytearray</strong> to float, string or int, respectively. <br> You may use these functions inside your\n",
    "            notification callback function.</span></th>\n",
    "    </tr>\n",
    "    <tr>\n",
    "        <th style=\"text-align: left\"><span style=\"color:rgb(201,152,4);font-family:monospace\">stop_notify(uuid)</span></th>\n",
    "        <th style=\"text-align: left\"><span style=\"font-weight: normal\">Stop notifications on the GATT characteristic (specified by its <strong>uuid</strong>).</span></th>\n",
    "    </tr>\n",
    "</table>\n",
    "\n",
    "<table align=\"left\">\n",
    "     <tr>\n",
    "        <th style=\"text-align: left; font-size: medium\">Member Variables</th>\n",
    "        <th style=\"text-align: left; font-size: medium\">Description</th style=\"text-align: left\">\n",
    "    </tr>\n",
    "    <tr>\n",
    "        <th style=\"text-align: left\"><span style=\"color:rgb(201,152,4);font-family:monospace\">uuid</span></th>\n",
    "        <th style=\"text-align: left\"><span style=\"font-weight: normal\">A dictionary that stores the UUIDs of the various characteristics specified in <em>connection.yaml</em>.</span></th>\n",
    "    </tr>\n",
    "</table>"
   ]
  },
  {
   "cell_type": "markdown",
   "metadata": {},
   "source": [
    "## Configuration\n",
    "- The MAC address, Service UUID and GATT characteristic UUIDs are defined in the file: *connection.yaml*.\n",
    "- They should match the UUIDs used in the Arduino sketch.\n",
    "- The artemis board running the base code should display its MAC address in the serial monitor.\n",
    "- Update the **artemis_address** in *connection.yaml*, accordingly.\n",
    "- Make sure to call **ble.reload_config()** or **get_ble_controller()** (which internally calls **reload_config()**) after making any changes to your configuration file.\n",
    "\n",
    "<hr>"
   ]
  },
  {
   "cell_type": "markdown",
   "metadata": {},
   "source": [
    "In the below cell, we create an **ArtemisBLEController** object using **get_ble_controller()** (defined in *ble.py*), which creates and/or returns a single instance of **ArtemisBLEController**. <br>\n",
    "<span style=\"color:rgb(240,50,50)\"> __NOTE__: Do not use the class directly to instantiate an object. </span><br>"
   ]
  },
  {
   "cell_type": "code",
   "execution_count": 27,
   "metadata": {
    "tags": []
   },
   "outputs": [
    {
     "name": "stdout",
     "output_type": "stream",
     "text": [
      "2023-02-14 00:13:17,572 |\u001b[32m INFO     \u001b[0m|: Looking for Artemis Nano Peripheral Device: C0:83:D5:66:86:3C\n",
      "2023-02-14 00:13:22,836 |\u001b[31m ERROR    \u001b[0m|: disconnected\n",
      "2023-02-14 00:13:23,841 |\u001b[33m WARNING  \u001b[0m|: Attempting to connect again...\n",
      "2023-02-14 00:13:23,842 |\u001b[32m INFO     \u001b[0m|: Looking for Artemis Nano Peripheral Device: C0:83:D5:66:86:3C\n",
      "2023-02-14 00:13:27,600 |\u001b[32m INFO     \u001b[0m|: Connected to C0:83:D5:66:86:3C\n"
     ]
    }
   ],
   "source": [
    "# Get ArtemisBLEController object\n",
    "ble = get_ble_controller()\n",
    "\n",
    "# Connect to the Artemis Device\n",
    "ble.connect()"
   ]
  },
  {
   "cell_type": "markdown",
   "metadata": {},
   "source": [
    "## Receive data from the Artemis board"
   ]
  },
  {
   "cell_type": "markdown",
   "metadata": {},
   "source": [
    "The cell below shows examples of reading different types (as defined in the Arduino sketch) of GATT characteristics."
   ]
  },
  {
   "cell_type": "code",
   "execution_count": 5,
   "metadata": {
    "tags": []
   },
   "outputs": [
    {
     "name": "stdout",
     "output_type": "stream",
     "text": [
      "3.5\n"
     ]
    }
   ],
   "source": [
    "# Read a float GATT Charactersistic\n",
    "f = ble.receive_float(ble.uuid['RX_FLOAT'])\n",
    "print(f)"
   ]
  },
  {
   "cell_type": "code",
   "execution_count": 6,
   "metadata": {
    "tags": []
   },
   "outputs": [
    {
     "name": "stdout",
     "output_type": "stream",
     "text": [
      "[->9.0<-]\n"
     ]
    }
   ],
   "source": [
    "# Read a string GATT Charactersistic\n",
    "s = ble.receive_string(ble.uuid['RX_STRING'])\n",
    "print(s)"
   ]
  },
  {
   "cell_type": "markdown",
   "metadata": {},
   "source": [
    "## Send a command to the Artemis board\n",
    "Send the PING command and read the reply string from the string characteristic RX_STRING. <br>\n",
    "__NOTE__: The **send_command()** essentially sends a string data to the GATT characteristic (TX_CMD_STRING). The GATT characteristic in the Arduino sketch is of type BLECStringCharacteristic."
   ]
  },
  {
   "cell_type": "code",
   "execution_count": 7,
   "metadata": {
    "tags": []
   },
   "outputs": [],
   "source": [
    "ble.send_command(CMD.PING, \"\")"
   ]
  },
  {
   "cell_type": "code",
   "execution_count": 8,
   "metadata": {
    "tags": []
   },
   "outputs": [
    {
     "name": "stdout",
     "output_type": "stream",
     "text": [
      "PONG\n"
     ]
    }
   ],
   "source": [
    "s = ble.receive_string(ble.uuid['RX_STRING'])\n",
    "print(s)"
   ]
  },
  {
   "cell_type": "markdown",
   "metadata": {},
   "source": [
    "The cell below shows an example of the SEND_TWO_INTS command. <br> The two values in the **data** are separated by a delimiter \"|\". <br>\n",
    "Refer Lab 2 documentation for more information on the command protocol."
   ]
  },
  {
   "cell_type": "code",
   "execution_count": 9,
   "metadata": {
    "tags": []
   },
   "outputs": [],
   "source": [
    "ble.send_command(CMD.SEND_TWO_INTS, \"2|-6\")"
   ]
  },
  {
   "cell_type": "markdown",
   "metadata": {},
   "source": [
    "The Artemis board should print the two integers to the serial monitor in the ArduinoIDE. "
   ]
  },
  {
   "cell_type": "markdown",
   "metadata": {},
   "source": [
    "## Disconnect"
   ]
  },
  {
   "cell_type": "code",
   "execution_count": null,
   "metadata": {
    "tags": []
   },
   "outputs": [],
   "source": [
    "# Disconnect\n",
    "ble.disconnect()"
   ]
  },
  {
   "cell_type": "markdown",
   "metadata": {},
   "source": [
    "## Task 1"
   ]
  },
  {
   "cell_type": "code",
   "execution_count": 3,
   "metadata": {
    "tags": []
   },
   "outputs": [
    {
     "name": "stdout",
     "output_type": "stream",
     "text": [
      "Artemis said: Hello World!\n"
     ]
    }
   ],
   "source": [
    "# Send an ECHO command with a string value from the computer to the Artemis board, \n",
    "# and receive an augmented string on the computer.\n",
    "\n",
    "ble.send_command(CMD.ECHO, \"Hello World!\")\n",
    "\n",
    "s = ble.receive_string(ble.uuid['RX_STRING'])\n",
    "print(s)"
   ]
  },
  {
   "cell_type": "markdown",
   "metadata": {},
   "source": [
    "## Task 2"
   ]
  },
  {
   "cell_type": "code",
   "execution_count": 24,
   "metadata": {
    "tags": []
   },
   "outputs": [
    {
     "name": "stdout",
     "output_type": "stream",
     "text": [
      "T:25651\n"
     ]
    }
   ],
   "source": [
    "# Add a command GET_TIME_MILLIS which makes the robot reply write a string such as “T:123456” to the string characteristic.\n",
    "\n",
    "ble.send_command(CMD.GET_TIME_MILLIS, \"\")\n",
    "\n",
    "s = ble.receive_string(ble.uuid['RX_STRING'])\n",
    "print(s)"
   ]
  },
  {
   "cell_type": "markdown",
   "metadata": {},
   "source": [
    "## Task 3"
   ]
  },
  {
   "cell_type": "code",
   "execution_count": 28,
   "metadata": {
    "tags": []
   },
   "outputs": [
    {
     "name": "stdout",
     "output_type": "stream",
     "text": [
      "T:13554 is the received time\n"
     ]
    }
   ],
   "source": [
    "# Setup a notification handler in Python to receive the string value (the BLEStringCharactersitic in Arduino) \n",
    "# from the Artemis board. \n",
    "# In the callback function, extract the time from the string.\n",
    "\n",
    "def notif_callback(uuid, data):\n",
    "    print((ble.bytearray_to_string(data)) + \" is the received time\")\n",
    "    ble.stop_notify(ble.uuid['RX_STRING'])\n",
    "\n",
    "ble.start_notify(ble.uuid['RX_STRING'], notif_callback)\n",
    "ble.send_command(CMD.GET_TIME_MILLIS, \"\")"
   ]
  },
  {
   "cell_type": "markdown",
   "metadata": {},
   "source": [
    "## Task 4"
   ]
  },
  {
   "cell_type": "code",
   "execution_count": 57,
   "metadata": {
    "tags": []
   },
   "outputs": [
    {
     "name": "stdout",
     "output_type": "stream",
     "text": [
      "Sample 1 at T:609572 is C:26.853\n",
      "Sample 2 at T:610572 is C:26.779\n",
      "Sample 3 at T:611572 is C:26.890\n",
      "Sample 4 at T:612572 is C:26.853\n",
      "Sample 5 at T:613572 is C:27.335\n"
     ]
    }
   ],
   "source": [
    "# Add a command GET_TEMP_5s which sends an array of five timestamped internal die temperature readings using a string array, \n",
    "# taken once per second for five seconds.\n",
    "\n",
    "def notif_callback(uuid, data):\n",
    "    global instances\n",
    "    pair = (ble.bytearray_to_string(data)).split('|')\n",
    "    print(\"Sample \" + str(instances) + \" at \" + pair[0] + \" is \" + pair[1])\n",
    "    \n",
    "    instances += 1\n",
    "    if instances > 5:\n",
    "        ble.stop_notify(ble.uuid['RX_STRING'])\n",
    "    \n",
    "\n",
    "instances = 1\n",
    "ble.start_notify(ble.uuid['RX_STRING'], notif_callback)\n",
    "ble.send_command(CMD.GET_TEMP_5s, \"\")\n",
    "\n"
   ]
  },
  {
   "cell_type": "markdown",
   "metadata": {},
   "source": [
    "## Task 5"
   ]
  },
  {
   "cell_type": "code",
   "execution_count": 62,
   "metadata": {
    "tags": []
   },
   "outputs": [
    {
     "name": "stdout",
     "output_type": "stream",
     "text": [
      "Sample 1 at T:717418 is C:26.631\n",
      "Sample 2 at T:717418 is C:26.668\n",
      "Sample 3 at T:717419 is C:27.372\n",
      "Sample 4 at T:717419 is C:27.595\n",
      "Sample 5 at T:717465 is C:26.779\n",
      "Sample 6 at T:717510 is C:26.742\n",
      "Sample 7 at T:717510 is C:26.482\n",
      "Sample 8 at T:717551 is C:26.631\n",
      "Sample 9 at T:717601 is C:26.853\n",
      "Sample 10 at T:717601 is C:27.39\n",
      "Sample 11 at T:717642 is C:26.816\n",
      "Sample 12 at T:717642 is C:26.890\n",
      "Sample 13 at T:717688 is C:26.556\n",
      "Sample 14 at T:717732 is C:26.927\n",
      "Sample 15 at T:717732 is C:26.927\n",
      "Sample 16 at T:717782 is C:26.445\n",
      "Sample 17 at T:717782 is C:27.261\n",
      "Sample 18 at T:717820 is C:27.113\n",
      "Sample 19 at T:717871 is C:26.927\n",
      "Sample 20 at T:717917 is C:26.779\n",
      "Sample 21 at T:718005 is C:27.150\n",
      "Sample 22 at T:718005 is C:26.964\n",
      "Sample 23 at T:718054 is C:26.222\n",
      "Sample 24 at T:718095 is C:27.521\n",
      "Sample 25 at T:718141 is C:26.964\n",
      "Sample 26 at T:718183 is C:27.224\n",
      "Sample 27 at T:718183 is C:26.890\n",
      "Sample 28 at T:718230 is C:26.779\n",
      "Sample 29 at T:718275 is C:27.113\n",
      "Sample 30 at T:718322 is C:26.890\n",
      "Sample 31 at T:718367 is C:27.261\n",
      "Sample 32 at T:718457 is C:26.705\n",
      "Sample 33 at T:718499 is C:27.76\n",
      "Sample 34 at T:718548 is C:26.927\n",
      "Sample 35 at T:718638 is C:26.853\n",
      "Sample 36 at T:718722 is C:26.556\n",
      "Sample 37 at T:718816 is C:27.1\n",
      "Sample 38 at T:718906 is C:26.816\n",
      "Sample 39 at T:718954 is C:27.298\n",
      "Sample 40 at T:719000 is C:27.447\n",
      "Sample 41 at T:719087 is C:27.150\n",
      "Sample 42 at T:719179 is C:26.631\n",
      "Sample 43 at T:719220 is C:26.853\n",
      "Sample 44 at T:719269 is C:27.521\n",
      "Sample 45 at T:719360 is C:26.408\n",
      "Sample 46 at T:719402 is C:26.816\n",
      "Sample 47 at T:719451 is C:27.372\n",
      "Sample 48 at T:719496 is C:26.519\n",
      "Sample 49 at T:719541 is C:26.853\n",
      "Sample 50 at T:719580 is C:26.927\n",
      "Sample 51 at T:719629 is C:26.705\n",
      "Sample 52 at T:719672 is C:27.39\n",
      "Sample 53 at T:719718 is C:26.631\n",
      "Sample 54 at T:719763 is C:27.447\n",
      "Sample 55 at T:719857 is C:27.150\n",
      "Sample 56 at T:719902 is C:27.410\n",
      "Sample 57 at T:719946 is C:26.371\n",
      "Sample 58 at T:719990 is C:27.892\n",
      "Sample 59 at T:720084 is C:27.706\n",
      "Sample 60 at T:720127 is C:26.853\n",
      "Sample 61 at T:720169 is C:26.964\n",
      "Sample 62 at T:720212 is C:27.335\n",
      "Sample 63 at T:720262 is C:26.927\n",
      "Sample 64 at T:720356 is C:26.890\n",
      "Sample 65 at T:720397 is C:26.890\n",
      "Sample 66 at T:720438 is C:27.187\n",
      "Sample 67 at T:720488 is C:26.593\n",
      "Sample 68 at T:720533 is C:27.261\n",
      "Sample 69 at T:720578 is C:27.261\n",
      "Sample 70 at T:720619 is C:27.76\n",
      "Sample 71 at T:720666 is C:26.964\n",
      "Sample 72 at T:720755 is C:27.76\n",
      "Sample 73 at T:720799 is C:26.779\n",
      "Sample 74 at T:720844 is C:27.224\n",
      "Sample 75 at T:720894 is C:27.410\n",
      "Sample 76 at T:720939 is C:26.964\n",
      "Sample 77 at T:721027 is C:26.890\n",
      "Sample 78 at T:721073 is C:27.39\n",
      "Sample 79 at T:721117 is C:27.261\n",
      "Sample 80 at T:721159 is C:26.964\n",
      "Sample 81 at T:721250 is C:26.927\n",
      "Sample 82 at T:721301 is C:26.742\n",
      "Sample 83 at T:721346 is C:27.1\n",
      "Sample 84 at T:721386 is C:27.1\n",
      "Sample 85 at T:721438 is C:27.261\n",
      "Sample 86 at T:721483 is C:27.632\n",
      "Sample 87 at T:721522 is C:27.113\n",
      "Sample 88 at T:721571 is C:27.39\n",
      "Sample 89 at T:721614 is C:26.705\n",
      "Sample 90 at T:721661 is C:27.1\n",
      "Sample 91 at T:721748 is C:26.631\n",
      "Sample 92 at T:721797 is C:27.372\n",
      "Sample 93 at T:721842 is C:26.445\n",
      "Sample 94 at T:721881 is C:27.76\n",
      "Sample 95 at T:721933 is C:26.927\n",
      "Sample 96 at T:721975 is C:27.335\n",
      "Sample 97 at T:722021 is C:26.890\n",
      "Sample 98 at T:722066 is C:26.890\n",
      "Sample 99 at T:722113 is C:27.187\n",
      "Sample 100 at T:722203 is C:27.261\n",
      "2023-02-14 04:39:28,891 |\u001b[32m INFO     \u001b[0m|: Disconnected from AB6C95E9-A4ED-4F7A-B208-0AFEAFDDA3AD\n"
     ]
    }
   ],
   "source": [
    "# Add a command GET_TEMP_5s_RAPID which sends an array of five seconds worth of rapidly sampled temperature data. \n",
    "\n",
    "instances = 1\n",
    "\n",
    "def notif_callback(uuid, data):\n",
    "    pair = (ble.bytearray_to_string(data)).split('|')\n",
    "    \n",
    "    global instances\n",
    "    print(\"Sample \" + str(instances) + \" at \" + pair[0] + \" is \" + pair[1])\n",
    "    instances += 1\n",
    "    \n",
    "    if round(time.time()*1000) - start_time > 5000:\n",
    "        ble.stop_notify(ble.uuid['RX_STRING'])    \n",
    "\n",
    "ble.start_notify(ble.uuid['RX_STRING'], notif_callback)\n",
    "ble.send_command(CMD.GET_TEMP_5s_RAPID, \"\")\n",
    "        \n",
    "start_time = round(time.time()*1000)\n",
    "rapid_temp_notif_handler()\n",
    "    \n"
   ]
  },
  {
   "cell_type": "code",
   "execution_count": 55,
   "metadata": {
    "tags": []
   },
   "outputs": [],
   "source": [
    "ble.stop_notify(ble.uuid['RX_STRING'])"
   ]
  },
  {
   "cell_type": "code",
   "execution_count": null,
   "metadata": {},
   "outputs": [],
   "source": []
  }
 ],
 "metadata": {
  "kernelspec": {
   "display_name": "Python 3",
   "language": "python",
   "name": "python3"
  },
  "language_info": {
   "codemirror_mode": {
    "name": "ipython",
    "version": 3
   },
   "file_extension": ".py",
   "mimetype": "text/x-python",
   "name": "python",
   "nbconvert_exporter": "python",
   "pygments_lexer": "ipython3",
   "version": "3.7.6"
  },
  "vscode": {
   "interpreter": {
    "hash": "31f2aee4e71d21fbe5cf8b01ff0e069b9275f58929596ceb00d14d90e3e16cd6"
   }
  }
 },
 "nbformat": 4,
 "nbformat_minor": 4
}
