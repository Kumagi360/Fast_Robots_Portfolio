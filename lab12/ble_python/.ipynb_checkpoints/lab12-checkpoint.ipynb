{
 "cells": [
  {
   "cell_type": "code",
   "execution_count": 2,
   "id": "76cf5253-0aa1-4961-97b2-a3207a6f017a",
   "metadata": {
    "tags": []
   },
   "outputs": [],
   "source": [
    "%load_ext autoreload\n",
    "%autoreload 2\n",
    "\n",
    "from ble import get_ble_controller\n",
    "from base_ble import LOG\n",
    "from cmd_types import CMD\n",
    "import time\n",
    "import numpy as np\n",
    "\n",
    "LOG.propagate = False\n",
    "\n",
    "from matplotlib import pyplot as plt\n",
    "import random\n",
    "import numpy as np"
   ]
  },
  {
   "cell_type": "code",
   "execution_count": 14,
   "id": "64992db1-9eff-4e96-803b-70a496af7a25",
   "metadata": {
    "tags": []
   },
   "outputs": [
    {
     "name": "stdout",
     "output_type": "stream",
     "text": [
      "2023-05-16 17:59:52,404 |\u001b[32m INFO     \u001b[0m|: Looking for Artemis Nano Peripheral Device: C0:83:D5:66:86:3C\n",
      "2023-05-16 17:59:55,003 |\u001b[32m INFO     \u001b[0m|: Connected to C0:83:D5:66:86:3C\n"
     ]
    }
   ],
   "source": [
    "# connect to Artemis\n",
    "    \n",
    "# Get ArtemisBLEController object\n",
    "ble = get_ble_controller()\n",
    "\n",
    "# Connect to the Artemis Device\n",
    "ble.connect()"
   ]
  },
  {
   "cell_type": "code",
   "execution_count": 17,
   "id": "2d88962a-3403-444f-a519-8c101aa8c4f3",
   "metadata": {
    "tags": []
   },
   "outputs": [
    {
     "name": "stdout",
     "output_type": "stream",
     "text": [
      "PONG\n"
     ]
    }
   ],
   "source": [
    "# test sending and receiving\n",
    "\n",
    "ble.send_command(CMD.PING, \"\")\n",
    "\n",
    "s = ble.receive_string(ble.uuid['RX_STRING'])\n",
    "print(s)"
   ]
  },
  {
   "cell_type": "code",
   "execution_count": 20,
   "id": "7781c2f8-222c-4ce2-92a5-f33f4a9fe838",
   "metadata": {
    "tags": []
   },
   "outputs": [],
   "source": [
    "# L12 --- PID to given angular velocity and read and aggregate time, pitch, roll, yaw, TOF#1, TOF#2, leftPWM, rightPWM\n",
    "\n",
    "def fft_callback(uuid, data):\n",
    "    \n",
    "    reading = (ble.bytearray_to_string(data)).split('|')\n",
    "    #print(reading)\n",
    "    \n",
    "    for count in range(entries):\n",
    "        try:\n",
    "            nextPos = count*7\n",
    "            time.append((reading[nextPos]))\n",
    "            target.append((reading[nextPos+1]))\n",
    "            error.append((reading[nextPos+2]))\n",
    "            yaw.append((reading[nextPos+3]))\n",
    "            ONEDist.append((reading[nextPos+4]))\n",
    "            rawY.append((reading[nextPos+5]))\n",
    "            speed.append((reading[nextPos+6]))\n",
    "        except (IndexError,ValueError):\n",
    "            continue\n",
    "        \n",
    "    \n",
    "entries = 3\n",
    "time = []\n",
    "target = []\n",
    "error = []\n",
    "yaw = []\n",
    "ONEDist = []\n",
    "rawY = []\n",
    "speed = []\n",
    "\n",
    "ble.start_notify(ble.uuid['RX_STRING'], fft_callback)\n",
    "ble.send_command(CMD.L12, \"3\")"
   ]
  },
  {
   "cell_type": "code",
   "execution_count": 19,
   "id": "3fbd9274-d028-422f-8633-985559c816ab",
   "metadata": {
    "tags": []
   },
   "outputs": [],
   "source": [
    "# stop notifications from this characteristic\n",
    "\n",
    "ble.stop_notify(ble.uuid['RX_STRING'])"
   ]
  }
 ],
 "metadata": {
  "kernelspec": {
   "display_name": "Python 3 (ipykernel)",
   "language": "python",
   "name": "python3"
  },
  "language_info": {
   "codemirror_mode": {
    "name": "ipython",
    "version": 3
   },
   "file_extension": ".py",
   "mimetype": "text/x-python",
   "name": "python",
   "nbconvert_exporter": "python",
   "pygments_lexer": "ipython3",
   "version": "3.9.6"
  }
 },
 "nbformat": 4,
 "nbformat_minor": 5
}
