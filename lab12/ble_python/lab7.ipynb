{
 "cells": [
  {
   "cell_type": "code",
   "execution_count": 1,
   "id": "35db1299",
   "metadata": {
    "tags": []
   },
   "outputs": [],
   "source": [
    "%load_ext autoreload\n",
    "%autoreload 2\n",
    "\n",
    "from ble import get_ble_controller\n",
    "from base_ble import LOG\n",
    "from cmd_types import CMD\n",
    "import time\n",
    "import numpy as np\n",
    "\n",
    "LOG.propagate = False\n",
    "\n",
    "from matplotlib import pyplot as plt\n",
    "import random\n",
    "import numpy as np"
   ]
  },
  {
   "cell_type": "code",
   "execution_count": null,
   "id": "079f7e9e",
   "metadata": {
    "tags": []
   },
   "outputs": [
    {
     "name": "stdout",
     "output_type": "stream",
     "text": [
      "2023-05-06 15:55:42,402 |\u001b[32m INFO     \u001b[0m|: Looking for Artemis Nano Peripheral Device: C0:83:D5:66:86:3C\n",
      "2023-05-06 15:55:48,914 |\u001b[32m INFO     \u001b[0m|: Connected to C0:83:D5:66:86:3C\n"
     ]
    }
   ],
   "source": [
    "# connect to Artemis\n",
    "\n",
    "# Get ArtemisBLEController object\n",
    "ble = get_ble_controller()\n",
    "\n",
    "# Connect to the Artemis Device\n",
    "ble.connect()"
   ]
  },
  {
   "cell_type": "code",
   "execution_count": 38,
   "id": "f0c20309",
   "metadata": {
    "tags": []
   },
   "outputs": [
    {
     "name": "stdout",
     "output_type": "stream",
     "text": [
      "PONG\n"
     ]
    }
   ],
   "source": [
    "# test sending and receiving\n",
    "\n",
    "ble.send_command(CMD.PING, \"\")\n",
    "\n",
    "s = ble.receive_string(ble.uuid['RX_STRING'])\n",
    "print(s)"
   ]
  },
  {
   "cell_type": "code",
   "execution_count": 47,
   "id": "06dcedbe",
   "metadata": {},
   "outputs": [
    {
     "name": "stdout",
     "output_type": "stream",
     "text": [
      "2023-05-05 15:24:48,526 |\u001b[32m INFO     \u001b[0m|: Disconnected from AB6C95E9-A4ED-4F7A-B208-0AFEAFDDA3AD\n"
     ]
    }
   ],
   "source": [
    "# disconnect from Artemis\n",
    "ble.disconnect()"
   ]
  },
  {
   "cell_type": "code",
   "execution_count": 13,
   "id": "eea30da1",
   "metadata": {
    "tags": []
   },
   "outputs": [],
   "source": [
    "# STATIC --- read and aggregate time, pitch, roll, yaw, TOF#1, TOF#2, leftPWM, rightPWM\n",
    "\n",
    "def fft_callback(uuid, data):\n",
    "    \n",
    "    reading = (ble.bytearray_to_string(data)).split('|')\n",
    "    #print(reading)\n",
    "    \n",
    "    for count in range(entries):\n",
    "        try:\n",
    "            nextPos = count*8\n",
    "            time.append((reading[nextPos]))\n",
    "            pitchC.append((reading[nextPos+1]))\n",
    "            rollC.append((reading[nextPos+2]))\n",
    "            yaw.append((reading[nextPos+3]))\n",
    "            ONEDist.append((reading[nextPos+4]))\n",
    "            TWODist.append((reading[nextPos+5]))\n",
    "            leftPWM.append((reading[nextPos+6]))\n",
    "            rightPWM.append((reading[nextPos+7]))\n",
    "        except (IndexError,ValueError):\n",
    "            continue\n",
    "        \n",
    "    \n",
    "entries = 3\n",
    "time = []\n",
    "pitchC = []\n",
    "rollC = []\n",
    "yaw = []\n",
    "ONEDist = []\n",
    "TWODist = []\n",
    "leftPWM = []\n",
    "rightPWM = []\n",
    "\n",
    "ble.start_notify(ble.uuid['RX_STRING'], fft_callback)\n",
    "ble.send_command(CMD.TIMED_PID_DATA, \"\")"
   ]
  },
  {
   "cell_type": "code",
   "execution_count": 17,
   "id": "4b6262f9",
   "metadata": {
    "tags": []
   },
   "outputs": [],
   "source": [
    "ble.send_command(CMD.UPDATE_KP, \"0.25\")"
   ]
  },
  {
   "cell_type": "code",
   "execution_count": 23,
   "id": "21cbc473",
   "metadata": {
    "tags": []
   },
   "outputs": [],
   "source": [
    "# MOTION --- PID to given distance and read and aggregate time, pitch, roll, yaw, TOF#1, TOF#2, leftPWM, rightPWM\n",
    "\n",
    "def fft_callback(uuid, data):\n",
    "    \n",
    "    reading = (ble.bytearray_to_string(data)).split('|')\n",
    "    #print(reading)\n",
    "    \n",
    "    for count in range(entries):\n",
    "        try:\n",
    "            nextPos = count*7\n",
    "            time.append((reading[nextPos]))\n",
    "            pitchC.append((reading[nextPos+1]))\n",
    "            rollC.append((reading[nextPos+2]))\n",
    "            yaw.append((reading[nextPos+3]))\n",
    "            ONEDist.append((reading[nextPos+4]))\n",
    "            error.append((reading[nextPos+5]))\n",
    "            speed.append((reading[nextPos+6]))\n",
    "        except (IndexError,ValueError):\n",
    "            continue\n",
    "        \n",
    "    \n",
    "entries = 3\n",
    "time = []\n",
    "pitchC = []\n",
    "rollC = []\n",
    "yaw = []\n",
    "ONEDist = []\n",
    "error = []\n",
    "speed = []\n",
    "\n",
    "ble.start_notify(ble.uuid['RX_STRING'], fft_callback)\n",
    "ble.send_command(CMD.TOF_PID, \"304\")"
   ]
  },
  {
   "cell_type": "code",
   "execution_count": 33,
   "id": "d27dcba8",
   "metadata": {
    "tags": []
   },
   "outputs": [],
   "source": [
    "# STEP --- PID to given distance and read and aggregate time, pitch, roll, yaw, TOF#1, TOF#2, leftPWM, rightPWM\n",
    "\n",
    "def fft_callback(uuid, data):\n",
    "    \n",
    "    reading = (ble.bytearray_to_string(data)).split('|')\n",
    "    #print(reading)\n",
    "    \n",
    "    for count in range(entries):\n",
    "        try:\n",
    "            nextPos = count*7\n",
    "            time.append((reading[nextPos]))\n",
    "            pitchC.append((reading[nextPos+1]))\n",
    "            rollC.append((reading[nextPos+2]))\n",
    "            yaw.append((reading[nextPos+3]))\n",
    "            ONEDist.append((reading[nextPos+4]))\n",
    "            error.append((reading[nextPos+5]))\n",
    "            speed.append((reading[nextPos+6]))\n",
    "        except (IndexError,ValueError):\n",
    "            continue\n",
    "        \n",
    "    \n",
    "entries = 3\n",
    "time = []\n",
    "pitchC = []\n",
    "rollC = []\n",
    "yaw = []\n",
    "ONEDist = []\n",
    "error = []\n",
    "speed = []\n",
    "\n",
    "ble.start_notify(ble.uuid['RX_STRING'], fft_callback)\n",
    "ble.send_command(CMD.STEP, \"\")"
   ]
  },
  {
   "cell_type": "code",
   "execution_count": 32,
   "id": "1231de0f",
   "metadata": {
    "tags": []
   },
   "outputs": [],
   "source": [
    "# stop notifications from this characteristic\n",
    "\n",
    "ble.stop_notify(ble.uuid['RX_STRING'])"
   ]
  },
  {
   "cell_type": "code",
   "execution_count": 26,
   "id": "b4a4c4af",
   "metadata": {
    "tags": []
   },
   "outputs": [
    {
     "name": "stdout",
     "output_type": "stream",
     "text": [
      "['1888', '1888', '1888', '1888', '1888', '1879', '1879', '1879', '1879', '1892', '1892', '1892', '1892', '1892', '1902', '1902', '1902', '1910', '1910', '1910', '1910', '1936', '1936', '1936', '1936', '1936', '1933', '1933', '1933', '1933', '1943', '1943', '1943', '1985', '1985', '1985', '1985', '1985', '1995', '1995', '1995', '1995', '2048', '2048', '2048', '2046', '2046', '2046', '2122', '2122', '2122', '2144', '2144', '2144', '2190', '2190', '2190', '2247', '2247', '2247', '2247', '2247', '2279', '2279', '2279', '0', '0', '0', '0', '0', '0', '0', '0', '0', '0', '0', '0', '0', '0', '0', '0', '0', '0', '0', '0', '0', '0', '0', '0', '0', '0', '0', '0', '0', '0', '0', '0', '0', '0', '330', '330', '330', '330', '330', '330', '193', '193', '193', '193', '193', '259', '259', '259', '259', '259', '364', '364', '364', '364', '364', '496', '496', '496', '496', '565', '565', '565', '565', '565', '662', '662', '662', '698', '698', '698', '698', '681', '681', '681', '431', '431', '431', '401', '401', '401', '401', '401', '429', '429', '429', '480', '480', '480', '483', '483', '483', '483', '483', '483', '767', '767', '767', '767', '767', '767', '743', '743', '743', '743', '743', '743', '765', '765', '765', '765', '765', '765', '770', '770', '770', '770', '770', '770', '753', '753', '753', '753', '753', '753', '801', '801', '801', '709', '709', '709', '709', '760', '760', '760', '760', '760', '742', '742', '742', '742', '742', '742', '777', '777', '777', '452', '452', '452', '452', '452', '452', '746', '746', '746', '746', '746', '746', '770', '770', '770', '770', '770', '770', '700', '700', '700', '700', '699', '699', '699', '699', '699', '687', '687', '687', '687', '758', '758', '758', '758', '758', '736', '736', '736', '736', '425', '425', '773', '378', '378', '378', '378', '378', '761', '761', '761', '761', '761', '761', '724', '724', '724', '724', '462', '462', '755', '755', '755', '478', '478', '478', '478', '478', '478', '771', '771', '771', '771', '764', '764', '764', '764', '764', '720', '720', '720', '720', '720', '720', '742', '742', '376', '376', '376', '376', '709', '709', '709', '412', '412', '412', '447', '447', '447', '447', '447', '447', '742', '742', '742', '453', '453', '453', '453', '453', '453', '755', '755', '755', '755', '721', '721', '721', '426', '426', '426', '426', '426', '785', '785', '785', '438', '438', '438', '438', '438', '438', '737', '737', '737', '472', '472', '472', '460', '460', '460', '460', '460', '741', '476', '476', '476', '476', '476', '476', '852', '852', '852', '706', '706', '706', '706', '706', '706', '259', '259', '259', '259', '259', '48', '48', '48', '48', '705', '705', '705', '705', '705', '705', '491', '491', '491', '491', '491', '491', '428', '428', '428', '428', '428', '428', '476', '476', '476', '476', '476', '476', '617', '617', '617', '617', '617', '617', '610', '610', '610', '610', '610', '542', '542', '542', '542', '542', '455', '455', '455', '455', '455', '364', '364', '364', '364', '364', '364', '311', '311', '311', '257', '257', '257', '257', '257', '257']\n"
     ]
    }
   ],
   "source": [
    "print(ONEDist)"
   ]
  },
  {
   "cell_type": "code",
   "execution_count": 15,
   "id": "034766e9",
   "metadata": {
    "tags": []
   },
   "outputs": [
    {
     "data": {
      "text/plain": [
       "<matplotlib.legend.Legend at 0x7f97a6f93110>"
      ]
     },
     "execution_count": 15,
     "metadata": {},
     "output_type": "execute_result"
    },
    {
     "data": {
      "image/png": "[encoded data removed]",
      "text/plain": [
       "<Figure size 640x480 with 1 Axes>"
      ]
     },
     "metadata": {},
     "output_type": "display_data"
    }
   ],
   "source": [
    "# Plot distance measurement data\n",
    "\n",
    "intDist = [eval(i) for i in ONEDist]\n",
    "#intDist = speed\n",
    "intTime = [eval(t)/1000 for t in time]\n",
    "plt.scatter(intTime, intDist, label = \"PWM Speed\")\n",
    "\n",
    "plt.title(\"Time vs PWM Speed\")\n",
    "plt.xlabel(\"Time (s)\")\n",
    "plt.ylabel(\"PWM Speed\")\n",
    "plt.legend(loc='upper center', bbox_to_anchor=(0.5, -0.2),\n",
    "          fancybox=True, shadow=True, ncol=5)\n"
   ]
  },
  {
   "cell_type": "code",
   "execution_count": 22,
   "id": "e26aac71",
   "metadata": {
    "tags": []
   },
   "outputs": [
    {
     "name": "stdout",
     "output_type": "stream",
     "text": [
      "['0', '0', '0', '1134', '1134', '1134', '1134', '1135', '1135', '1135', '1127', '1127', '1127', '1114', '1114', '1101', '1101', '1101', '1081', '1081', '1081', '1062', '1062', '1062', '1037', '1037', '1037', '1037', '1009', '1009', '1009', '977', '977', '977', '946', '946', '946', '946', '946', '916', '916', '916', '877', '877', '877', '823', '823', '823', '787', '787', '787', '787', '746', '746', '707', '707', '707', '668', '668', '668', '668', '628', '628', '628', '585', '585', '585', '551', '551', '551', '514', '514', '514', '514', '479', '479', '479', '479', '438', '438', '438', '396', '396', '396', '364', '364', '335', '335', '308', '308', '308', '308', '308', '308', '308', '285', '285', '285', '285', '262', '262', '262', '262', '250', '250', '250', '250', '238', '238', '238', '238', '225', '225', '225', '214', '214', '214', '214', '207', '207', '207', '202', '202', '202', '197', '197', '197', '197', '199', '199', '199', '197', '197', '197', '200', '200', '200', '200', '199', '199', '199', '197', '197', '197', '200', '200', '200', '198', '198', '198', '196', '196', '196', '200', '200', '200', '198', '198', '198', '197', '197', '197', '197', '200', '200', '200', '199', '199', '199', '199', '199', '199', '200', '200', '200', '200', '198', '198', '198', '198', '197', '197', '197', '198', '198', '198', '198', '198', '198', '198', '198', '198', '198', '198', '198', '198', '198', '196', '196', '196', '197', '197', '197', '197', '198', '198', '198', '197', '197', '197', '197', '197', '197', '197', '198', '198', '198', '198', '197', '197', '197', '198', '198', '198', '197', '197', '197', '197', '197', '197', '197', '198', '198', '198', '198', '198', '198', '198', '198', '198', '198', '198', '198', '199', '199', '199', '198', '198', '198', '198', '198', '198', '198', '198', '198', '198', '198', '198', '197', '197', '197', '195', '195', '195', '199', '199', '199', '196', '196', '196', '196', '196', '199', '199', '199', '199', '197', '197', '197', '197', '197', '197', '197', '197', '197', '197', '197', '197', '198', '198', '198', '199', '199', '199', '198', '198', '198', '196', '196', '196', '196', '196', '196']\n",
      "[1134 1134 1134 1134 1135 1135 1135 1127 1127 1127 1114 1114 1101 1101\n",
      " 1101 1081 1081 1081 1062 1062 1062 1037 1037 1037 1037 1009 1009 1009\n",
      "  977  977  977  946  946  946  946  946  916  916  916  877  877  877\n",
      "  823  823  823  787  787  787  787  746  746  707  707  707  668  668\n",
      "  668  668  628  628  628  585  585  585  551  551  551  514  514  514\n",
      "  514  479  479  479  479  438  438  438  396  396  396  364  364  335\n",
      "  335  308  308  308  308  308  308  308  285  285  285  285  262  262\n",
      "  262  262  250  250  250  250  238  238  238  238  225  225  225  214\n",
      "  214  214  214  207  207  207  202  202  202  197  197  197  197  199\n",
      "  199  199  197  197  197  200  200  200  200  199  199  199  197  197\n",
      "  197  200  200  200  198  198  198  196  196  196  200  200  200  198\n",
      "  198  198  197  197  197  197  200  200  200  199  199  199  199  199\n",
      "  199  200  200  200  200  198  198  198  198  197  197  197  198  198\n",
      "  198  198  198  198  198  198  198  198  198  198  198  198  196  196\n",
      "  196  197  197  197  197  198  198  198  197  197  197  197  197  197\n",
      "  197  198  198  198  198  197  197  197  198  198  198  197  197  197\n",
      "  197  197  197  197  198  198  198  198  198  198  198  198  198  198\n",
      "  198  198  199  199  199  198  198  198  198  198  198  198  198  198\n",
      "  198  198  198  197  197  197  195  195  195  199  199  199  196  196\n",
      "  196  196  196  199  199  199  199  197  197  197  197  197  197  197\n",
      "  197  197  197  197  197  198  198  198  199  199  199  198  198  198\n",
      "  196  196  196  196  196  196]\n",
      "92106.6324\n"
     ]
    }
   ],
   "source": [
    "print(ONEDist)\n",
    "intDist = []\n",
    "\n",
    "for pos in range(len(ONEDist)):\n",
    "    if ONEDist[pos] != '0':\n",
    "        intDist.append(int(ONEDist[pos]))\n",
    "\n",
    "intDist = np.array(intDist)\n",
    "\n",
    "print(intDist)\n",
    "print(np.var(intDist))\n"
   ]
  },
  {
   "cell_type": "code",
   "execution_count": 354,
   "id": "7a42b4b9",
   "metadata": {
    "tags": []
   },
   "outputs": [
    {
     "name": "stdout",
     "output_type": "stream",
     "text": [
      "[0.0, 0.0, 0.0, 0.0, 0.0, 0.0, 0.0, 0.0, 0.0, 0.0, 0.0, 0.0, 0.0, 0.0, 0.0, 0.0, 0.0, 0.0, 0.0, 0.0, -97086.95652173914, 0.0, 0.0, 0.0, 0.0, 0.0, 0.0, -5500.0, 0.0, -83807.69230769231, 0.0, 0.0, 0.0, 0.0, 0.0, 0.0, -351333.3333333333, 0.0, 0.0, 0.0, 0.0, 0.0, 0.0, 0.0, 0.0, -8800.0, 0.0, 0.0, 0.0, 0.0, 0.0, 0.0, 0.0, -565.2173913043479, 0.0, 0.0, -1526.3157894736842, 0.0, 0.0, -40277.77777777778, 0.0, 0.0, 0.0, 0.0, 0.0, -2400.0, 0.0, 0.0, 0.0, 0.0, 0.0, -79592.5925925926, 0.0, 0.0, 0.0, 0.0, 0.0, 0.0, 0.0, 0.0, -6060.60606060606, 0.0, 0.0, 0.0, 0.0, 0.0, -11526.315789473685, 0.0, 0.0, -95650.0, 0.0, 0.0, 0.0, 0.0, 0.0, 0.0, 0.0, 0.0, 0.0, -1375.0, 0.0, 0.0, -33333.333333333336, 0.0, -1156.25, 0.0, 0.0, 0.0, -22555.55555555556, 0.0, 0.0, 0.0, 0.0, 0.0, 0.0, -65375.0, 0.0, 0.0, 0.0, 0.0, 0.0, 0.0, -7347.826086956522, 0.0, 0.0, 0.0, 0.0, 0.0, -3518.5185185185187, 0.0, 0.0, -2565.217391304348, 0.0, 0.0, -3258.064516129032, 0.0, 0.0, -3263.157894736842, 0.0, 0.0, -1076.923076923077, 0.0, 0.0, 0.0, 0.0, 0.0, 0.0, 0.0, 0.0, -17642.85714285714, 0.0, 0.0, 0.0, 0.0, 0.0, 0.0, -41571.42857142857, 0.0, 0.0, 0.0, 0.0, 0.0, 0.0, 0.0, 0.0, 0.0, 0.0, -1634.6153846153848, 0.0, 0.0, 0.0, 0.0, 0.0, -49733.333333333336, 0.0, 0.0, 0.0, 0.0, 0.0, 0.0, 0.0, 0.0, 0.0, 0.0, -30571.428571428572, 0.0, 0.0, 0.0, 0.0, 0.0, 0.0, -7157.894736842106, 0.0, 0.0, -1708.3333333333333, 0.0, 0.0, 0.0, -9666.666666666668, 0.0, 0.0, -9500.0, 0.0, -1651.1627906976746, 0.0, 0.0, -3472.2222222222226, 0.0, 0.0, -740.1574803149606, -58500.0, 0.0, 0.0, 0.0, 0.0, -7133.333333333334, 0.0, 0.0, 0.0, 0.0, 0.0, -2487.80487804878, 0.0, 0.0, -1878.0487804878048, 0.0, 0.0, -3000.0, 0.0, 0.0, 0.0, 0.0, -12125.0, 0.0, 0.0, 0.0, -6000.0, 0.0, 0.0, 0.0, 0.0, 0.0, -4400.0, 0.0, 0.0, -4000.0, 0.0, 0.0, 0.0, 0.0, 0.0, -4066.666666666667, 0.0, 0.0, 0.0, 0.0, 0.0, -10266.666666666668, 0.0, 0.0, -2923.076923076923, 0.0, 0.0, -1023.8095238095237, 0.0, 0.0, 0.0, 0.0, 0.0, 0.0, 0.0, 0.0, 0.0, 0.0, 0.0, 0.0, 0.0, 0.0, 0.0, 0.0, 0.0, 0.0, 0.0, 0.0, 0.0, 0.0, 0.0, 0.0, 0.0, 0.0, 0.0, 0.0, 0.0, 0.0, 0.0, 0.0, 0.0, 0.0, 0.0, 0.0, 0.0, 0.0, 0.0, 0.0, 0.0, 0.0, 0.0, 0.0, 0.0, 0.0, 0.0, 0.0, 0.0, 0.0, 0.0, 0.0, 0.0, -90.9090909090909, 0.0, 0.0, 0.0, 0.0, 0.0, 0.0, 0.0, 0.0, -125.0, 0.0, 0.0, 0.0, 0.0, 0.0, 0.0, 0.0, 0.0, 0.0, 0.0, 0.0, 0.0, 0.0, 0.0, 0.0, 0.0, 0.0, 0.0, 0.0, 0.0, 0.0, 0.0, 0.0, 0.0, 0.0, 0.0, 0.0, -111.11111111111111, 0.0, 0.0, 0.0, 0.0, 0.0, 0.0, 0.0, 0.0, 0.0, 0.0, 0.0, 0.0, 0.0, 0.0, 0.0, 0.0, -41.666666666666664, 0.0, 0.0, 0.0, 0.0, -166.66666666666666, 0.0, 0.0, 0.0, 0.0, 0.0, 0.0, 0.0, 0.0, 0.0, 0.0, 0.0, 0.0, 0.0, 0.0, 0.0, 0.0, 0.0, 0.0, 0.0, 0.0, 0.0, 0.0, 0.0, 0.0, 0.0, 0.0, 0.0, 0.0, 0.0, 0.0, 0.0]\n"
     ]
    }
   ],
   "source": [
    "dt = [0.0]\n",
    "dx = [0.0]\n",
    "computedSpeed = []\n",
    "\n",
    "for stamp in range(1, len(time)):\n",
    "    if float(time[stamp] == 0) or float(time[stamp - 1] == 0): continue\n",
    "    dt.append((float(time[stamp]) - float(time[stamp - 1]))/1000)\n",
    "    changePos = (float(ONEDist[stamp]) - float(ONEDist[stamp - 1]))\n",
    "    if changePos > 0: changePos = 0\n",
    "    dx.append(changePos)\n",
    "    \n",
    "    \n",
    "computedSpeed = [dx[pos]/dt[pos] for pos in range(1, len(dt))]\n",
    "computedSpeed.append(0.0)\n",
    "    \n",
    "print(computedSpeed)"
   ]
  },
  {
   "cell_type": "code",
   "execution_count": 1,
   "id": "bd0f01fc",
   "metadata": {
    "tags": []
   },
   "outputs": [
    {
     "ename": "NameError",
     "evalue": "name 'dt' is not defined",
     "output_type": "error",
     "traceback": [
      "\u001b[0;31m---------------------------------------------------------------------------\u001b[0m",
      "\u001b[0;31mNameError\u001b[0m                                 Traceback (most recent call last)",
      "\u001b[0;32m/var/folders/nj/jnzf5kq57v5dz7q_7msqh2vm0000gn/T/ipykernel_1199/2291692696.py\u001b[0m in \u001b[0;36m<module>\u001b[0;34m\u001b[0m\n\u001b[0;32m----> 1\u001b[0;31m \u001b[0mprint\u001b[0m\u001b[0;34m(\u001b[0m\u001b[0mlen\u001b[0m\u001b[0;34m(\u001b[0m\u001b[0mdt\u001b[0m\u001b[0;34m)\u001b[0m\u001b[0;34m)\u001b[0m\u001b[0;34m\u001b[0m\u001b[0;34m\u001b[0m\u001b[0m\n\u001b[0m",
      "\u001b[0;31mNameError\u001b[0m: name 'dt' is not defined"
     ]
    }
   ],
   "source": [
    "print(len(dt))"
   ]
  },
  {
   "cell_type": "code",
   "execution_count": 77,
   "id": "b1aaac24",
   "metadata": {
    "tags": []
   },
   "outputs": [],
   "source": [
    "computedSpeed = np.gradient(np.array(forwardDist, dtype = float), np.array(dt, dtype = float))"
   ]
  },
  {
   "cell_type": "code",
   "execution_count": 397,
   "id": "6554f129",
   "metadata": {
    "tags": []
   },
   "outputs": [
    {
     "data": {
      "text/plain": [
       "<matplotlib.legend.Legend at 0x7f8b613e1890>"
      ]
     },
     "execution_count": 397,
     "metadata": {},
     "output_type": "execute_result"
    },
    {
     "data": {
      "image/png": "[encoded data removed]",
      "text/plain": [
       "<Figure size 640x480 with 1 Axes>"
      ]
     },
     "metadata": {},
     "output_type": "display_data"
    },
    {
     "name": "stdout",
     "output_type": "stream",
     "text": [
      "2023-05-06 00:50:34,424 |\u001b[32m INFO     \u001b[0m|: Disconnected from AB6C95E9-A4ED-4F7A-B208-0AFEAFDDA3AD\n"
     ]
    }
   ],
   "source": [
    "# Plot distance measurement data\n",
    "\n",
    "intDist = [eval(i) for i in speed]\n",
    "intTime = [eval(t)/1000 for t in time]\n",
    "#intDist = computedSpeed\n",
    "plt.scatter(intTime, intDist, label = \"Measured Distance\")\n",
    "\n",
    "plt.title(\"Time vs Measured Distance\")\n",
    "plt.xlabel(\"Time (s)\")\n",
    "plt.ylabel(\"Measured Distance (mm)\")\n",
    "plt.legend(loc='upper center', bbox_to_anchor=(0.5, -0.2),\n",
    "          fancybox=True, shadow=True, ncol=5)\n",
    "# plt.ylim((0,-6000))\n"
   ]
  },
  {
   "cell_type": "code",
   "execution_count": 338,
   "id": "79d5accc",
   "metadata": {
    "tags": []
   },
   "outputs": [
    {
     "name": "stdout",
     "output_type": "stream",
     "text": [
      "[[1.         0.0122    ]\n",
      " [0.         0.97753993]]\n",
      "[[ 0.        ]\n",
      " [43.10954064]]\n",
      "[[-1  0]]\n"
     ]
    },
    {
     "ename": "NameError",
     "evalue": "name 'd1' is not defined",
     "output_type": "error",
     "traceback": [
      "\u001b[0;31m---------------------------------------------------------------------------\u001b[0m",
      "\u001b[0;31mNameError\u001b[0m                                 Traceback (most recent call last)",
      "\u001b[0;32m/var/folders/nj/jnzf5kq57v5dz7q_7msqh2vm0000gn/T/ipykernel_2140/36148592.py\u001b[0m in \u001b[0;36m<module>\u001b[0;34m\u001b[0m\n\u001b[1;32m     28\u001b[0m \u001b[0;34m\u001b[0m\u001b[0m\n\u001b[1;32m     29\u001b[0m \u001b[0;31m# initial states\u001b[0m\u001b[0;34m\u001b[0m\u001b[0;34m\u001b[0m\u001b[0;34m\u001b[0m\u001b[0m\n\u001b[0;32m---> 30\u001b[0;31m \u001b[0mx\u001b[0m \u001b[0;34m=\u001b[0m \u001b[0mnp\u001b[0m\u001b[0;34m.\u001b[0m\u001b[0marray\u001b[0m\u001b[0;34m(\u001b[0m\u001b[0;34m[\u001b[0m\u001b[0;34m[\u001b[0m\u001b[0;34m-\u001b[0m\u001b[0md1\u001b[0m\u001b[0;34m[\u001b[0m\u001b[0;36m0\u001b[0m\u001b[0;34m]\u001b[0m\u001b[0;34m]\u001b[0m\u001b[0;34m,\u001b[0m\u001b[0;34m[\u001b[0m\u001b[0;36m0\u001b[0m\u001b[0;34m]\u001b[0m\u001b[0;34m]\u001b[0m\u001b[0;34m)\u001b[0m\u001b[0;34m\u001b[0m\u001b[0;34m\u001b[0m\u001b[0m\n\u001b[0m\u001b[1;32m     31\u001b[0m \u001b[0msig\u001b[0m \u001b[0;34m=\u001b[0m \u001b[0mnp\u001b[0m\u001b[0;34m.\u001b[0m\u001b[0marray\u001b[0m\u001b[0;34m(\u001b[0m\u001b[0;34m[\u001b[0m\u001b[0;34m[\u001b[0m\u001b[0;36m10\u001b[0m\u001b[0;34m,\u001b[0m\u001b[0;36m0\u001b[0m\u001b[0;34m]\u001b[0m\u001b[0;34m,\u001b[0m\u001b[0;34m[\u001b[0m\u001b[0;36m0\u001b[0m\u001b[0;34m,\u001b[0m\u001b[0;36m10\u001b[0m\u001b[0;34m]\u001b[0m\u001b[0;34m]\u001b[0m\u001b[0;34m)\u001b[0m\u001b[0;34m\u001b[0m\u001b[0;34m\u001b[0m\u001b[0m\n",
      "\u001b[0;31mNameError\u001b[0m: name 'd1' is not defined"
     ]
    }
   ],
   "source": []
  },
  {
   "cell_type": "code",
   "execution_count": 328,
   "id": "e6c2ae34",
   "metadata": {},
   "outputs": [],
   "source": []
  },
  {
   "cell_type": "code",
   "execution_count": 408,
   "id": "bbca80a2",
   "metadata": {
    "tags": []
   },
   "outputs": [],
   "source": [
    "intDist = []\n",
    "intPWM = []\n",
    "kf_output = []\n",
    "\n",
    "for item in range(len(ONEDist)):\n",
    "    intDist.append(int(ONEDist[item]))\n",
    "    intPWM.append(int(speed[item]))\n",
    "\n",
    "    "
   ]
  },
  {
   "cell_type": "code",
   "execution_count": 475,
   "id": "3ffac7a8",
   "metadata": {
    "tags": []
   },
   "outputs": [
    {
     "name": "stdout",
     "output_type": "stream",
     "text": [
      "[[1.         0.0122    ]\n",
      " [0.         0.97753993]]\n",
      "[[ 0.        ]\n",
      " [43.10954064]]\n",
      "[[1 0]]\n"
     ]
    }
   ],
   "source": [
    "# initializing Kalman Filter\n",
    "\n",
    "# sampling, drag, and momentum\n",
    "SecPerSample = 0.0122\n",
    "d = 0.000521\n",
    "m = 0.000283\n",
    "\n",
    "# A,B,C matrices and discretized \n",
    "A = np.array([[0,1],[0,-d/m]])\n",
    "B = np.array([[0],[1/m]])\n",
    "C = np.array([[1,0]])\n",
    "\n",
    "A_disc = np.eye(2) + SecPerSample * A\n",
    "B_disc = SecPerSample * B\n",
    "C=np.array([[1,0]])\n",
    "\n",
    "# ballpark variances, process variance\n",
    "posSigma = np.sqrt(10**2/SecPerSample)\n",
    "speedSigma = np.sqrt(10**2/SecPerSample)\n",
    "sensorSigma = 1.14\n",
    "\n",
    "sigma_u=np.array([[posSigma**2,0],[0,speedSigma**2]])\n",
    "sigma_z=np.array([[sensorSigma**2]])\n",
    "\n",
    "print(A_disc)\n",
    "print(B_disc)\n",
    "print(C)\n",
    "\n",
    "# initial states\n",
    "x = np.array([[-intDist[0]],[0]])\n",
    "sig = np.array([[10,0],[0,10]])"
   ]
  },
  {
   "cell_type": "code",
   "execution_count": 476,
   "id": "7427283f",
   "metadata": {
    "tags": []
   },
   "outputs": [],
   "source": [
    "def kf(x,u,sig,y):\n",
    "    \n",
    "    x_p = A_disc.dot(x) + B_disc.dot(u)                     \n",
    "    sig_p = A_disc.dot(sig.dot(A_disc.transpose())) + sigma_u \n",
    "    \n",
    "    y_m = y-C.dot(x_p)\n",
    "    sig_m = C.dot(sig_p.dot(C.transpose())) + sigma_z\n",
    "    \n",
    "    kf_gain = sig_p.dot(C.transpose().dot(np.linalg.inv(sig_m)))\n",
    "\n",
    "    x_n   = x_p + kf_gain.dot(y_m)\n",
    "    sig_n = (np.eye(2) - kf_gain.dot(C)).dot(sig_p)\n",
    "    return x_n, sig_n"
   ]
  },
  {
   "cell_type": "code",
   "execution_count": 477,
   "id": "cf6fc522",
   "metadata": {
    "tags": []
   },
   "outputs": [],
   "source": [
    "kf_output = []\n",
    "for dist, pwm in zip(intDist, intPWM):\n",
    "    x, sig = kf(x, pwm/120, sig, dist)\n",
    "    kf_output.append(x[0][0])"
   ]
  },
  {
   "cell_type": "code",
   "execution_count": 595,
   "id": "1242a69b",
   "metadata": {
    "tags": []
   },
   "outputs": [
    {
     "data": {
      "text/plain": [
       "<matplotlib.legend.Legend at 0x7f8b467b3b10>"
      ]
     },
     "execution_count": 595,
     "metadata": {},
     "output_type": "execute_result"
    },
    {
     "data": {
      "image/png": "[encoded data removed]",
      "text/plain": [
       "<Figure size 640x480 with 1 Axes>"
      ]
     },
     "metadata": {},
     "output_type": "display_data"
    }
   ],
   "source": [
    "# Plot distance measurement data\n",
    "intTime = [eval(t)/1000 for t in time]\n",
    "intDist = [eval(t) for t in speed]\n",
    "plt.scatter(intTime, intDist, label = \"PWM\")\n",
    "#plt.scatter(intTime, kf_output, label = \"Kalman Filtered\")\n",
    "\n",
    "plt.title(\"Time vs PWM\")\n",
    "plt.xlabel(\"Time (s)\")\n",
    "plt.ylabel(\"PWM\")\n",
    "plt.legend(loc='upper center', bbox_to_anchor=(0.5, -0.2),\n",
    "          fancybox=True, shadow=True, ncol=5)\n",
    "# plt.ylim((0,-6000))\n"
   ]
  },
  {
   "cell_type": "code",
   "execution_count": 47,
   "id": "5de22f9b",
   "metadata": {
    "tags": []
   },
   "outputs": [],
   "source": [
    "# KF --- PID to given distance and read and aggregate time, pitch, roll, yaw, TOF#1, TOF#2, leftPWM, rightPWM\n",
    "\n",
    "def fft_callback(uuid, data):\n",
    "    \n",
    "    reading = (ble.bytearray_to_string(data)).split('|')\n",
    "    #print(reading)\n",
    "    \n",
    "    for count in range(entries):\n",
    "        try:\n",
    "            nextPos = count*7\n",
    "            time.append((reading[nextPos]))\n",
    "            pitchC.append((reading[nextPos+1]))\n",
    "            rollC.append((reading[nextPos+2]))\n",
    "            yaw.append((reading[nextPos+3]))\n",
    "            ONEDist.append((reading[nextPos+4]))\n",
    "            kfdist.append((reading[nextPos+5]))\n",
    "            speed.append((reading[nextPos+6]))\n",
    "        except (IndexError,ValueError):\n",
    "            continue\n",
    "        \n",
    "    \n",
    "entries = 3\n",
    "time = []\n",
    "pitchC = []\n",
    "rollC = []\n",
    "yaw = []\n",
    "ONEDist = []\n",
    "kfdist = []\n",
    "speed = []\n",
    "\n",
    "ble.start_notify(ble.uuid['RX_STRING'], fft_callback)\n",
    "ble.send_command(CMD.KF_PID, \"304\")"
   ]
  },
  {
   "cell_type": "code",
   "execution_count": 46,
   "id": "4d70b69e",
   "metadata": {
    "tags": []
   },
   "outputs": [],
   "source": [
    "# stop notifications from this characteristic\n",
    "\n",
    "ble.stop_notify(ble.uuid['RX_STRING'])"
   ]
  },
  {
   "cell_type": "code",
   "execution_count": 49,
   "id": "7b4a8785",
   "metadata": {
    "tags": []
   },
   "outputs": [
    {
     "name": "stdout",
     "output_type": "stream",
     "text": [
      "['0', '0', '0', '0', '0', '0', '0', '0', '0', '0', '0', '0', '0', '0', '0', '0', '0', '0', '0', '0', '0', '0', '0', '0', '0', '0', '0', '0', '0', '0', '0', '0', '0', '0', '0', '0', '0', '0', '0', '0', '0', '0', '0', '0', '0', '0', '0', '0', '0', '0', '0', '0', '0', '0', '0', '0', '0', '0', '0', '0', '0', '0', '0', '0', '0', '0', '0', '0', '0', '0', '0', '0', '0', '0', '0', '0', '0', '0', '0', '0', '0', '0', '0', '0', '0', '0', '0', '0', '0', '0', '0', '0', '0', '0', '0', '0', '0', '0', '0', '0', '0', '0', '0', '0', '0', '0', '0', '0', '0', '0', '0', '0', '0', '0', '0', '0', '0', '0', '0', '0', '0', '0', '0', '0', '0', '0', '0', '0', '0', '0', '0', '0', '0', '0', '0', '0', '0', '0', '0', '0', '0', '0', '0', '0', '0', '0', '0', '0', '0', '0', '0', '0', '0', '0', '0', '0', '0', '0', '0', '0', '0', '0', '0', '0', '0', '0', '0', '0', '0', '0', '0', '0', '0', '0', '0', '0', '0', '0', '0', '0', '0', '0', '0', '0', '0', '0', '0', '0', '0', '0', '0', '0', '0', '0', '0', '0', '0', '0', '0', '0', '0', '0', '0', '0', '0', '0', '0', '0', '0', '0', '0', '0', '0', '0', '0', '0', '0', '0', '0', '0', '0', '0', '0', '0', '0', '0', '0', '0', '0', '0', '0', '0', '0', '0', '0', '0', '0', '0', '0', '0', '0', '0', '0', '0', '0', '0', '0', '0', '0', '0', '0', '0']\n",
      "2023-05-06 15:55:39,877 |\u001b[32m INFO     \u001b[0m|: Disconnected from AB6C95E9-A4ED-4F7A-B208-0AFEAFDDA3AD\n"
     ]
    }
   ],
   "source": [
    "print(kfdist)"
   ]
  },
  {
   "cell_type": "code",
   "execution_count": 583,
   "id": "a5348ec5",
   "metadata": {
    "tags": []
   },
   "outputs": [
    {
     "name": "stdout",
     "output_type": "stream",
     "text": [
      "['0', '0', '0', '1306', '1306', '1306', '1309', '1309', '1309', '1309', '1302', '1302', '1302', '1302', '1291', '1291', '1291', '1262', '1262', '1262', '1240', '1240', '1240', '1240', '1197', '1197', '1152', '1152', '1107', '1107', '1107', '1107', '1054', '1054', '1054', '986', '986', '986', '930', '930', '930', '930', '867', '867', '867', '791', '791', '791', '725', '725', '725', '670', '670', '670', '670', '615', '615', '615', '615', '566', '566', '566', '566', '511', '511', '511', '474', '474', '474', '438', '438', '438', '438', '438', '419', '419', '419', '419', '419', '419', '401', '401', '401', '401', '401', '388', '388', '388', '388', '388', '388', '381', '381', '381', '381', '381', '381', '377', '377', '377', '377', '377', '377', '377', '377', '377', '377', '377', '378', '378', '378', '378', '378', '378', '378', '377', '377', '377', '377', '377', '377', '377', '377', '377', '377', '377', '377', '377', '377', '377', '378', '378', '378', '378', '378', '378', '378', '378', '378', '377', '377', '377', '377', '377', '377', '377', '377', '377', '377', '377', '377', '377', '377', '377', '377', '377', '378', '378', '378', '378', '378', '378', '377', '377', '377', '377', '377', '377', '377', '377', '377', '377', '377', '377', '377', '377', '377', '378', '378', '378', '378', '380', '380', '380', '380', '380', '378', '378', '378', '378', '378', '378', '378', '378', '378', '377', '377', '377', '379', '379', '379', '379', '379', '379', '377', '377', '378', '378', '378', '378', '378', '378', '378', '379', '379', '379', '379', '379', '379', '379', '379', '379', '375', '375', '375', '375', '375', '375', '378', '378', '378', '378', '378', '377', '377', '377', '377', '378', '378', '378', '378', '378', '378', '378', '378', '378', '378', '379', '379', '379', '379', '377', '377', '377', '377', '378', '378', '378', '378', '378', '378', '379', '379', '379', '379', '379', '379', '378', '378', '378', '378', '378', '378', '378', '378', '378', '377', '377', '377', '377', '377', '377', '378', '378', '378', '377', '377', '377', '377', '377', '377', '379', '379', '379', '379', '379', '379', '379', '379', '379', '378', '378', '378', '378', '378', '376', '376', '376', '376', '376', '376', '378', '378', '378', '378', '377', '377', '377', '377', '377', '377', '378', '378', '378', '378', '378', '378', '377', '377', '377', '377', '377', '377', '377', '378', '378', '378', '378', '378', '378', '378', '378', '378', '378', '376', '376', '376', '376', '376', '378', '378', '378', '378', '378', '378', '378', '378', '378', '378', '378', '378', '378', '378', '378', '378', '378', '378', '377', '377', '377', '377', '377', '378', '378', '378']\n"
     ]
    }
   ],
   "source": [
    "print(ONEDist)"
   ]
  },
  {
   "cell_type": "code",
   "execution_count": 592,
   "id": "fb947f8a",
   "metadata": {
    "tags": []
   },
   "outputs": [
    {
     "data": {
      "text/plain": [
       "<matplotlib.legend.Legend at 0x7f8b476ea610>"
      ]
     },
     "execution_count": 592,
     "metadata": {},
     "output_type": "execute_result"
    },
    {
     "data": {
      "image/png": "[encoded data removed]",
      "text/plain": [
       "<Figure size 640x480 with 1 Axes>"
      ]
     },
     "metadata": {},
     "output_type": "display_data"
    },
    {
     "name": "stdout",
     "output_type": "stream",
     "text": [
      "2023-05-06 02:51:00,958 |\u001b[32m INFO     \u001b[0m|: Disconnected from AB6C95E9-A4ED-4F7A-B208-0AFEAFDDA3AD\n"
     ]
    }
   ],
   "source": [
    "import random\n",
    "\n",
    "# Plot distance measurement data\n",
    "intTime = [eval(t)/1000 for t in time]\n",
    "intDist = [eval(i) for i in speed]\n",
    "# intkf = [eval(i)+random.randint(3, 20) for i in kfdist]\n",
    "plt.scatter(intTime, intDist, label = \"Speed\")\n",
    "#plt.scatter(intTime, intkf, label = \"Kalman Filtered\")\n",
    "\n",
    "plt.title(\"PWM with Kalman on Robot\")\n",
    "plt.xlabel(\"Time (s)\")\n",
    "plt.ylabel(\"PWM\")\n",
    "plt.legend(loc='upper center', bbox_to_anchor=(0.5, -0.2),\n",
    "          fancybox=True, shadow=True, ncol=5)\n",
    "# plt.ylim((0,-6000))\n"
   ]
  }
 ],
 "metadata": {
  "kernelspec": {
   "display_name": "Python 3 (ipykernel)",
   "language": "python",
   "name": "python3"
  },
  "language_info": {
   "codemirror_mode": {
    "name": "ipython",
    "version": 3
   },
   "file_extension": ".py",
   "mimetype": "text/x-python",
   "name": "python",
   "nbconvert_exporter": "python",
   "pygments_lexer": "ipython3",
   "version": "3.7.6"
  }
 },
 "nbformat": 4,
 "nbformat_minor": 5
}
