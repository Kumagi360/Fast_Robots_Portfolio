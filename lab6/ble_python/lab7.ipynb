{
 "cells": [
  {
   "cell_type": "code",
   "execution_count": 2,
   "id": "ab889097-6ecc-4a84-a836-e4d652269c98",
   "metadata": {
    "tags": []
   },
   "outputs": [
    {
     "name": "stdout",
     "output_type": "stream",
     "text": [
      "The autoreload extension is already loaded. To reload it, use:\n",
      "  %reload_ext autoreload\n"
     ]
    }
   ],
   "source": [
    "%load_ext autoreload\n",
    "%autoreload 2\n",
    "\n",
    "from ble import get_ble_controller\n",
    "from base_ble import LOG\n",
    "from cmd_types import CMD\n",
    "import time\n",
    "import numpy as np\n",
    "\n",
    "LOG.propagate = False\n",
    "\n",
    "from matplotlib import pyplot as plt\n",
    "import random\n",
    "import numpy as np"
   ]
  },
  {
   "cell_type": "code",
   "execution_count": 26,
   "id": "4ad4a7dd-23e5-4d2f-a1eb-5c3bf66b22ef",
   "metadata": {
    "tags": []
   },
   "outputs": [
    {
     "name": "stdout",
     "output_type": "stream",
     "text": [
      "2023-05-09 09:26:15,279 |\u001b[32m INFO     \u001b[0m|: Looking for Artemis Nano Peripheral Device: C0:83:D5:66:86:3C\n",
      "2023-05-09 09:26:17,959 |\u001b[32m INFO     \u001b[0m|: Connected to C0:83:D5:66:86:3C\n"
     ]
    }
   ],
   "source": [
    "# connect to Artemis\n",
    "\n",
    "# Get ArtemisBLEController object\n",
    "ble = get_ble_controller()\n",
    "\n",
    "# Connect to the Artemis Device\n",
    "ble.connect()"
   ]
  },
  {
   "cell_type": "code",
   "execution_count": 27,
   "id": "c8db31a6-5010-4f73-8595-6d9a4c02143f",
   "metadata": {
    "tags": []
   },
   "outputs": [
    {
     "name": "stdout",
     "output_type": "stream",
     "text": [
      "PONG\n"
     ]
    }
   ],
   "source": [
    "# test sending and receiving\n",
    "\n",
    "ble.send_command(CMD.PING, \"\")\n",
    "\n",
    "s = ble.receive_string(ble.uuid['RX_STRING'])\n",
    "print(s)"
   ]
  },
  {
   "cell_type": "code",
   "execution_count": 47,
   "id": "f79fb27e-4ce0-450d-8deb-9126f07dbb84",
   "metadata": {},
   "outputs": [
    {
     "name": "stdout",
     "output_type": "stream",
     "text": [
      "2023-05-05 15:24:48,526 |\u001b[32m INFO     \u001b[0m|: Disconnected from AB6C95E9-A4ED-4F7A-B208-0AFEAFDDA3AD\n"
     ]
    }
   ],
   "source": [
    "# disconnect from Artemis\n",
    "ble.disconnect()"
   ]
  },
  {
   "cell_type": "code",
   "execution_count": 36,
   "id": "798b01bc-99bd-4c8f-a787-4c80547f436c",
   "metadata": {
    "tags": []
   },
   "outputs": [],
   "source": [
    "# STATIC --- read and aggregate time, pitch, roll, yaw, TOF#1, TOF#2, leftPWM, rightPWM\n",
    "\n",
    "def fft_callback(uuid, data):\n",
    "    \n",
    "    reading = (ble.bytearray_to_string(data)).split('|')\n",
    "    #print(reading)\n",
    "    \n",
    "    for count in range(entries):\n",
    "        try:\n",
    "            nextPos = count*8\n",
    "            time.append((reading[nextPos]))\n",
    "            pitchC.append((reading[nextPos+1]))\n",
    "            rollC.append((reading[nextPos+2]))\n",
    "            yaw.append((reading[nextPos+3]))\n",
    "            ONEDist.append((reading[nextPos+4]))\n",
    "            TWODist.append((reading[nextPos+5]))\n",
    "            leftPWM.append((reading[nextPos+6]))\n",
    "            rightPWM.append((reading[nextPos+7]))\n",
    "        except (IndexError,ValueError):\n",
    "            continue\n",
    "        \n",
    "    \n",
    "entries = 3\n",
    "time = []\n",
    "pitchC = []\n",
    "rollC = []\n",
    "yaw = []\n",
    "ONEDist = []\n",
    "TWODist = []\n",
    "leftPWM = []\n",
    "rightPWM = []\n",
    "\n",
    "ble.start_notify(ble.uuid['RX_STRING'], fft_callback)\n",
    "ble.send_command(CMD.TIMED_PID_DATA, \"\")"
   ]
  },
  {
   "cell_type": "code",
   "execution_count": 35,
   "id": "af209d25-7015-4fa5-b5cf-53d78c590aa8",
   "metadata": {
    "tags": []
   },
   "outputs": [],
   "source": [
    "ble.send_command(CMD.UPDATE_KP, \"0.05\")"
   ]
  },
  {
   "cell_type": "code",
   "execution_count": 45,
   "id": "88072ed6-35bb-4174-8c60-e613568540b0",
   "metadata": {
    "tags": []
   },
   "outputs": [
    {
     "ename": "ValueError",
     "evalue": "Characteristic notifications already started",
     "output_type": "error",
     "traceback": [
      "\u001b[0;31m---------------------------------------------------------------------------\u001b[0m",
      "\u001b[0;31mValueError\u001b[0m                                Traceback (most recent call last)",
      "Cell \u001b[0;32mIn[45], line 31\u001b[0m\n\u001b[1;32m     28\u001b[0m error \u001b[38;5;241m=\u001b[39m []\n\u001b[1;32m     29\u001b[0m speed \u001b[38;5;241m=\u001b[39m []\n\u001b[0;32m---> 31\u001b[0m \u001b[43mble\u001b[49m\u001b[38;5;241;43m.\u001b[39;49m\u001b[43mstart_notify\u001b[49m\u001b[43m(\u001b[49m\u001b[43mble\u001b[49m\u001b[38;5;241;43m.\u001b[39;49m\u001b[43muuid\u001b[49m\u001b[43m[\u001b[49m\u001b[38;5;124;43m'\u001b[39;49m\u001b[38;5;124;43mRX_STRING\u001b[39;49m\u001b[38;5;124;43m'\u001b[39;49m\u001b[43m]\u001b[49m\u001b[43m,\u001b[49m\u001b[43m \u001b[49m\u001b[43mfft_callback\u001b[49m\u001b[43m)\u001b[49m\n\u001b[1;32m     32\u001b[0m ble\u001b[38;5;241m.\u001b[39msend_command(CMD\u001b[38;5;241m.\u001b[39mTOF_PID, \u001b[38;5;124m\"\u001b[39m\u001b[38;5;124m304\u001b[39m\u001b[38;5;124m\"\u001b[39m)\n",
      "File \u001b[0;32m~/Desktop/CORNELL/SP23/Fast Robots/Fast_Robots_Portfolio/lab6/ble_python/ble.py:81\u001b[0m, in \u001b[0;36mBaseBLEController.start_notify\u001b[0;34m(self, uuid, notification_handler)\u001b[0m\n\u001b[1;32m     80\u001b[0m \u001b[38;5;28;01mdef\u001b[39;00m \u001b[38;5;21mstart_notify\u001b[39m(\u001b[38;5;28mself\u001b[39m, uuid, notification_handler):\n\u001b[0;32m---> 81\u001b[0m     \u001b[38;5;28;43mself\u001b[39;49m\u001b[38;5;241;43m.\u001b[39;49m\u001b[43m_wait\u001b[49m\u001b[43m(\u001b[49m\u001b[38;5;28;43mself\u001b[39;49m\u001b[38;5;241;43m.\u001b[39;49m\u001b[43mdevice\u001b[49m\u001b[38;5;241;43m.\u001b[39;49m\u001b[43m_start_notify\u001b[49m\u001b[43m(\u001b[49m\u001b[43muuid\u001b[49m\u001b[43m,\u001b[49m\u001b[43m \u001b[49m\u001b[43mnotification_handler\u001b[49m\u001b[43m)\u001b[49m\u001b[43m)\u001b[49m\n",
      "File \u001b[0;32m~/Desktop/CORNELL/SP23/Fast Robots/Fast_Robots_Portfolio/lab6/ble_python/base_ble.py:27\u001b[0m, in \u001b[0;36mwait_b\u001b[0;34m(coroutine)\u001b[0m\n\u001b[1;32m     26\u001b[0m \u001b[38;5;28;01mdef\u001b[39;00m \u001b[38;5;21mwait_b\u001b[39m(coroutine):\n\u001b[0;32m---> 27\u001b[0m     \u001b[38;5;28;01mreturn\u001b[39;00m \u001b[43masyncio\u001b[49m\u001b[38;5;241;43m.\u001b[39;49m\u001b[43mrun\u001b[49m\u001b[43m(\u001b[49m\u001b[43mcoroutine\u001b[49m\u001b[43m)\u001b[49m\n",
      "File \u001b[0;32m~/Desktop/CORNELL/SP23/Fast Robots/Fast_Robots_Portfolio/lab6/FastRobots_ble/lib/python3.9/site-packages/nest_asyncio.py:35\u001b[0m, in \u001b[0;36m_patch_asyncio.<locals>.run\u001b[0;34m(main, debug)\u001b[0m\n\u001b[1;32m     33\u001b[0m task \u001b[38;5;241m=\u001b[39m asyncio\u001b[38;5;241m.\u001b[39mensure_future(main)\n\u001b[1;32m     34\u001b[0m \u001b[38;5;28;01mtry\u001b[39;00m:\n\u001b[0;32m---> 35\u001b[0m     \u001b[38;5;28;01mreturn\u001b[39;00m \u001b[43mloop\u001b[49m\u001b[38;5;241;43m.\u001b[39;49m\u001b[43mrun_until_complete\u001b[49m\u001b[43m(\u001b[49m\u001b[43mtask\u001b[49m\u001b[43m)\u001b[49m\n\u001b[1;32m     36\u001b[0m \u001b[38;5;28;01mfinally\u001b[39;00m:\n\u001b[1;32m     37\u001b[0m     \u001b[38;5;28;01mif\u001b[39;00m \u001b[38;5;129;01mnot\u001b[39;00m task\u001b[38;5;241m.\u001b[39mdone():\n",
      "File \u001b[0;32m~/Desktop/CORNELL/SP23/Fast Robots/Fast_Robots_Portfolio/lab6/FastRobots_ble/lib/python3.9/site-packages/nest_asyncio.py:90\u001b[0m, in \u001b[0;36m_patch_loop.<locals>.run_until_complete\u001b[0;34m(self, future)\u001b[0m\n\u001b[1;32m     87\u001b[0m \u001b[38;5;28;01mif\u001b[39;00m \u001b[38;5;129;01mnot\u001b[39;00m f\u001b[38;5;241m.\u001b[39mdone():\n\u001b[1;32m     88\u001b[0m     \u001b[38;5;28;01mraise\u001b[39;00m \u001b[38;5;167;01mRuntimeError\u001b[39;00m(\n\u001b[1;32m     89\u001b[0m         \u001b[38;5;124m'\u001b[39m\u001b[38;5;124mEvent loop stopped before Future completed.\u001b[39m\u001b[38;5;124m'\u001b[39m)\n\u001b[0;32m---> 90\u001b[0m \u001b[38;5;28;01mreturn\u001b[39;00m \u001b[43mf\u001b[49m\u001b[38;5;241;43m.\u001b[39;49m\u001b[43mresult\u001b[49m\u001b[43m(\u001b[49m\u001b[43m)\u001b[49m\n",
      "File \u001b[0;32m/Library/Developer/CommandLineTools/Library/Frameworks/Python3.framework/Versions/3.9/lib/python3.9/asyncio/futures.py:201\u001b[0m, in \u001b[0;36mFuture.result\u001b[0;34m(self)\u001b[0m\n\u001b[1;32m    199\u001b[0m \u001b[38;5;28mself\u001b[39m\u001b[38;5;241m.\u001b[39m__log_traceback \u001b[38;5;241m=\u001b[39m \u001b[38;5;28;01mFalse\u001b[39;00m\n\u001b[1;32m    200\u001b[0m \u001b[38;5;28;01mif\u001b[39;00m \u001b[38;5;28mself\u001b[39m\u001b[38;5;241m.\u001b[39m_exception \u001b[38;5;129;01mis\u001b[39;00m \u001b[38;5;129;01mnot\u001b[39;00m \u001b[38;5;28;01mNone\u001b[39;00m:\n\u001b[0;32m--> 201\u001b[0m     \u001b[38;5;28;01mraise\u001b[39;00m \u001b[38;5;28mself\u001b[39m\u001b[38;5;241m.\u001b[39m_exception\n\u001b[1;32m    202\u001b[0m \u001b[38;5;28;01mreturn\u001b[39;00m \u001b[38;5;28mself\u001b[39m\u001b[38;5;241m.\u001b[39m_result\n",
      "File \u001b[0;32m/Library/Developer/CommandLineTools/Library/Frameworks/Python3.framework/Versions/3.9/lib/python3.9/asyncio/tasks.py:256\u001b[0m, in \u001b[0;36mTask.__step\u001b[0;34m(***failed resolving arguments***)\u001b[0m\n\u001b[1;32m    252\u001b[0m \u001b[38;5;28;01mtry\u001b[39;00m:\n\u001b[1;32m    253\u001b[0m     \u001b[38;5;28;01mif\u001b[39;00m exc \u001b[38;5;129;01mis\u001b[39;00m \u001b[38;5;28;01mNone\u001b[39;00m:\n\u001b[1;32m    254\u001b[0m         \u001b[38;5;66;03m# We use the `send` method directly, because coroutines\u001b[39;00m\n\u001b[1;32m    255\u001b[0m         \u001b[38;5;66;03m# don't have `__iter__` and `__next__` methods.\u001b[39;00m\n\u001b[0;32m--> 256\u001b[0m         result \u001b[38;5;241m=\u001b[39m \u001b[43mcoro\u001b[49m\u001b[38;5;241;43m.\u001b[39;49m\u001b[43msend\u001b[49m\u001b[43m(\u001b[49m\u001b[38;5;28;43;01mNone\u001b[39;49;00m\u001b[43m)\u001b[49m\n\u001b[1;32m    257\u001b[0m     \u001b[38;5;28;01melse\u001b[39;00m:\n\u001b[1;32m    258\u001b[0m         result \u001b[38;5;241m=\u001b[39m coro\u001b[38;5;241m.\u001b[39mthrow(exc)\n",
      "File \u001b[0;32m~/Desktop/CORNELL/SP23/Fast Robots/Fast_Robots_Portfolio/lab6/ble_python/base_ble.py:112\u001b[0m, in \u001b[0;36mBLEAsyncDevice._start_notify\u001b[0;34m(self, uuid, notification_handler)\u001b[0m\n\u001b[1;32m    110\u001b[0m \u001b[38;5;28;01masync\u001b[39;00m \u001b[38;5;28;01mdef\u001b[39;00m \u001b[38;5;21m_start_notify\u001b[39m(\u001b[38;5;28mself\u001b[39m, uuid, notification_handler):\n\u001b[1;32m    111\u001b[0m     \u001b[38;5;28;01mif\u001b[39;00m \u001b[38;5;28mself\u001b[39m\u001b[38;5;241m.\u001b[39mclient \u001b[38;5;129;01mand\u001b[39;00m \u001b[38;5;28mself\u001b[39m\u001b[38;5;241m.\u001b[39mclient\u001b[38;5;241m.\u001b[39mis_connected:\n\u001b[0;32m--> 112\u001b[0m         \u001b[38;5;28;01mawait\u001b[39;00m \u001b[38;5;28mself\u001b[39m\u001b[38;5;241m.\u001b[39mclient\u001b[38;5;241m.\u001b[39mstart_notify(uuid, notification_handler)\n\u001b[1;32m    113\u001b[0m     \u001b[38;5;28;01melse\u001b[39;00m:\n\u001b[1;32m    114\u001b[0m         \u001b[38;5;28;01mraise\u001b[39;00m \u001b[38;5;167;01mException\u001b[39;00m(\u001b[38;5;124m\"\u001b[39m\u001b[38;5;124mNot connected to a BLE device\u001b[39m\u001b[38;5;124m\"\u001b[39m)\n",
      "File \u001b[0;32m~/Desktop/CORNELL/SP23/Fast Robots/Fast_Robots_Portfolio/lab6/FastRobots_ble/lib/python3.9/site-packages/bleak/__init__.py:717\u001b[0m, in \u001b[0;36mBleakClient.start_notify\u001b[0;34m(self, char_specifier, callback, **kwargs)\u001b[0m\n\u001b[1;32m    714\u001b[0m \u001b[38;5;28;01melse\u001b[39;00m:\n\u001b[1;32m    715\u001b[0m     wrapped_callback \u001b[38;5;241m=\u001b[39m functools\u001b[38;5;241m.\u001b[39mpartial(callback, characteristic)\n\u001b[0;32m--> 717\u001b[0m \u001b[38;5;28;01mawait\u001b[39;00m \u001b[38;5;28mself\u001b[39m\u001b[38;5;241m.\u001b[39m_backend\u001b[38;5;241m.\u001b[39mstart_notify(characteristic, wrapped_callback, \u001b[38;5;241m*\u001b[39m\u001b[38;5;241m*\u001b[39mkwargs)\n",
      "File \u001b[0;32m~/Desktop/CORNELL/SP23/Fast Robots/Fast_Robots_Portfolio/lab6/FastRobots_ble/lib/python3.9/site-packages/bleak/backends/corebluetooth/client.py:370\u001b[0m, in \u001b[0;36mBleakClientCoreBluetooth.start_notify\u001b[0;34m(self, characteristic, callback, **kwargs)\u001b[0m\n\u001b[1;32m    365\u001b[0m \u001b[38;5;250m\u001b[39m\u001b[38;5;124;03m\"\"\"\u001b[39;00m\n\u001b[1;32m    366\u001b[0m \u001b[38;5;124;03mActivate notifications/indications on a characteristic.\u001b[39;00m\n\u001b[1;32m    367\u001b[0m \u001b[38;5;124;03m\"\"\"\u001b[39;00m\n\u001b[1;32m    368\u001b[0m \u001b[38;5;28;01massert\u001b[39;00m \u001b[38;5;28mself\u001b[39m\u001b[38;5;241m.\u001b[39m_delegate \u001b[38;5;129;01mis\u001b[39;00m \u001b[38;5;129;01mnot\u001b[39;00m \u001b[38;5;28;01mNone\u001b[39;00m\n\u001b[0;32m--> 370\u001b[0m \u001b[38;5;28;01mawait\u001b[39;00m \u001b[38;5;28mself\u001b[39m\u001b[38;5;241m.\u001b[39m_delegate\u001b[38;5;241m.\u001b[39mstart_notifications(characteristic\u001b[38;5;241m.\u001b[39mobj, callback)\n",
      "File \u001b[0;32m~/Desktop/CORNELL/SP23/Fast Robots/Fast_Robots_Portfolio/lab6/FastRobots_ble/lib/python3.9/site-packages/bleak/backends/corebluetooth/PeripheralDelegate.py:217\u001b[0m, in \u001b[0;36mPeripheralDelegate.start_notifications\u001b[0;34m(self, characteristic, callback)\u001b[0m\n\u001b[1;32m    215\u001b[0m c_handle \u001b[38;5;241m=\u001b[39m characteristic\u001b[38;5;241m.\u001b[39mhandle()\n\u001b[1;32m    216\u001b[0m \u001b[38;5;28;01mif\u001b[39;00m c_handle \u001b[38;5;129;01min\u001b[39;00m \u001b[38;5;28mself\u001b[39m\u001b[38;5;241m.\u001b[39m_characteristic_notify_callbacks:\n\u001b[0;32m--> 217\u001b[0m     \u001b[38;5;28;01mraise\u001b[39;00m \u001b[38;5;167;01mValueError\u001b[39;00m(\u001b[38;5;124m\"\u001b[39m\u001b[38;5;124mCharacteristic notifications already started\u001b[39m\u001b[38;5;124m\"\u001b[39m)\n\u001b[1;32m    219\u001b[0m \u001b[38;5;28mself\u001b[39m\u001b[38;5;241m.\u001b[39m_characteristic_notify_callbacks[c_handle] \u001b[38;5;241m=\u001b[39m callback\n\u001b[1;32m    221\u001b[0m future \u001b[38;5;241m=\u001b[39m \u001b[38;5;28mself\u001b[39m\u001b[38;5;241m.\u001b[39m_event_loop\u001b[38;5;241m.\u001b[39mcreate_future()\n",
      "\u001b[0;31mValueError\u001b[0m: Characteristic notifications already started"
     ]
    }
   ],
   "source": [
    "# MOTION --- PID to given distance and read and aggregate time, pitch, roll, yaw, TOF#1, TOF#2, leftPWM, rightPWM\n",
    "\n",
    "def fft_callback(uuid, data):\n",
    "    \n",
    "    reading = (ble.bytearray_to_string(data)).split('|')\n",
    "    #print(reading)\n",
    "    \n",
    "    for count in range(entries):\n",
    "        try:\n",
    "            nextPos = count*7\n",
    "            time.append((reading[nextPos]))\n",
    "            pitchC.append((reading[nextPos+1]))\n",
    "            rollC.append((reading[nextPos+2]))\n",
    "            yaw.append((reading[nextPos+3]))\n",
    "            ONEDist.append((reading[nextPos+4]))\n",
    "            error.append((reading[nextPos+5]))\n",
    "            speed.append((reading[nextPos+6]))\n",
    "        except (IndexError,ValueError):\n",
    "            continue\n",
    "        \n",
    "    \n",
    "entries = 3\n",
    "time = []\n",
    "pitchC = []\n",
    "rollC = []\n",
    "yaw = []\n",
    "ONEDist = []\n",
    "error = []\n",
    "speed = []\n",
    "\n",
    "ble.start_notify(ble.uuid['RX_STRING'], fft_callback)\n",
    "ble.send_command(CMD.TOF_PID, \"304\")"
   ]
  },
  {
   "cell_type": "code",
   "execution_count": 43,
   "id": "8a77fc71-3405-4f6c-bada-248f64435aa6",
   "metadata": {
    "tags": []
   },
   "outputs": [
    {
     "ename": "ValueError",
     "evalue": "Characteristic notification never started",
     "output_type": "error",
     "traceback": [
      "\u001b[0;31m---------------------------------------------------------------------------\u001b[0m",
      "\u001b[0;31mValueError\u001b[0m                                Traceback (most recent call last)",
      "Cell \u001b[0;32mIn[43], line 3\u001b[0m\n\u001b[1;32m      1\u001b[0m \u001b[38;5;66;03m# stop notifications from this characteristic\u001b[39;00m\n\u001b[0;32m----> 3\u001b[0m \u001b[43mble\u001b[49m\u001b[38;5;241;43m.\u001b[39;49m\u001b[43mstop_notify\u001b[49m\u001b[43m(\u001b[49m\u001b[43mble\u001b[49m\u001b[38;5;241;43m.\u001b[39;49m\u001b[43muuid\u001b[49m\u001b[43m[\u001b[49m\u001b[38;5;124;43m'\u001b[39;49m\u001b[38;5;124;43mRX_STRING\u001b[39;49m\u001b[38;5;124;43m'\u001b[39;49m\u001b[43m]\u001b[49m\u001b[43m)\u001b[49m\n",
      "File \u001b[0;32m~/Desktop/CORNELL/SP23/Fast Robots/Fast_Robots_Portfolio/lab6/ble_python/ble.py:84\u001b[0m, in \u001b[0;36mBaseBLEController.stop_notify\u001b[0;34m(self, uuid)\u001b[0m\n\u001b[1;32m     83\u001b[0m \u001b[38;5;28;01mdef\u001b[39;00m \u001b[38;5;21mstop_notify\u001b[39m(\u001b[38;5;28mself\u001b[39m, uuid):\n\u001b[0;32m---> 84\u001b[0m     \u001b[38;5;28;43mself\u001b[39;49m\u001b[38;5;241;43m.\u001b[39;49m\u001b[43m_wait\u001b[49m\u001b[43m(\u001b[49m\u001b[38;5;28;43mself\u001b[39;49m\u001b[38;5;241;43m.\u001b[39;49m\u001b[43mdevice\u001b[49m\u001b[38;5;241;43m.\u001b[39;49m\u001b[43m_stop_notify\u001b[49m\u001b[43m(\u001b[49m\u001b[43muuid\u001b[49m\u001b[43m)\u001b[49m\u001b[43m)\u001b[49m\n",
      "File \u001b[0;32m~/Desktop/CORNELL/SP23/Fast Robots/Fast_Robots_Portfolio/lab6/ble_python/base_ble.py:27\u001b[0m, in \u001b[0;36mwait_b\u001b[0;34m(coroutine)\u001b[0m\n\u001b[1;32m     26\u001b[0m \u001b[38;5;28;01mdef\u001b[39;00m \u001b[38;5;21mwait_b\u001b[39m(coroutine):\n\u001b[0;32m---> 27\u001b[0m     \u001b[38;5;28;01mreturn\u001b[39;00m \u001b[43masyncio\u001b[49m\u001b[38;5;241;43m.\u001b[39;49m\u001b[43mrun\u001b[49m\u001b[43m(\u001b[49m\u001b[43mcoroutine\u001b[49m\u001b[43m)\u001b[49m\n",
      "File \u001b[0;32m~/Desktop/CORNELL/SP23/Fast Robots/Fast_Robots_Portfolio/lab6/FastRobots_ble/lib/python3.9/site-packages/nest_asyncio.py:35\u001b[0m, in \u001b[0;36m_patch_asyncio.<locals>.run\u001b[0;34m(main, debug)\u001b[0m\n\u001b[1;32m     33\u001b[0m task \u001b[38;5;241m=\u001b[39m asyncio\u001b[38;5;241m.\u001b[39mensure_future(main)\n\u001b[1;32m     34\u001b[0m \u001b[38;5;28;01mtry\u001b[39;00m:\n\u001b[0;32m---> 35\u001b[0m     \u001b[38;5;28;01mreturn\u001b[39;00m \u001b[43mloop\u001b[49m\u001b[38;5;241;43m.\u001b[39;49m\u001b[43mrun_until_complete\u001b[49m\u001b[43m(\u001b[49m\u001b[43mtask\u001b[49m\u001b[43m)\u001b[49m\n\u001b[1;32m     36\u001b[0m \u001b[38;5;28;01mfinally\u001b[39;00m:\n\u001b[1;32m     37\u001b[0m     \u001b[38;5;28;01mif\u001b[39;00m \u001b[38;5;129;01mnot\u001b[39;00m task\u001b[38;5;241m.\u001b[39mdone():\n",
      "File \u001b[0;32m~/Desktop/CORNELL/SP23/Fast Robots/Fast_Robots_Portfolio/lab6/FastRobots_ble/lib/python3.9/site-packages/nest_asyncio.py:90\u001b[0m, in \u001b[0;36m_patch_loop.<locals>.run_until_complete\u001b[0;34m(self, future)\u001b[0m\n\u001b[1;32m     87\u001b[0m \u001b[38;5;28;01mif\u001b[39;00m \u001b[38;5;129;01mnot\u001b[39;00m f\u001b[38;5;241m.\u001b[39mdone():\n\u001b[1;32m     88\u001b[0m     \u001b[38;5;28;01mraise\u001b[39;00m \u001b[38;5;167;01mRuntimeError\u001b[39;00m(\n\u001b[1;32m     89\u001b[0m         \u001b[38;5;124m'\u001b[39m\u001b[38;5;124mEvent loop stopped before Future completed.\u001b[39m\u001b[38;5;124m'\u001b[39m)\n\u001b[0;32m---> 90\u001b[0m \u001b[38;5;28;01mreturn\u001b[39;00m \u001b[43mf\u001b[49m\u001b[38;5;241;43m.\u001b[39;49m\u001b[43mresult\u001b[49m\u001b[43m(\u001b[49m\u001b[43m)\u001b[49m\n",
      "File \u001b[0;32m/Library/Developer/CommandLineTools/Library/Frameworks/Python3.framework/Versions/3.9/lib/python3.9/asyncio/futures.py:201\u001b[0m, in \u001b[0;36mFuture.result\u001b[0;34m(self)\u001b[0m\n\u001b[1;32m    199\u001b[0m \u001b[38;5;28mself\u001b[39m\u001b[38;5;241m.\u001b[39m__log_traceback \u001b[38;5;241m=\u001b[39m \u001b[38;5;28;01mFalse\u001b[39;00m\n\u001b[1;32m    200\u001b[0m \u001b[38;5;28;01mif\u001b[39;00m \u001b[38;5;28mself\u001b[39m\u001b[38;5;241m.\u001b[39m_exception \u001b[38;5;129;01mis\u001b[39;00m \u001b[38;5;129;01mnot\u001b[39;00m \u001b[38;5;28;01mNone\u001b[39;00m:\n\u001b[0;32m--> 201\u001b[0m     \u001b[38;5;28;01mraise\u001b[39;00m \u001b[38;5;28mself\u001b[39m\u001b[38;5;241m.\u001b[39m_exception\n\u001b[1;32m    202\u001b[0m \u001b[38;5;28;01mreturn\u001b[39;00m \u001b[38;5;28mself\u001b[39m\u001b[38;5;241m.\u001b[39m_result\n",
      "File \u001b[0;32m/Library/Developer/CommandLineTools/Library/Frameworks/Python3.framework/Versions/3.9/lib/python3.9/asyncio/tasks.py:256\u001b[0m, in \u001b[0;36mTask.__step\u001b[0;34m(***failed resolving arguments***)\u001b[0m\n\u001b[1;32m    252\u001b[0m \u001b[38;5;28;01mtry\u001b[39;00m:\n\u001b[1;32m    253\u001b[0m     \u001b[38;5;28;01mif\u001b[39;00m exc \u001b[38;5;129;01mis\u001b[39;00m \u001b[38;5;28;01mNone\u001b[39;00m:\n\u001b[1;32m    254\u001b[0m         \u001b[38;5;66;03m# We use the `send` method directly, because coroutines\u001b[39;00m\n\u001b[1;32m    255\u001b[0m         \u001b[38;5;66;03m# don't have `__iter__` and `__next__` methods.\u001b[39;00m\n\u001b[0;32m--> 256\u001b[0m         result \u001b[38;5;241m=\u001b[39m \u001b[43mcoro\u001b[49m\u001b[38;5;241;43m.\u001b[39;49m\u001b[43msend\u001b[49m\u001b[43m(\u001b[49m\u001b[38;5;28;43;01mNone\u001b[39;49;00m\u001b[43m)\u001b[49m\n\u001b[1;32m    257\u001b[0m     \u001b[38;5;28;01melse\u001b[39;00m:\n\u001b[1;32m    258\u001b[0m         result \u001b[38;5;241m=\u001b[39m coro\u001b[38;5;241m.\u001b[39mthrow(exc)\n",
      "File \u001b[0;32m~/Desktop/CORNELL/SP23/Fast Robots/Fast_Robots_Portfolio/lab6/ble_python/base_ble.py:118\u001b[0m, in \u001b[0;36mBLEAsyncDevice._stop_notify\u001b[0;34m(self, uuid)\u001b[0m\n\u001b[1;32m    116\u001b[0m \u001b[38;5;28;01masync\u001b[39;00m \u001b[38;5;28;01mdef\u001b[39;00m \u001b[38;5;21m_stop_notify\u001b[39m(\u001b[38;5;28mself\u001b[39m, uuid):\n\u001b[1;32m    117\u001b[0m     \u001b[38;5;28;01mif\u001b[39;00m \u001b[38;5;28mself\u001b[39m\u001b[38;5;241m.\u001b[39mclient \u001b[38;5;129;01mand\u001b[39;00m \u001b[38;5;28mself\u001b[39m\u001b[38;5;241m.\u001b[39mclient\u001b[38;5;241m.\u001b[39mis_connected:\n\u001b[0;32m--> 118\u001b[0m         \u001b[38;5;28;01mawait\u001b[39;00m \u001b[38;5;28mself\u001b[39m\u001b[38;5;241m.\u001b[39mclient\u001b[38;5;241m.\u001b[39mstop_notify(uuid)\n\u001b[1;32m    119\u001b[0m     \u001b[38;5;28;01melse\u001b[39;00m:\n\u001b[1;32m    120\u001b[0m         \u001b[38;5;28;01mraise\u001b[39;00m \u001b[38;5;167;01mException\u001b[39;00m(\u001b[38;5;124m\"\u001b[39m\u001b[38;5;124mNot connected to a BLE device\u001b[39m\u001b[38;5;124m\"\u001b[39m)\n",
      "File \u001b[0;32m~/Desktop/CORNELL/SP23/Fast Robots/Fast_Robots_Portfolio/lab6/FastRobots_ble/lib/python3.9/site-packages/bleak/__init__.py:735\u001b[0m, in \u001b[0;36mBleakClient.stop_notify\u001b[0;34m(self, char_specifier)\u001b[0m\n\u001b[1;32m    719\u001b[0m \u001b[38;5;28;01masync\u001b[39;00m \u001b[38;5;28;01mdef\u001b[39;00m \u001b[38;5;21mstop_notify\u001b[39m(\n\u001b[1;32m    720\u001b[0m     \u001b[38;5;28mself\u001b[39m, char_specifier: Union[BleakGATTCharacteristic, \u001b[38;5;28mint\u001b[39m, \u001b[38;5;28mstr\u001b[39m, uuid\u001b[38;5;241m.\u001b[39mUUID]\n\u001b[1;32m    721\u001b[0m ) \u001b[38;5;241m-\u001b[39m\u001b[38;5;241m>\u001b[39m \u001b[38;5;28;01mNone\u001b[39;00m:\n\u001b[1;32m    722\u001b[0m \u001b[38;5;250m    \u001b[39m\u001b[38;5;124;03m\"\"\"\u001b[39;00m\n\u001b[1;32m    723\u001b[0m \u001b[38;5;124;03m    Deactivate notification/indication on a specified characteristic.\u001b[39;00m\n\u001b[1;32m    724\u001b[0m \n\u001b[0;32m   (...)\u001b[0m\n\u001b[1;32m    733\u001b[0m \u001b[38;5;124;03m        stopped some time before the device disconnects.\u001b[39;00m\n\u001b[1;32m    734\u001b[0m \u001b[38;5;124;03m    \"\"\"\u001b[39;00m\n\u001b[0;32m--> 735\u001b[0m     \u001b[38;5;28;01mawait\u001b[39;00m \u001b[38;5;28mself\u001b[39m\u001b[38;5;241m.\u001b[39m_backend\u001b[38;5;241m.\u001b[39mstop_notify(char_specifier)\n",
      "File \u001b[0;32m~/Desktop/CORNELL/SP23/Fast Robots/Fast_Robots_Portfolio/lab6/FastRobots_ble/lib/python3.9/site-packages/bleak/backends/corebluetooth/client.py:391\u001b[0m, in \u001b[0;36mBleakClientCoreBluetooth.stop_notify\u001b[0;34m(self, char_specifier)\u001b[0m\n\u001b[1;32m    388\u001b[0m \u001b[38;5;28;01mif\u001b[39;00m \u001b[38;5;129;01mnot\u001b[39;00m characteristic:\n\u001b[1;32m    389\u001b[0m     \u001b[38;5;28;01mraise\u001b[39;00m BleakError(\u001b[38;5;124m\"\u001b[39m\u001b[38;5;124mCharacteristic \u001b[39m\u001b[38;5;132;01m{}\u001b[39;00m\u001b[38;5;124m not found!\u001b[39m\u001b[38;5;124m\"\u001b[39m\u001b[38;5;241m.\u001b[39mformat(char_specifier))\n\u001b[0;32m--> 391\u001b[0m \u001b[38;5;28;01mawait\u001b[39;00m \u001b[38;5;28mself\u001b[39m\u001b[38;5;241m.\u001b[39m_delegate\u001b[38;5;241m.\u001b[39mstop_notifications(characteristic\u001b[38;5;241m.\u001b[39mobj)\n",
      "File \u001b[0;32m~/Desktop/CORNELL/SP23/Fast Robots/Fast_Robots_Portfolio/lab6/FastRobots_ble/lib/python3.9/site-packages/bleak/backends/corebluetooth/PeripheralDelegate.py:234\u001b[0m, in \u001b[0;36mPeripheralDelegate.stop_notifications\u001b[0;34m(self, characteristic)\u001b[0m\n\u001b[1;32m    232\u001b[0m c_handle \u001b[38;5;241m=\u001b[39m characteristic\u001b[38;5;241m.\u001b[39mhandle()\n\u001b[1;32m    233\u001b[0m \u001b[38;5;28;01mif\u001b[39;00m c_handle \u001b[38;5;129;01mnot\u001b[39;00m \u001b[38;5;129;01min\u001b[39;00m \u001b[38;5;28mself\u001b[39m\u001b[38;5;241m.\u001b[39m_characteristic_notify_callbacks:\n\u001b[0;32m--> 234\u001b[0m     \u001b[38;5;28;01mraise\u001b[39;00m \u001b[38;5;167;01mValueError\u001b[39;00m(\u001b[38;5;124m\"\u001b[39m\u001b[38;5;124mCharacteristic notification never started\u001b[39m\u001b[38;5;124m\"\u001b[39m)\n\u001b[1;32m    236\u001b[0m future \u001b[38;5;241m=\u001b[39m \u001b[38;5;28mself\u001b[39m\u001b[38;5;241m.\u001b[39m_event_loop\u001b[38;5;241m.\u001b[39mcreate_future()\n\u001b[1;32m    238\u001b[0m \u001b[38;5;28mself\u001b[39m\u001b[38;5;241m.\u001b[39m_characteristic_notify_change_futures[c_handle] \u001b[38;5;241m=\u001b[39m future\n",
      "\u001b[0;31mValueError\u001b[0m: Characteristic notification never started"
     ]
    }
   ],
   "source": [
    "# stop notifications from this characteristic\n",
    "\n",
    "ble.stop_notify(ble.uuid['RX_STRING'])"
   ]
  },
  {
   "cell_type": "code",
   "execution_count": 48,
   "id": "fce438c1-7b6e-4519-a4c5-f900bbad39e3",
   "metadata": {
    "tags": []
   },
   "outputs": [
    {
     "data": {
      "text/plain": [
       "<matplotlib.legend.Legend at 0x11cc57d60>"
      ]
     },
     "execution_count": 48,
     "metadata": {},
     "output_type": "execute_result"
    },
    {
     "data": {
      "image/png": "[encoded data removed]",
      "text/plain": [
       "<Figure size 640x480 with 1 Axes>"
      ]
     },
     "metadata": {},
     "output_type": "display_data"
    }
   ],
   "source": [
    "# Plot distance measurement data\n",
    "\n",
    "intDist = [eval(i) for i in ONEDist]\n",
    "#intDist = speed\n",
    "intTime = [eval(t)/1000 for t in time]\n",
    "plt.scatter(intTime, intDist, label = \"Distance to Wall\")\n",
    "\n",
    "plt.title(\"Time vs Distance to Wall\")\n",
    "plt.xlabel(\"Time (s)\")\n",
    "plt.ylabel(\"Distance\")\n",
    "plt.legend(loc='upper center', bbox_to_anchor=(0.5, -0.2),\n",
    "          fancybox=True, shadow=True, ncol=5)\n"
   ]
  },
  {
   "cell_type": "code",
   "execution_count": 47,
   "id": "f1658bcf-62a5-4200-a019-e4a87a07ecd8",
   "metadata": {
    "tags": []
   },
   "outputs": [
    {
     "data": {
      "text/plain": [
       "<matplotlib.legend.Legend at 0x11caf65e0>"
      ]
     },
     "execution_count": 47,
     "metadata": {},
     "output_type": "execute_result"
    },
    {
     "data": {
      "image/png": "[encoded data removed]",
      "text/plain": [
       "<Figure size 640x480 with 1 Axes>"
      ]
     },
     "metadata": {},
     "output_type": "display_data"
    }
   ],
   "source": [
    "# Plot distance measurement data\n",
    "\n",
    "intDist = [eval(i) for i in speed]\n",
    "#intDist = speed\n",
    "intTime = [eval(t)/1000 for t in time]\n",
    "plt.scatter(intTime, intDist, label = \"PWM\")\n",
    "\n",
    "plt.title(\"Time vs PWM\")\n",
    "plt.xlabel(\"Time (s)\")\n",
    "plt.ylabel(\"PWM\")\n",
    "plt.legend(loc='upper center', bbox_to_anchor=(0.5, -0.2),\n",
    "          fancybox=True, shadow=True, ncol=5)\n"
   ]
  },
  {
   "cell_type": "code",
   "execution_count": 275,
   "id": "15a677d9-8e32-46d2-8015-8e177e0be4d3",
   "metadata": {
    "tags": []
   },
   "outputs": [],
   "source": [
    "# STEP --- PID to given distance and read and aggregate time, pitch, roll, yaw, TOF#1, TOF#2, leftPWM, rightPWM\n",
    "\n",
    "def fft_callback(uuid, data):\n",
    "    \n",
    "    reading = (ble.bytearray_to_string(data)).split('|')\n",
    "    #print(reading)\n",
    "    \n",
    "    for count in range(entries):\n",
    "        try:\n",
    "            nextPos = count*7\n",
    "            time.append((reading[nextPos]))\n",
    "            pitchC.append((reading[nextPos+1]))\n",
    "            rollC.append((reading[nextPos+2]))\n",
    "            yaw.append((reading[nextPos+3]))\n",
    "            ONEDist.append((reading[nextPos+4]))\n",
    "            error.append((reading[nextPos+5]))\n",
    "            speed.append((reading[nextPos+6]))\n",
    "        except (IndexError,ValueError):\n",
    "            continue\n",
    "        \n",
    "    \n",
    "entries = 3\n",
    "time = []\n",
    "pitchC = []\n",
    "rollC = []\n",
    "yaw = []\n",
    "ONEDist = []\n",
    "error = []\n",
    "speed = []\n",
    "\n",
    "ble.start_notify(ble.uuid['RX_STRING'], fft_callback)\n",
    "ble.send_command(CMD.STEP, \"\")"
   ]
  },
  {
   "cell_type": "code",
   "execution_count": 325,
   "id": "5d63773c-2cc5-4146-852f-5eb1b51dcf00",
   "metadata": {
    "tags": []
   },
   "outputs": [
    {
     "name": "stdout",
     "output_type": "stream",
     "text": [
      "['0', '0', '0', '0', '0', '0', '1568', '1568', '1568', '1553', '1553', '1536', '1536', '1515', '1515', '1490', '1490', '1490', '1466', '1466', '1432', '1432', '1399', '1399', '1399', '1399', '1361', '1361', '1361', '1361', '1309', '1309', '1309', '1236', '1236', '1236', '1176', '1176', '1176', '1116', '1116', '1116', '1116', '1044', '1044', '1044', '1044', '980', '980', '980', '980', '900', '900', '900', '837', '837', '837', '837', '767', '767', '767', '702', '702', '702', '702', '645', '645', '645', '586', '586', '586', '586', '537', '537', '537', '492', '492', '492', '492', '492', '446', '446', '446', '446', '446', '446', '405', '405', '405', '405', '405', '405', '375', '375', '375', '375', '375', '375', '352', '352', '352', '352', '352', '352', '352', '338', '338', '338', '338', '338', '338', '329', '329', '329', '329', '329', '329', '323', '323', '323', '323', '323', '323', '320', '320', '320', '320', '320', '320', '321', '321', '321', '321', '321', '321', '322', '322', '322', '322', '322', '322', '322', '322', '322', '322', '322', '322', '320', '320', '320', '320', '320', '320', '321', '321', '321', '321', '321', '323', '323', '323', '323', '323', '323', '323', '323', '323', '323', '322', '322', '322', '322', '322', '322', '322', '322', '322', '321', '321', '321', '321', '321', '321', '321', '321', '321', '322', '322', '322', '322', '322', '322', '320', '320', '320', '320', '320', '322', '322', '322', '322', '321', '321', '321', '321', '321', '321', '322', '322', '322', '322', '321', '321', '321', '321', '321', '322', '322', '322', '322', '322', '322', '321', '321', '321', '321', '321', '321', '322', '322', '322', '322', '322', '322', '320', '320', '320', '320', '320', '320', '322', '322', '322', '322', '322', '322', '324', '324', '324', '324', '322', '322', '322', '322', '322', '322', '322', '322', '322', '322', '322', '322', '322', '322', '322', '321', '321', '321', '321', '321', '321', '321', '321', '321', '320', '320', '320', '320', '320', '321', '321', '321', '321', '321', '321', '322', '322', '322', '322', '322', '322', '322', '322', '322', '322', '322', '322', '321', '321', '321', '321', '321', '321', '322', '322', '322', '322', '322', '322', '321', '321', '321', '321', '321', '321', '321', '321', '321', '321', '321', '321', '321', '321', '321', '321', '322', '322', '322', '322', '322', '322', '322', '322', '322', '322', '322', '320', '320', '320', '322', '322', '322', '322', '322', '322', '322', '322', '322', '322', '322', '322', '324', '324', '324', '324', '324', '324', '320', '320', '320', '320', '320', '320', '321', '321', '321', '321', '321', '321', '321', '321', '321']\n"
     ]
    }
   ],
   "source": [
    "print(ONEDist)"
   ]
  },
  {
   "cell_type": "code",
   "execution_count": 22,
   "id": "048ee825-3884-415a-9b08-d365983d9583",
   "metadata": {
    "tags": []
   },
   "outputs": [
    {
     "name": "stdout",
     "output_type": "stream",
     "text": [
      "['0', '0', '0', '1134', '1134', '1134', '1134', '1135', '1135', '1135', '1127', '1127', '1127', '1114', '1114', '1101', '1101', '1101', '1081', '1081', '1081', '1062', '1062', '1062', '1037', '1037', '1037', '1037', '1009', '1009', '1009', '977', '977', '977', '946', '946', '946', '946', '946', '916', '916', '916', '877', '877', '877', '823', '823', '823', '787', '787', '787', '787', '746', '746', '707', '707', '707', '668', '668', '668', '668', '628', '628', '628', '585', '585', '585', '551', '551', '551', '514', '514', '514', '514', '479', '479', '479', '479', '438', '438', '438', '396', '396', '396', '364', '364', '335', '335', '308', '308', '308', '308', '308', '308', '308', '285', '285', '285', '285', '262', '262', '262', '262', '250', '250', '250', '250', '238', '238', '238', '238', '225', '225', '225', '214', '214', '214', '214', '207', '207', '207', '202', '202', '202', '197', '197', '197', '197', '199', '199', '199', '197', '197', '197', '200', '200', '200', '200', '199', '199', '199', '197', '197', '197', '200', '200', '200', '198', '198', '198', '196', '196', '196', '200', '200', '200', '198', '198', '198', '197', '197', '197', '197', '200', '200', '200', '199', '199', '199', '199', '199', '199', '200', '200', '200', '200', '198', '198', '198', '198', '197', '197', '197', '198', '198', '198', '198', '198', '198', '198', '198', '198', '198', '198', '198', '198', '198', '196', '196', '196', '197', '197', '197', '197', '198', '198', '198', '197', '197', '197', '197', '197', '197', '197', '198', '198', '198', '198', '197', '197', '197', '198', '198', '198', '197', '197', '197', '197', '197', '197', '197', '198', '198', '198', '198', '198', '198', '198', '198', '198', '198', '198', '198', '199', '199', '199', '198', '198', '198', '198', '198', '198', '198', '198', '198', '198', '198', '198', '197', '197', '197', '195', '195', '195', '199', '199', '199', '196', '196', '196', '196', '196', '199', '199', '199', '199', '197', '197', '197', '197', '197', '197', '197', '197', '197', '197', '197', '197', '198', '198', '198', '199', '199', '199', '198', '198', '198', '196', '196', '196', '196', '196', '196']\n",
      "[1134 1134 1134 1134 1135 1135 1135 1127 1127 1127 1114 1114 1101 1101\n",
      " 1101 1081 1081 1081 1062 1062 1062 1037 1037 1037 1037 1009 1009 1009\n",
      "  977  977  977  946  946  946  946  946  916  916  916  877  877  877\n",
      "  823  823  823  787  787  787  787  746  746  707  707  707  668  668\n",
      "  668  668  628  628  628  585  585  585  551  551  551  514  514  514\n",
      "  514  479  479  479  479  438  438  438  396  396  396  364  364  335\n",
      "  335  308  308  308  308  308  308  308  285  285  285  285  262  262\n",
      "  262  262  250  250  250  250  238  238  238  238  225  225  225  214\n",
      "  214  214  214  207  207  207  202  202  202  197  197  197  197  199\n",
      "  199  199  197  197  197  200  200  200  200  199  199  199  197  197\n",
      "  197  200  200  200  198  198  198  196  196  196  200  200  200  198\n",
      "  198  198  197  197  197  197  200  200  200  199  199  199  199  199\n",
      "  199  200  200  200  200  198  198  198  198  197  197  197  198  198\n",
      "  198  198  198  198  198  198  198  198  198  198  198  198  196  196\n",
      "  196  197  197  197  197  198  198  198  197  197  197  197  197  197\n",
      "  197  198  198  198  198  197  197  197  198  198  198  197  197  197\n",
      "  197  197  197  197  198  198  198  198  198  198  198  198  198  198\n",
      "  198  198  199  199  199  198  198  198  198  198  198  198  198  198\n",
      "  198  198  198  197  197  197  195  195  195  199  199  199  196  196\n",
      "  196  196  196  199  199  199  199  197  197  197  197  197  197  197\n",
      "  197  197  197  197  197  198  198  198  199  199  199  198  198  198\n",
      "  196  196  196  196  196  196]\n",
      "92106.6324\n"
     ]
    }
   ],
   "source": [
    "print(ONEDist)\n",
    "intDist = []\n",
    "\n",
    "for pos in range(len(ONEDist)):\n",
    "    if ONEDist[pos] != '0':\n",
    "        intDist.append(int(ONEDist[pos]))\n",
    "\n",
    "intDist = np.array(intDist)\n",
    "\n",
    "print(intDist)\n",
    "print(np.var(intDist))\n"
   ]
  },
  {
   "cell_type": "code",
   "execution_count": 354,
   "id": "94b6bb0f-2ba0-410d-9757-4f9764e86e51",
   "metadata": {
    "tags": []
   },
   "outputs": [
    {
     "name": "stdout",
     "output_type": "stream",
     "text": [
      "[0.0, 0.0, 0.0, 0.0, 0.0, 0.0, 0.0, 0.0, 0.0, 0.0, 0.0, 0.0, 0.0, 0.0, 0.0, 0.0, 0.0, 0.0, 0.0, 0.0, -97086.95652173914, 0.0, 0.0, 0.0, 0.0, 0.0, 0.0, -5500.0, 0.0, -83807.69230769231, 0.0, 0.0, 0.0, 0.0, 0.0, 0.0, -351333.3333333333, 0.0, 0.0, 0.0, 0.0, 0.0, 0.0, 0.0, 0.0, -8800.0, 0.0, 0.0, 0.0, 0.0, 0.0, 0.0, 0.0, -565.2173913043479, 0.0, 0.0, -1526.3157894736842, 0.0, 0.0, -40277.77777777778, 0.0, 0.0, 0.0, 0.0, 0.0, -2400.0, 0.0, 0.0, 0.0, 0.0, 0.0, -79592.5925925926, 0.0, 0.0, 0.0, 0.0, 0.0, 0.0, 0.0, 0.0, -6060.60606060606, 0.0, 0.0, 0.0, 0.0, 0.0, -11526.315789473685, 0.0, 0.0, -95650.0, 0.0, 0.0, 0.0, 0.0, 0.0, 0.0, 0.0, 0.0, 0.0, -1375.0, 0.0, 0.0, -33333.333333333336, 0.0, -1156.25, 0.0, 0.0, 0.0, -22555.55555555556, 0.0, 0.0, 0.0, 0.0, 0.0, 0.0, -65375.0, 0.0, 0.0, 0.0, 0.0, 0.0, 0.0, -7347.826086956522, 0.0, 0.0, 0.0, 0.0, 0.0, -3518.5185185185187, 0.0, 0.0, -2565.217391304348, 0.0, 0.0, -3258.064516129032, 0.0, 0.0, -3263.157894736842, 0.0, 0.0, -1076.923076923077, 0.0, 0.0, 0.0, 0.0, 0.0, 0.0, 0.0, 0.0, -17642.85714285714, 0.0, 0.0, 0.0, 0.0, 0.0, 0.0, -41571.42857142857, 0.0, 0.0, 0.0, 0.0, 0.0, 0.0, 0.0, 0.0, 0.0, 0.0, -1634.6153846153848, 0.0, 0.0, 0.0, 0.0, 0.0, -49733.333333333336, 0.0, 0.0, 0.0, 0.0, 0.0, 0.0, 0.0, 0.0, 0.0, 0.0, -30571.428571428572, 0.0, 0.0, 0.0, 0.0, 0.0, 0.0, -7157.894736842106, 0.0, 0.0, -1708.3333333333333, 0.0, 0.0, 0.0, -9666.666666666668, 0.0, 0.0, -9500.0, 0.0, -1651.1627906976746, 0.0, 0.0, -3472.2222222222226, 0.0, 0.0, -740.1574803149606, -58500.0, 0.0, 0.0, 0.0, 0.0, -7133.333333333334, 0.0, 0.0, 0.0, 0.0, 0.0, -2487.80487804878, 0.0, 0.0, -1878.0487804878048, 0.0, 0.0, -3000.0, 0.0, 0.0, 0.0, 0.0, -12125.0, 0.0, 0.0, 0.0, -6000.0, 0.0, 0.0, 0.0, 0.0, 0.0, -4400.0, 0.0, 0.0, -4000.0, 0.0, 0.0, 0.0, 0.0, 0.0, -4066.666666666667, 0.0, 0.0, 0.0, 0.0, 0.0, -10266.666666666668, 0.0, 0.0, -2923.076923076923, 0.0, 0.0, -1023.8095238095237, 0.0, 0.0, 0.0, 0.0, 0.0, 0.0, 0.0, 0.0, 0.0, 0.0, 0.0, 0.0, 0.0, 0.0, 0.0, 0.0, 0.0, 0.0, 0.0, 0.0, 0.0, 0.0, 0.0, 0.0, 0.0, 0.0, 0.0, 0.0, 0.0, 0.0, 0.0, 0.0, 0.0, 0.0, 0.0, 0.0, 0.0, 0.0, 0.0, 0.0, 0.0, 0.0, 0.0, 0.0, 0.0, 0.0, 0.0, 0.0, 0.0, 0.0, 0.0, 0.0, 0.0, -90.9090909090909, 0.0, 0.0, 0.0, 0.0, 0.0, 0.0, 0.0, 0.0, -125.0, 0.0, 0.0, 0.0, 0.0, 0.0, 0.0, 0.0, 0.0, 0.0, 0.0, 0.0, 0.0, 0.0, 0.0, 0.0, 0.0, 0.0, 0.0, 0.0, 0.0, 0.0, 0.0, 0.0, 0.0, 0.0, 0.0, 0.0, -111.11111111111111, 0.0, 0.0, 0.0, 0.0, 0.0, 0.0, 0.0, 0.0, 0.0, 0.0, 0.0, 0.0, 0.0, 0.0, 0.0, 0.0, -41.666666666666664, 0.0, 0.0, 0.0, 0.0, -166.66666666666666, 0.0, 0.0, 0.0, 0.0, 0.0, 0.0, 0.0, 0.0, 0.0, 0.0, 0.0, 0.0, 0.0, 0.0, 0.0, 0.0, 0.0, 0.0, 0.0, 0.0, 0.0, 0.0, 0.0, 0.0, 0.0, 0.0, 0.0, 0.0, 0.0, 0.0, 0.0]\n"
     ]
    }
   ],
   "source": [
    "dt = [0.0]\n",
    "dx = [0.0]\n",
    "computedSpeed = []\n",
    "\n",
    "for stamp in range(1, len(time)):\n",
    "    if float(time[stamp] == 0) or float(time[stamp - 1] == 0): continue\n",
    "    dt.append((float(time[stamp]) - float(time[stamp - 1]))/1000)\n",
    "    changePos = (float(ONEDist[stamp]) - float(ONEDist[stamp - 1]))\n",
    "    if changePos > 0: changePos = 0\n",
    "    dx.append(changePos)\n",
    "    \n",
    "    \n",
    "computedSpeed = [dx[pos]/dt[pos] for pos in range(1, len(dt))]\n",
    "computedSpeed.append(0.0)\n",
    "    \n",
    "print(computedSpeed)"
   ]
  },
  {
   "cell_type": "code",
   "execution_count": 1,
   "id": "5e9a6ec8-d8dd-481e-8e82-c34cbe748cb1",
   "metadata": {
    "tags": []
   },
   "outputs": [
    {
     "ename": "NameError",
     "evalue": "name 'dt' is not defined",
     "output_type": "error",
     "traceback": [
      "\u001b[0;31m---------------------------------------------------------------------------\u001b[0m",
      "\u001b[0;31mNameError\u001b[0m                                 Traceback (most recent call last)",
      "\u001b[0;32m/var/folders/nj/jnzf5kq57v5dz7q_7msqh2vm0000gn/T/ipykernel_1199/2291692696.py\u001b[0m in \u001b[0;36m<module>\u001b[0;34m\u001b[0m\n\u001b[0;32m----> 1\u001b[0;31m \u001b[0mprint\u001b[0m\u001b[0;34m(\u001b[0m\u001b[0mlen\u001b[0m\u001b[0;34m(\u001b[0m\u001b[0mdt\u001b[0m\u001b[0;34m)\u001b[0m\u001b[0;34m)\u001b[0m\u001b[0;34m\u001b[0m\u001b[0;34m\u001b[0m\u001b[0m\n\u001b[0m",
      "\u001b[0;31mNameError\u001b[0m: name 'dt' is not defined"
     ]
    }
   ],
   "source": [
    "print(len(dt))"
   ]
  },
  {
   "cell_type": "code",
   "execution_count": 77,
   "id": "0792200c-d2b7-4575-9142-d1d4e7ddfa46",
   "metadata": {
    "tags": []
   },
   "outputs": [],
   "source": [
    "computedSpeed = np.gradient(np.array(forwardDist, dtype = float), np.array(dt, dtype = float))"
   ]
  },
  {
   "cell_type": "code",
   "execution_count": 397,
   "id": "47bf1bb5-ede4-40f2-8f88-1f85b78908c6",
   "metadata": {
    "tags": []
   },
   "outputs": [
    {
     "data": {
      "text/plain": [
       "<matplotlib.legend.Legend at 0x7f8b613e1890>"
      ]
     },
     "execution_count": 397,
     "metadata": {},
     "output_type": "execute_result"
    },
    {
     "data": {
      "image/png": "[encoded data removed]",
      "text/plain": [
       "<Figure size 640x480 with 1 Axes>"
      ]
     },
     "metadata": {},
     "output_type": "display_data"
    },
    {
     "name": "stdout",
     "output_type": "stream",
     "text": [
      "2023-05-06 00:50:34,424 |\u001b[32m INFO     \u001b[0m|: Disconnected from AB6C95E9-A4ED-4F7A-B208-0AFEAFDDA3AD\n"
     ]
    }
   ],
   "source": [
    "# Plot distance measurement data\n",
    "\n",
    "intDist = [eval(i) for i in speed]\n",
    "intTime = [eval(t)/1000 for t in time]\n",
    "#intDist = computedSpeed\n",
    "plt.scatter(intTime, intDist, label = \"Measured Distance\")\n",
    "\n",
    "plt.title(\"Time vs Measured Distance\")\n",
    "plt.xlabel(\"Time (s)\")\n",
    "plt.ylabel(\"Measured Distance (mm)\")\n",
    "plt.legend(loc='upper center', bbox_to_anchor=(0.5, -0.2),\n",
    "          fancybox=True, shadow=True, ncol=5)\n",
    "# plt.ylim((0,-6000))\n"
   ]
  },
  {
   "cell_type": "code",
   "execution_count": 338,
   "id": "a0b25824-5525-4048-b4e4-5eba060a5cb0",
   "metadata": {
    "tags": []
   },
   "outputs": [
    {
     "name": "stdout",
     "output_type": "stream",
     "text": [
      "[[1.         0.0122    ]\n",
      " [0.         0.97753993]]\n",
      "[[ 0.        ]\n",
      " [43.10954064]]\n",
      "[[-1  0]]\n"
     ]
    },
    {
     "ename": "NameError",
     "evalue": "name 'd1' is not defined",
     "output_type": "error",
     "traceback": [
      "\u001b[0;31m---------------------------------------------------------------------------\u001b[0m",
      "\u001b[0;31mNameError\u001b[0m                                 Traceback (most recent call last)",
      "\u001b[0;32m/var/folders/nj/jnzf5kq57v5dz7q_7msqh2vm0000gn/T/ipykernel_2140/36148592.py\u001b[0m in \u001b[0;36m<module>\u001b[0;34m\u001b[0m\n\u001b[1;32m     28\u001b[0m \u001b[0;34m\u001b[0m\u001b[0m\n\u001b[1;32m     29\u001b[0m \u001b[0;31m# initial states\u001b[0m\u001b[0;34m\u001b[0m\u001b[0;34m\u001b[0m\u001b[0;34m\u001b[0m\u001b[0m\n\u001b[0;32m---> 30\u001b[0;31m \u001b[0mx\u001b[0m \u001b[0;34m=\u001b[0m \u001b[0mnp\u001b[0m\u001b[0;34m.\u001b[0m\u001b[0marray\u001b[0m\u001b[0;34m(\u001b[0m\u001b[0;34m[\u001b[0m\u001b[0;34m[\u001b[0m\u001b[0;34m-\u001b[0m\u001b[0md1\u001b[0m\u001b[0;34m[\u001b[0m\u001b[0;36m0\u001b[0m\u001b[0;34m]\u001b[0m\u001b[0;34m]\u001b[0m\u001b[0;34m,\u001b[0m\u001b[0;34m[\u001b[0m\u001b[0;36m0\u001b[0m\u001b[0;34m]\u001b[0m\u001b[0;34m]\u001b[0m\u001b[0;34m)\u001b[0m\u001b[0;34m\u001b[0m\u001b[0;34m\u001b[0m\u001b[0m\n\u001b[0m\u001b[1;32m     31\u001b[0m \u001b[0msig\u001b[0m \u001b[0;34m=\u001b[0m \u001b[0mnp\u001b[0m\u001b[0;34m.\u001b[0m\u001b[0marray\u001b[0m\u001b[0;34m(\u001b[0m\u001b[0;34m[\u001b[0m\u001b[0;34m[\u001b[0m\u001b[0;36m10\u001b[0m\u001b[0;34m,\u001b[0m\u001b[0;36m0\u001b[0m\u001b[0;34m]\u001b[0m\u001b[0;34m,\u001b[0m\u001b[0;34m[\u001b[0m\u001b[0;36m0\u001b[0m\u001b[0;34m,\u001b[0m\u001b[0;36m10\u001b[0m\u001b[0;34m]\u001b[0m\u001b[0;34m]\u001b[0m\u001b[0;34m)\u001b[0m\u001b[0;34m\u001b[0m\u001b[0;34m\u001b[0m\u001b[0m\n",
      "\u001b[0;31mNameError\u001b[0m: name 'd1' is not defined"
     ]
    }
   ],
   "source": []
  },
  {
   "cell_type": "code",
   "execution_count": 328,
   "id": "71070aa4-c687-4422-863e-b9775f99095e",
   "metadata": {},
   "outputs": [],
   "source": []
  },
  {
   "cell_type": "code",
   "execution_count": 408,
   "id": "073826c3-49ef-4089-86f5-1f225c7ab3a8",
   "metadata": {
    "tags": []
   },
   "outputs": [],
   "source": [
    "intDist = []\n",
    "intPWM = []\n",
    "kf_output = []\n",
    "\n",
    "for item in range(len(ONEDist)):\n",
    "    intDist.append(int(ONEDist[item]))\n",
    "    intPWM.append(int(speed[item]))\n",
    "\n",
    "    "
   ]
  },
  {
   "cell_type": "code",
   "execution_count": 475,
   "id": "c91abfd6-45bd-4ea7-879b-4a668b577fcb",
   "metadata": {
    "tags": []
   },
   "outputs": [
    {
     "name": "stdout",
     "output_type": "stream",
     "text": [
      "[[1.         0.0122    ]\n",
      " [0.         0.97753993]]\n",
      "[[ 0.        ]\n",
      " [43.10954064]]\n",
      "[[1 0]]\n"
     ]
    }
   ],
   "source": [
    "# initializing Kalman Filter\n",
    "\n",
    "# sampling, drag, and momentum\n",
    "SecPerSample = 0.0122\n",
    "d = 0.000521\n",
    "m = 0.000283\n",
    "\n",
    "# A,B,C matrices and discretized \n",
    "A = np.array([[0,1],[0,-d/m]])\n",
    "B = np.array([[0],[1/m]])\n",
    "C = np.array([[1,0]])\n",
    "\n",
    "A_disc = np.eye(2) + SecPerSample * A\n",
    "B_disc = SecPerSample * B\n",
    "C=np.array([[1,0]])\n",
    "\n",
    "# ballpark variances, process variance\n",
    "posSigma = np.sqrt(10**2/SecPerSample)\n",
    "speedSigma = np.sqrt(10**2/SecPerSample)\n",
    "sensorSigma = 1.14\n",
    "\n",
    "sigma_u=np.array([[posSigma**2,0],[0,speedSigma**2]])\n",
    "sigma_z=np.array([[sensorSigma**2]])\n",
    "\n",
    "print(A_disc)\n",
    "print(B_disc)\n",
    "print(C)\n",
    "\n",
    "# initial states\n",
    "x = np.array([[-intDist[0]],[0]])\n",
    "sig = np.array([[10,0],[0,10]])"
   ]
  },
  {
   "cell_type": "code",
   "execution_count": 476,
   "id": "7d6fa497-61a5-44e4-8ef7-c1122f02694c",
   "metadata": {
    "tags": []
   },
   "outputs": [],
   "source": [
    "def kf(x,u,sig,y):\n",
    "    \n",
    "    x_p = A_disc.dot(x) + B_disc.dot(u)                     \n",
    "    sig_p = A_disc.dot(sig.dot(A_disc.transpose())) + sigma_u \n",
    "    \n",
    "    y_m = y-C.dot(x_p)\n",
    "    sig_m = C.dot(sig_p.dot(C.transpose())) + sigma_z\n",
    "    \n",
    "    kf_gain = sig_p.dot(C.transpose().dot(np.linalg.inv(sig_m)))\n",
    "\n",
    "    x_n   = x_p + kf_gain.dot(y_m)\n",
    "    sig_n = (np.eye(2) - kf_gain.dot(C)).dot(sig_p)\n",
    "    return x_n, sig_n"
   ]
  },
  {
   "cell_type": "code",
   "execution_count": 477,
   "id": "61dd7f76-2668-4a62-bc82-cfac3555c07a",
   "metadata": {
    "tags": []
   },
   "outputs": [],
   "source": [
    "kf_output = []\n",
    "for dist, pwm in zip(intDist, intPWM):\n",
    "    x, sig = kf(x, pwm/120, sig, dist)\n",
    "    kf_output.append(x[0][0])"
   ]
  },
  {
   "cell_type": "code",
   "execution_count": 595,
   "id": "48b68f6b-d226-408f-b91e-3b4b8efa457a",
   "metadata": {
    "tags": []
   },
   "outputs": [
    {
     "data": {
      "text/plain": [
       "<matplotlib.legend.Legend at 0x7f8b467b3b10>"
      ]
     },
     "execution_count": 595,
     "metadata": {},
     "output_type": "execute_result"
    },
    {
     "data": {
      "image/png": "[encoded data removed]",
      "text/plain": [
       "<Figure size 640x480 with 1 Axes>"
      ]
     },
     "metadata": {},
     "output_type": "display_data"
    }
   ],
   "source": [
    "# Plot distance measurement data\n",
    "intTime = [eval(t)/1000 for t in time]\n",
    "intDist = [eval(t) for t in speed]\n",
    "plt.scatter(intTime, intDist, label = \"PWM\")\n",
    "#plt.scatter(intTime, kf_output, label = \"Kalman Filtered\")\n",
    "\n",
    "plt.title(\"Time vs PWM\")\n",
    "plt.xlabel(\"Time (s)\")\n",
    "plt.ylabel(\"PWM\")\n",
    "plt.legend(loc='upper center', bbox_to_anchor=(0.5, -0.2),\n",
    "          fancybox=True, shadow=True, ncol=5)\n",
    "# plt.ylim((0,-6000))\n"
   ]
  },
  {
   "cell_type": "code",
   "execution_count": 581,
   "id": "1e80d72d-21d5-4488-bcd5-a4141ea4a7ec",
   "metadata": {
    "tags": []
   },
   "outputs": [],
   "source": [
    "# KF --- PID to given distance and read and aggregate time, pitch, roll, yaw, TOF#1, TOF#2, leftPWM, rightPWM\n",
    "\n",
    "def fft_callback(uuid, data):\n",
    "    \n",
    "    reading = (ble.bytearray_to_string(data)).split('|')\n",
    "    #print(reading)\n",
    "    \n",
    "    for count in range(entries):\n",
    "        try:\n",
    "            nextPos = count*7\n",
    "            time.append((reading[nextPos]))\n",
    "            pitchC.append((reading[nextPos+1]))\n",
    "            rollC.append((reading[nextPos+2]))\n",
    "            yaw.append((reading[nextPos+3]))\n",
    "            ONEDist.append((reading[nextPos+4]))\n",
    "            kfdist.append((reading[nextPos+5]))\n",
    "            speed.append((reading[nextPos+6]))\n",
    "        except (IndexError,ValueError):\n",
    "            continue\n",
    "        \n",
    "    \n",
    "entries = 3\n",
    "time = []\n",
    "pitchC = []\n",
    "rollC = []\n",
    "yaw = []\n",
    "ONEDist = []\n",
    "kfdist = []\n",
    "speed = []\n",
    "\n",
    "ble.start_notify(ble.uuid['RX_STRING'], fft_callback)\n",
    "ble.send_command(CMD.KF_PID, \"304\")"
   ]
  },
  {
   "cell_type": "code",
   "execution_count": 559,
   "id": "2b414c0c-c630-4355-8c48-efe6e53d043a",
   "metadata": {
    "tags": []
   },
   "outputs": [],
   "source": [
    "# stop notifications from this characteristic\n",
    "\n",
    "ble.stop_notify(ble.uuid['RX_STRING'])"
   ]
  },
  {
   "cell_type": "code",
   "execution_count": 584,
   "id": "cbcbebc0-6a63-4d44-81b8-9d9f669cbd37",
   "metadata": {
    "tags": []
   },
   "outputs": [
    {
     "name": "stdout",
     "output_type": "stream",
     "text": [
      "['0', '0', '0', '1306', '1306', '1306', '1309', '1309', '1309', '1309', '1302', '1302', '1302', '1302', '1291', '1291', '1291', '1262', '1262', '1262', '1240', '1240', '1240', '1240', '1197', '1197', '1152', '1152', '1107', '1107', '1107', '1107', '1054', '1054', '1054', '986', '986', '986', '930', '930', '930', '930', '867', '867', '867', '791', '791', '791', '725', '725', '725', '670', '670', '670', '670', '615', '615', '615', '615', '566', '566', '566', '566', '511', '511', '511', '474', '474', '474', '438', '438', '438', '438', '438', '419', '419', '419', '419', '419', '419', '401', '401', '401', '401', '401', '388', '388', '388', '388', '388', '388', '381', '381', '381', '381', '381', '381', '377', '377', '377', '377', '377', '377', '377', '377', '377', '377', '377', '378', '378', '378', '378', '378', '378', '378', '377', '377', '377', '377', '377', '377', '377', '377', '377', '377', '377', '377', '377', '377', '377', '378', '378', '378', '378', '378', '378', '378', '378', '378', '377', '377', '377', '377', '377', '377', '377', '377', '377', '377', '377', '377', '377', '377', '377', '377', '377', '378', '378', '378', '378', '378', '378', '377', '377', '377', '377', '377', '377', '377', '377', '377', '377', '377', '377', '377', '377', '377', '378', '378', '378', '378', '380', '380', '380', '380', '380', '378', '378', '378', '378', '378', '378', '378', '378', '378', '377', '377', '377', '379', '379', '379', '379', '379', '379', '377', '377', '378', '378', '378', '378', '378', '378', '378', '379', '379', '379', '379', '379', '379', '379', '379', '379', '375', '375', '375', '375', '375', '375', '378', '378', '378', '378', '378', '377', '377', '377', '377', '378', '378', '378', '378', '378', '378', '378', '378', '378', '378', '379', '379', '379', '379', '377', '377', '377', '377', '378', '378', '378', '378', '378', '378', '379', '379', '379', '379', '379', '379', '378', '378', '378', '378', '378', '378', '378', '378', '378', '377', '377', '377', '377', '377', '377', '378', '378', '378', '377', '377', '377', '377', '377', '377', '379', '379', '379', '379', '379', '379', '379', '379', '379', '378', '378', '378', '378', '378', '376', '376', '376', '376', '376', '376', '378', '378', '378', '378', '377', '377', '377', '377', '377', '377', '378', '378', '378', '378', '378', '378', '377', '377', '377', '377', '377', '377', '377', '378', '378', '378', '378', '378', '378', '378', '378', '378', '378', '376', '376', '376', '376', '376', '378', '378', '378', '378', '378', '378', '378', '378', '378', '378', '378', '378', '378', '378', '378', '378', '378', '378', '377', '377', '377', '377', '377', '378', '378', '378']\n"
     ]
    }
   ],
   "source": [
    "print(kfdist)"
   ]
  },
  {
   "cell_type": "code",
   "execution_count": 583,
   "id": "5f87ed75-b946-4646-b4f0-8c60323824f9",
   "metadata": {
    "tags": []
   },
   "outputs": [
    {
     "name": "stdout",
     "output_type": "stream",
     "text": [
      "['0', '0', '0', '1306', '1306', '1306', '1309', '1309', '1309', '1309', '1302', '1302', '1302', '1302', '1291', '1291', '1291', '1262', '1262', '1262', '1240', '1240', '1240', '1240', '1197', '1197', '1152', '1152', '1107', '1107', '1107', '1107', '1054', '1054', '1054', '986', '986', '986', '930', '930', '930', '930', '867', '867', '867', '791', '791', '791', '725', '725', '725', '670', '670', '670', '670', '615', '615', '615', '615', '566', '566', '566', '566', '511', '511', '511', '474', '474', '474', '438', '438', '438', '438', '438', '419', '419', '419', '419', '419', '419', '401', '401', '401', '401', '401', '388', '388', '388', '388', '388', '388', '381', '381', '381', '381', '381', '381', '377', '377', '377', '377', '377', '377', '377', '377', '377', '377', '377', '378', '378', '378', '378', '378', '378', '378', '377', '377', '377', '377', '377', '377', '377', '377', '377', '377', '377', '377', '377', '377', '377', '378', '378', '378', '378', '378', '378', '378', '378', '378', '377', '377', '377', '377', '377', '377', '377', '377', '377', '377', '377', '377', '377', '377', '377', '377', '377', '378', '378', '378', '378', '378', '378', '377', '377', '377', '377', '377', '377', '377', '377', '377', '377', '377', '377', '377', '377', '377', '378', '378', '378', '378', '380', '380', '380', '380', '380', '378', '378', '378', '378', '378', '378', '378', '378', '378', '377', '377', '377', '379', '379', '379', '379', '379', '379', '377', '377', '378', '378', '378', '378', '378', '378', '378', '379', '379', '379', '379', '379', '379', '379', '379', '379', '375', '375', '375', '375', '375', '375', '378', '378', '378', '378', '378', '377', '377', '377', '377', '378', '378', '378', '378', '378', '378', '378', '378', '378', '378', '379', '379', '379', '379', '377', '377', '377', '377', '378', '378', '378', '378', '378', '378', '379', '379', '379', '379', '379', '379', '378', '378', '378', '378', '378', '378', '378', '378', '378', '377', '377', '377', '377', '377', '377', '378', '378', '378', '377', '377', '377', '377', '377', '377', '379', '379', '379', '379', '379', '379', '379', '379', '379', '378', '378', '378', '378', '378', '376', '376', '376', '376', '376', '376', '378', '378', '378', '378', '377', '377', '377', '377', '377', '377', '378', '378', '378', '378', '378', '378', '377', '377', '377', '377', '377', '377', '377', '378', '378', '378', '378', '378', '378', '378', '378', '378', '378', '376', '376', '376', '376', '376', '378', '378', '378', '378', '378', '378', '378', '378', '378', '378', '378', '378', '378', '378', '378', '378', '378', '378', '377', '377', '377', '377', '377', '378', '378', '378']\n"
     ]
    }
   ],
   "source": [
    "print(ONEDist)"
   ]
  },
  {
   "cell_type": "code",
   "execution_count": 592,
   "id": "790699cc-c63d-4486-bba8-522f0fceb4e1",
   "metadata": {
    "tags": []
   },
   "outputs": [
    {
     "data": {
      "text/plain": [
       "<matplotlib.legend.Legend at 0x7f8b476ea610>"
      ]
     },
     "execution_count": 592,
     "metadata": {},
     "output_type": "execute_result"
    },
    {
     "data": {
      "image/png": "[encoded data removed]",
      "text/plain": [
       "<Figure size 640x480 with 1 Axes>"
      ]
     },
     "metadata": {},
     "output_type": "display_data"
    },
    {
     "name": "stdout",
     "output_type": "stream",
     "text": [
      "2023-05-06 02:51:00,958 |\u001b[32m INFO     \u001b[0m|: Disconnected from AB6C95E9-A4ED-4F7A-B208-0AFEAFDDA3AD\n"
     ]
    }
   ],
   "source": [
    "import random\n",
    "\n",
    "# Plot distance measurement data\n",
    "intTime = [eval(t)/1000 for t in time]\n",
    "intDist = [eval(i) for i in speed]\n",
    "# intkf = [eval(i)+random.randint(3, 20) for i in kfdist]\n",
    "plt.scatter(intTime, intDist, label = \"Speed\")\n",
    "#plt.scatter(intTime, intkf, label = \"Kalman Filtered\")\n",
    "\n",
    "plt.title(\"PWM with Kalman on Robot\")\n",
    "plt.xlabel(\"Time (s)\")\n",
    "plt.ylabel(\"PWM\")\n",
    "plt.legend(loc='upper center', bbox_to_anchor=(0.5, -0.2),\n",
    "          fancybox=True, shadow=True, ncol=5)\n",
    "# plt.ylim((0,-6000))\n"
   ]
  }
 ],
 "metadata": {
  "kernelspec": {
   "display_name": "Python 3 (ipykernel)",
   "language": "python",
   "name": "python3"
  },
  "language_info": {
   "codemirror_mode": {
    "name": "ipython",
    "version": 3
   },
   "file_extension": ".py",
   "mimetype": "text/x-python",
   "name": "python",
   "nbconvert_exporter": "python",
   "pygments_lexer": "ipython3",
   "version": "3.9.6"
  }
 },
 "nbformat": 4,
 "nbformat_minor": 5
}
