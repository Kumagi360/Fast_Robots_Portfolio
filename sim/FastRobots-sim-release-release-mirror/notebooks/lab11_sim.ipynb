{
 "cells": [
  {
   "attachments": {},
   "cell_type": "markdown",
   "metadata": {},
   "source": [
    "# Lab 11: Grid Localization using Bayes Filter (Virtual Robot)\n",
    "\n",
    "### <span style=\"color:rgb(0,150,0)\">It is recommended that you close any heavy-duty applications running on your system while working on this lab.</span>\n",
    "\n",
    "<hr>\n"
   ]
  },
  {
   "cell_type": "code",
   "execution_count": 1,
   "metadata": {},
   "outputs": [
    {
     "name": "stderr",
     "output_type": "stream",
     "text": [
      "Usage: ipykernel_launcher.py [options]\n",
      "\n",
      "ipykernel_launcher.py: error: no such option: --ip\n"
     ]
    },
    {
     "ename": "AttributeError",
     "evalue": "'tuple' object has no attribute 'tb_frame'",
     "output_type": "error",
     "traceback": [
      "\u001b[0;31m---------------------------------------------------------------------------\u001b[0m",
      "\u001b[0;31mBadOptionError\u001b[0m                            Traceback (most recent call last)",
      "File \u001b[0;32m/Library/Developer/CommandLineTools/Library/Frameworks/Python3.framework/Versions/3.9/lib/python3.9/optparse.py:1387\u001b[0m, in \u001b[0;36mOptionParser.parse_args\u001b[0;34m(self, args, values)\u001b[0m\n\u001b[1;32m   1386\u001b[0m \u001b[39mtry\u001b[39;00m:\n\u001b[0;32m-> 1387\u001b[0m     stop \u001b[39m=\u001b[39m \u001b[39mself\u001b[39;49m\u001b[39m.\u001b[39;49m_process_args(largs, rargs, values)\n\u001b[1;32m   1388\u001b[0m \u001b[39mexcept\u001b[39;00m (BadOptionError, OptionValueError) \u001b[39mas\u001b[39;00m err:\n",
      "File \u001b[0;32m/Library/Developer/CommandLineTools/Library/Frameworks/Python3.framework/Versions/3.9/lib/python3.9/optparse.py:1427\u001b[0m, in \u001b[0;36mOptionParser._process_args\u001b[0;34m(self, largs, rargs, values)\u001b[0m\n\u001b[1;32m   1425\u001b[0m \u001b[39melif\u001b[39;00m arg[\u001b[39m0\u001b[39m:\u001b[39m2\u001b[39m] \u001b[39m==\u001b[39m \u001b[39m\"\u001b[39m\u001b[39m--\u001b[39m\u001b[39m\"\u001b[39m:\n\u001b[1;32m   1426\u001b[0m     \u001b[39m# process a single long option (possibly with value(s))\u001b[39;00m\n\u001b[0;32m-> 1427\u001b[0m     \u001b[39mself\u001b[39;49m\u001b[39m.\u001b[39;49m_process_long_opt(rargs, values)\n\u001b[1;32m   1428\u001b[0m \u001b[39melif\u001b[39;00m arg[:\u001b[39m1\u001b[39m] \u001b[39m==\u001b[39m \u001b[39m\"\u001b[39m\u001b[39m-\u001b[39m\u001b[39m\"\u001b[39m \u001b[39mand\u001b[39;00m \u001b[39mlen\u001b[39m(arg) \u001b[39m>\u001b[39m \u001b[39m1\u001b[39m:\n\u001b[1;32m   1429\u001b[0m     \u001b[39m# process a cluster of short options (possibly with\u001b[39;00m\n\u001b[1;32m   1430\u001b[0m     \u001b[39m# value(s) for the last one only)\u001b[39;00m\n",
      "File \u001b[0;32m/Library/Developer/CommandLineTools/Library/Frameworks/Python3.framework/Versions/3.9/lib/python3.9/optparse.py:1480\u001b[0m, in \u001b[0;36mOptionParser._process_long_opt\u001b[0;34m(self, rargs, values)\u001b[0m\n\u001b[1;32m   1478\u001b[0m     had_explicit_value \u001b[39m=\u001b[39m \u001b[39mFalse\u001b[39;00m\n\u001b[0;32m-> 1480\u001b[0m opt \u001b[39m=\u001b[39m \u001b[39mself\u001b[39;49m\u001b[39m.\u001b[39;49m_match_long_opt(opt)\n\u001b[1;32m   1481\u001b[0m option \u001b[39m=\u001b[39m \u001b[39mself\u001b[39m\u001b[39m.\u001b[39m_long_opt[opt]\n",
      "File \u001b[0;32m/Library/Developer/CommandLineTools/Library/Frameworks/Python3.framework/Versions/3.9/lib/python3.9/optparse.py:1465\u001b[0m, in \u001b[0;36mOptionParser._match_long_opt\u001b[0;34m(self, opt)\u001b[0m\n\u001b[1;32m   1459\u001b[0m \u001b[39m\u001b[39m\u001b[39m\"\"\"_match_long_opt(opt : string) -> string\u001b[39;00m\n\u001b[1;32m   1460\u001b[0m \n\u001b[1;32m   1461\u001b[0m \u001b[39mDetermine which long option string 'opt' matches, ie. which one\u001b[39;00m\n\u001b[1;32m   1462\u001b[0m \u001b[39mit is an unambiguous abbreviation for.  Raises BadOptionError if\u001b[39;00m\n\u001b[1;32m   1463\u001b[0m \u001b[39m'opt' doesn't unambiguously match any long option string.\u001b[39;00m\n\u001b[1;32m   1464\u001b[0m \u001b[39m\"\"\"\u001b[39;00m\n\u001b[0;32m-> 1465\u001b[0m \u001b[39mreturn\u001b[39;00m _match_abbrev(opt, \u001b[39mself\u001b[39;49m\u001b[39m.\u001b[39;49m_long_opt)\n",
      "File \u001b[0;32m/Library/Developer/CommandLineTools/Library/Frameworks/Python3.framework/Versions/3.9/lib/python3.9/optparse.py:1670\u001b[0m, in \u001b[0;36m_match_abbrev\u001b[0;34m(s, wordmap)\u001b[0m\n\u001b[1;32m   1669\u001b[0m \u001b[39melif\u001b[39;00m \u001b[39mnot\u001b[39;00m possibilities:\n\u001b[0;32m-> 1670\u001b[0m     \u001b[39mraise\u001b[39;00m BadOptionError(s)\n\u001b[1;32m   1671\u001b[0m \u001b[39melse\u001b[39;00m:\n\u001b[1;32m   1672\u001b[0m     \u001b[39m# More than one possible completion: ambiguous prefix.\u001b[39;00m\n",
      "\u001b[0;31mBadOptionError\u001b[0m: no such option: --ip",
      "\nDuring handling of the above exception, another exception occurred:\n",
      "\u001b[0;31mSystemExit\u001b[0m                                Traceback (most recent call last)",
      "    \u001b[0;31m[... skipping hidden 1 frame]\u001b[0m\n",
      "Cell \u001b[0;32mIn[1], line 5\u001b[0m\n\u001b[1;32m      4\u001b[0m \u001b[39mimport\u001b[39;00m \u001b[39mtraceback\u001b[39;00m\n\u001b[0;32m----> 5\u001b[0m \u001b[39mfrom\u001b[39;00m \u001b[39mnotebook_utils\u001b[39;00m \u001b[39mimport\u001b[39;00m \u001b[39m*\u001b[39m\n\u001b[1;32m      6\u001b[0m \u001b[39mfrom\u001b[39;00m \u001b[39mTraj\u001b[39;00m \u001b[39mimport\u001b[39;00m \u001b[39m*\u001b[39m\n",
      "File \u001b[0;32m~/Desktop/CORNELL/SP23/Fast Robots/Fast_Robots_Portfolio/sim/FastRobots-sim-release-release-mirror/notebooks/notebook_utils.py:12\u001b[0m\n\u001b[1;32m     11\u001b[0m \u001b[39mfrom\u001b[39;00m \u001b[39mmultiprocessing\u001b[39;00m \u001b[39mimport\u001b[39;00m Process\n\u001b[0;32m---> 12\u001b[0m \u001b[39mfrom\u001b[39;00m \u001b[39msrc\u001b[39;00m\u001b[39m.\u001b[39;00m\u001b[39mlauncher\u001b[39;00m \u001b[39mimport\u001b[39;00m Launcher, GUI, GET_GUI, START_SIM, STOP_SIM, RESET_SIM, START_PLOTTER, STOP_PLOTTER, RESET_PLOTTER, GUI_GLOBAL, SIMULATOR, PLOTTER\n\u001b[1;32m     13\u001b[0m \u001b[39mimport\u001b[39;00m \u001b[39mtime\u001b[39;00m\n",
      "File \u001b[0;32m~/Desktop/CORNELL/SP23/Fast Robots/Fast_Robots_Portfolio/sim/FastRobots-sim-release-release-mirror/src/launcher.py:11\u001b[0m\n\u001b[1;32m      9\u001b[0m \u001b[39mfrom\u001b[39;00m \u001b[39mIPython\u001b[39;00m\u001b[39m.\u001b[39;00m\u001b[39mdisplay\u001b[39;00m \u001b[39mimport\u001b[39;00m display\n\u001b[0;32m---> 11\u001b[0m \u001b[39mfrom\u001b[39;00m \u001b[39msrc\u001b[39;00m\u001b[39m.\u001b[39;00m\u001b[39msim\u001b[39;00m \u001b[39mimport\u001b[39;00m run \u001b[39mas\u001b[39;00m run_sim\n\u001b[1;32m     12\u001b[0m \u001b[39mfrom\u001b[39;00m \u001b[39msrc\u001b[39;00m\u001b[39m.\u001b[39;00m\u001b[39mplotter\u001b[39;00m \u001b[39mimport\u001b[39;00m run \u001b[39mas\u001b[39;00m run_plotter\n",
      "File \u001b[0;32m~/Desktop/CORNELL/SP23/Fast Robots/Fast_Robots_Portfolio/sim/FastRobots-sim-release-release-mirror/src/sim.py:9\u001b[0m\n\u001b[1;32m      6\u001b[0m \u001b[39mfrom\u001b[39;00m \u001b[39mBox2D\u001b[39;00m \u001b[39mimport\u001b[39;00m (b2Color, b2EdgeShape, b2Vec2,\n\u001b[1;32m      7\u001b[0m                    b2FixtureDef, b2PolygonShape,\n\u001b[1;32m      8\u001b[0m                    b2_pi)\n\u001b[0;32m----> 9\u001b[0m \u001b[39mfrom\u001b[39;00m \u001b[39mexternal_lib\u001b[39;00m\u001b[39m.\u001b[39;00m\u001b[39mbox2d_framework\u001b[39;00m \u001b[39mimport\u001b[39;00m (Framework, Keys, main)\n\u001b[1;32m     10\u001b[0m \u001b[39mimport\u001b[39;00m \u001b[39mpygame\u001b[39;00m\n",
      "File \u001b[0;32m~/Desktop/CORNELL/SP23/Fast Robots/Fast_Robots_Portfolio/sim/FastRobots-sim-release-release-mirror/external_lib/box2d_framework.py:34\u001b[0m\n\u001b[1;32m     32\u001b[0m \u001b[39mfrom\u001b[39;00m \u001b[39mBox2D\u001b[39;00m \u001b[39mimport\u001b[39;00m (b2_addState, b2_dynamicBody, b2_epsilon, b2_persistState)\n\u001b[0;32m---> 34\u001b[0m \u001b[39mfrom\u001b[39;00m \u001b[39mexternal_lib\u001b[39;00m\u001b[39m.\u001b[39;00m\u001b[39mbox2d_settings\u001b[39;00m \u001b[39mimport\u001b[39;00m fwSettings\n\u001b[1;32m     37\u001b[0m \u001b[39mclass\u001b[39;00m \u001b[39mfwDestructionListener\u001b[39;00m(b2DestructionListener):\n",
      "File \u001b[0;32m~/Desktop/CORNELL/SP23/Fast Robots/Fast_Robots_Portfolio/sim/FastRobots-sim-release-release-mirror/external_lib/box2d_settings.py:116\u001b[0m\n\u001b[1;32m    115\u001b[0m parser\u001b[39m.\u001b[39madd_option(\u001b[39m\"\u001b[39m\u001b[39m-f\u001b[39m\u001b[39m\"\u001b[39m, \u001b[39m\"\u001b[39m\u001b[39m--fff\u001b[39m\u001b[39m\"\u001b[39m, help\u001b[39m=\u001b[39m\u001b[39m\"\u001b[39m\u001b[39ma dummy argument to fool ipython\u001b[39m\u001b[39m\"\u001b[39m, default\u001b[39m=\u001b[39m\u001b[39m\"\u001b[39m\u001b[39m1\u001b[39m\u001b[39m\"\u001b[39m)\n\u001b[0;32m--> 116\u001b[0m fwSettings, args \u001b[39m=\u001b[39m parser\u001b[39m.\u001b[39;49mparse_args()\n",
      "File \u001b[0;32m/Library/Developer/CommandLineTools/Library/Frameworks/Python3.framework/Versions/3.9/lib/python3.9/optparse.py:1389\u001b[0m, in \u001b[0;36mOptionParser.parse_args\u001b[0;34m(self, args, values)\u001b[0m\n\u001b[1;32m   1388\u001b[0m \u001b[39mexcept\u001b[39;00m (BadOptionError, OptionValueError) \u001b[39mas\u001b[39;00m err:\n\u001b[0;32m-> 1389\u001b[0m     \u001b[39mself\u001b[39;49m\u001b[39m.\u001b[39;49merror(\u001b[39mstr\u001b[39;49m(err))\n\u001b[1;32m   1391\u001b[0m args \u001b[39m=\u001b[39m largs \u001b[39m+\u001b[39m rargs\n",
      "File \u001b[0;32m/Library/Developer/CommandLineTools/Library/Frameworks/Python3.framework/Versions/3.9/lib/python3.9/optparse.py:1569\u001b[0m, in \u001b[0;36mOptionParser.error\u001b[0;34m(self, msg)\u001b[0m\n\u001b[1;32m   1568\u001b[0m \u001b[39mself\u001b[39m\u001b[39m.\u001b[39mprint_usage(sys\u001b[39m.\u001b[39mstderr)\n\u001b[0;32m-> 1569\u001b[0m \u001b[39mself\u001b[39;49m\u001b[39m.\u001b[39;49mexit(\u001b[39m2\u001b[39;49m, \u001b[39m\"\u001b[39;49m\u001b[39m%s\u001b[39;49;00m\u001b[39m: error: \u001b[39;49m\u001b[39m%s\u001b[39;49;00m\u001b[39m\\n\u001b[39;49;00m\u001b[39m\"\u001b[39;49m \u001b[39m%\u001b[39;49m (\u001b[39mself\u001b[39;49m\u001b[39m.\u001b[39;49mget_prog_name(), msg))\n",
      "File \u001b[0;32m/Library/Developer/CommandLineTools/Library/Frameworks/Python3.framework/Versions/3.9/lib/python3.9/optparse.py:1559\u001b[0m, in \u001b[0;36mOptionParser.exit\u001b[0;34m(self, status, msg)\u001b[0m\n\u001b[1;32m   1558\u001b[0m     sys\u001b[39m.\u001b[39mstderr\u001b[39m.\u001b[39mwrite(msg)\n\u001b[0;32m-> 1559\u001b[0m sys\u001b[39m.\u001b[39;49mexit(status)\n",
      "\u001b[0;31mSystemExit\u001b[0m: 2",
      "\nDuring handling of the above exception, another exception occurred:\n",
      "\u001b[0;31mAttributeError\u001b[0m                            Traceback (most recent call last)",
      "    \u001b[0;31m[... skipping hidden 1 frame]\u001b[0m\n",
      "File \u001b[0;32m~/Desktop/CORNELL/SP23/Fast Robots/Fast_Robots_Portfolio/sim/FastRobots_ble/lib/python3.9/site-packages/IPython/core/interactiveshell.py:2095\u001b[0m, in \u001b[0;36mInteractiveShell.showtraceback\u001b[0;34m(self, exc_tuple, filename, tb_offset, exception_only, running_compiled_code)\u001b[0m\n\u001b[1;32m   2092\u001b[0m \u001b[39mif\u001b[39;00m exception_only:\n\u001b[1;32m   2093\u001b[0m     stb \u001b[39m=\u001b[39m [\u001b[39m'\u001b[39m\u001b[39mAn exception has occurred, use \u001b[39m\u001b[39m%\u001b[39m\u001b[39mtb to see \u001b[39m\u001b[39m'\u001b[39m\n\u001b[1;32m   2094\u001b[0m            \u001b[39m'\u001b[39m\u001b[39mthe full traceback.\u001b[39m\u001b[39m\\n\u001b[39;00m\u001b[39m'\u001b[39m]\n\u001b[0;32m-> 2095\u001b[0m     stb\u001b[39m.\u001b[39mextend(\u001b[39mself\u001b[39;49m\u001b[39m.\u001b[39;49mInteractiveTB\u001b[39m.\u001b[39;49mget_exception_only(etype,\n\u001b[1;32m   2096\u001b[0m                                                      value))\n\u001b[1;32m   2097\u001b[0m \u001b[39melse\u001b[39;00m:\n\u001b[1;32m   2098\u001b[0m     \u001b[39mtry\u001b[39;00m:\n\u001b[1;32m   2099\u001b[0m         \u001b[39m# Exception classes can customise their traceback - we\u001b[39;00m\n\u001b[1;32m   2100\u001b[0m         \u001b[39m# use this in IPython.parallel for exceptions occurring\u001b[39;00m\n\u001b[1;32m   2101\u001b[0m         \u001b[39m# in the engines. This should return a list of strings.\u001b[39;00m\n",
      "File \u001b[0;32m~/Desktop/CORNELL/SP23/Fast Robots/Fast_Robots_Portfolio/sim/FastRobots_ble/lib/python3.9/site-packages/IPython/core/ultratb.py:696\u001b[0m, in \u001b[0;36mListTB.get_exception_only\u001b[0;34m(self, etype, value)\u001b[0m\n\u001b[1;32m    688\u001b[0m \u001b[39mdef\u001b[39;00m \u001b[39mget_exception_only\u001b[39m(\u001b[39mself\u001b[39m, etype, value):\n\u001b[1;32m    689\u001b[0m \u001b[39m    \u001b[39m\u001b[39m\"\"\"Only print the exception type and message, without a traceback.\u001b[39;00m\n\u001b[1;32m    690\u001b[0m \n\u001b[1;32m    691\u001b[0m \u001b[39m    Parameters\u001b[39;00m\n\u001b[0;32m   (...)\u001b[0m\n\u001b[1;32m    694\u001b[0m \u001b[39m    value : exception value\u001b[39;00m\n\u001b[1;32m    695\u001b[0m \u001b[39m    \"\"\"\u001b[39;00m\n\u001b[0;32m--> 696\u001b[0m     \u001b[39mreturn\u001b[39;00m ListTB\u001b[39m.\u001b[39;49mstructured_traceback(\u001b[39mself\u001b[39;49m, etype, value)\n",
      "File \u001b[0;32m~/Desktop/CORNELL/SP23/Fast Robots/Fast_Robots_Portfolio/sim/FastRobots_ble/lib/python3.9/site-packages/IPython/core/ultratb.py:559\u001b[0m, in \u001b[0;36mListTB.structured_traceback\u001b[0;34m(self, etype, evalue, etb, tb_offset, context)\u001b[0m\n\u001b[1;32m    556\u001b[0m     chained_exc_ids\u001b[39m.\u001b[39madd(\u001b[39mid\u001b[39m(exception[\u001b[39m1\u001b[39m]))\n\u001b[1;32m    557\u001b[0m     chained_exceptions_tb_offset \u001b[39m=\u001b[39m \u001b[39m0\u001b[39m\n\u001b[1;32m    558\u001b[0m     out_list \u001b[39m=\u001b[39m (\n\u001b[0;32m--> 559\u001b[0m         \u001b[39mself\u001b[39;49m\u001b[39m.\u001b[39;49mstructured_traceback(\n\u001b[1;32m    560\u001b[0m             etype,\n\u001b[1;32m    561\u001b[0m             evalue,\n\u001b[1;32m    562\u001b[0m             (etb, chained_exc_ids),  \u001b[39m# type: ignore\u001b[39;49;00m\n\u001b[1;32m    563\u001b[0m             chained_exceptions_tb_offset,\n\u001b[1;32m    564\u001b[0m             context,\n\u001b[1;32m    565\u001b[0m         )\n\u001b[1;32m    566\u001b[0m         \u001b[39m+\u001b[39m chained_exception_message\n\u001b[1;32m    567\u001b[0m         \u001b[39m+\u001b[39m out_list)\n\u001b[1;32m    569\u001b[0m \u001b[39mreturn\u001b[39;00m out_list\n",
      "File \u001b[0;32m~/Desktop/CORNELL/SP23/Fast Robots/Fast_Robots_Portfolio/sim/FastRobots_ble/lib/python3.9/site-packages/IPython/core/ultratb.py:1396\u001b[0m, in \u001b[0;36mAutoFormattedTB.structured_traceback\u001b[0;34m(self, etype, evalue, etb, tb_offset, number_of_lines_of_context)\u001b[0m\n\u001b[1;32m   1394\u001b[0m \u001b[39melse\u001b[39;00m:\n\u001b[1;32m   1395\u001b[0m     \u001b[39mself\u001b[39m\u001b[39m.\u001b[39mtb \u001b[39m=\u001b[39m etb\n\u001b[0;32m-> 1396\u001b[0m \u001b[39mreturn\u001b[39;00m FormattedTB\u001b[39m.\u001b[39;49mstructured_traceback(\n\u001b[1;32m   1397\u001b[0m     \u001b[39mself\u001b[39;49m, etype, evalue, etb, tb_offset, number_of_lines_of_context\n\u001b[1;32m   1398\u001b[0m )\n",
      "File \u001b[0;32m~/Desktop/CORNELL/SP23/Fast Robots/Fast_Robots_Portfolio/sim/FastRobots_ble/lib/python3.9/site-packages/IPython/core/ultratb.py:1287\u001b[0m, in \u001b[0;36mFormattedTB.structured_traceback\u001b[0;34m(self, etype, value, tb, tb_offset, number_of_lines_of_context)\u001b[0m\n\u001b[1;32m   1284\u001b[0m mode \u001b[39m=\u001b[39m \u001b[39mself\u001b[39m\u001b[39m.\u001b[39mmode\n\u001b[1;32m   1285\u001b[0m \u001b[39mif\u001b[39;00m mode \u001b[39min\u001b[39;00m \u001b[39mself\u001b[39m\u001b[39m.\u001b[39mverbose_modes:\n\u001b[1;32m   1286\u001b[0m     \u001b[39m# Verbose modes need a full traceback\u001b[39;00m\n\u001b[0;32m-> 1287\u001b[0m     \u001b[39mreturn\u001b[39;00m VerboseTB\u001b[39m.\u001b[39;49mstructured_traceback(\n\u001b[1;32m   1288\u001b[0m         \u001b[39mself\u001b[39;49m, etype, value, tb, tb_offset, number_of_lines_of_context\n\u001b[1;32m   1289\u001b[0m     )\n\u001b[1;32m   1290\u001b[0m \u001b[39melif\u001b[39;00m mode \u001b[39m==\u001b[39m \u001b[39m'\u001b[39m\u001b[39mMinimal\u001b[39m\u001b[39m'\u001b[39m:\n\u001b[1;32m   1291\u001b[0m     \u001b[39mreturn\u001b[39;00m ListTB\u001b[39m.\u001b[39mget_exception_only(\u001b[39mself\u001b[39m, etype, value)\n",
      "File \u001b[0;32m~/Desktop/CORNELL/SP23/Fast Robots/Fast_Robots_Portfolio/sim/FastRobots_ble/lib/python3.9/site-packages/IPython/core/ultratb.py:1140\u001b[0m, in \u001b[0;36mVerboseTB.structured_traceback\u001b[0;34m(self, etype, evalue, etb, tb_offset, number_of_lines_of_context)\u001b[0m\n\u001b[1;32m   1131\u001b[0m \u001b[39mdef\u001b[39;00m \u001b[39mstructured_traceback\u001b[39m(\n\u001b[1;32m   1132\u001b[0m     \u001b[39mself\u001b[39m,\n\u001b[1;32m   1133\u001b[0m     etype: \u001b[39mtype\u001b[39m,\n\u001b[0;32m   (...)\u001b[0m\n\u001b[1;32m   1137\u001b[0m     number_of_lines_of_context: \u001b[39mint\u001b[39m \u001b[39m=\u001b[39m \u001b[39m5\u001b[39m,\n\u001b[1;32m   1138\u001b[0m ):\n\u001b[1;32m   1139\u001b[0m \u001b[39m    \u001b[39m\u001b[39m\"\"\"Return a nice text document describing the traceback.\"\"\"\u001b[39;00m\n\u001b[0;32m-> 1140\u001b[0m     formatted_exception \u001b[39m=\u001b[39m \u001b[39mself\u001b[39;49m\u001b[39m.\u001b[39;49mformat_exception_as_a_whole(etype, evalue, etb, number_of_lines_of_context,\n\u001b[1;32m   1141\u001b[0m                                                            tb_offset)\n\u001b[1;32m   1143\u001b[0m     colors \u001b[39m=\u001b[39m \u001b[39mself\u001b[39m\u001b[39m.\u001b[39mColors  \u001b[39m# just a shorthand + quicker name lookup\u001b[39;00m\n\u001b[1;32m   1144\u001b[0m     colorsnormal \u001b[39m=\u001b[39m colors\u001b[39m.\u001b[39mNormal  \u001b[39m# used a lot\u001b[39;00m\n",
      "File \u001b[0;32m~/Desktop/CORNELL/SP23/Fast Robots/Fast_Robots_Portfolio/sim/FastRobots_ble/lib/python3.9/site-packages/IPython/core/ultratb.py:1030\u001b[0m, in \u001b[0;36mVerboseTB.format_exception_as_a_whole\u001b[0;34m(self, etype, evalue, etb, number_of_lines_of_context, tb_offset)\u001b[0m\n\u001b[1;32m   1027\u001b[0m \u001b[39massert\u001b[39;00m \u001b[39misinstance\u001b[39m(tb_offset, \u001b[39mint\u001b[39m)\n\u001b[1;32m   1028\u001b[0m head \u001b[39m=\u001b[39m \u001b[39mself\u001b[39m\u001b[39m.\u001b[39mprepare_header(\u001b[39mstr\u001b[39m(etype), \u001b[39mself\u001b[39m\u001b[39m.\u001b[39mlong_header)\n\u001b[1;32m   1029\u001b[0m records \u001b[39m=\u001b[39m (\n\u001b[0;32m-> 1030\u001b[0m     \u001b[39mself\u001b[39;49m\u001b[39m.\u001b[39;49mget_records(etb, number_of_lines_of_context, tb_offset) \u001b[39mif\u001b[39;00m etb \u001b[39melse\u001b[39;00m []\n\u001b[1;32m   1031\u001b[0m )\n\u001b[1;32m   1033\u001b[0m frames \u001b[39m=\u001b[39m []\n\u001b[1;32m   1034\u001b[0m skipped \u001b[39m=\u001b[39m \u001b[39m0\u001b[39m\n",
      "File \u001b[0;32m~/Desktop/CORNELL/SP23/Fast Robots/Fast_Robots_Portfolio/sim/FastRobots_ble/lib/python3.9/site-packages/IPython/core/ultratb.py:1098\u001b[0m, in \u001b[0;36mVerboseTB.get_records\u001b[0;34m(self, etb, number_of_lines_of_context, tb_offset)\u001b[0m\n\u001b[1;32m   1096\u001b[0m \u001b[39mwhile\u001b[39;00m cf \u001b[39mis\u001b[39;00m \u001b[39mnot\u001b[39;00m \u001b[39mNone\u001b[39;00m:\n\u001b[1;32m   1097\u001b[0m     \u001b[39mtry\u001b[39;00m:\n\u001b[0;32m-> 1098\u001b[0m         mod \u001b[39m=\u001b[39m inspect\u001b[39m.\u001b[39mgetmodule(cf\u001b[39m.\u001b[39;49mtb_frame)\n\u001b[1;32m   1099\u001b[0m         \u001b[39mif\u001b[39;00m mod \u001b[39mis\u001b[39;00m \u001b[39mnot\u001b[39;00m \u001b[39mNone\u001b[39;00m:\n\u001b[1;32m   1100\u001b[0m             mod_name \u001b[39m=\u001b[39m mod\u001b[39m.\u001b[39m\u001b[39m__name__\u001b[39m\n",
      "\u001b[0;31mAttributeError\u001b[0m: 'tuple' object has no attribute 'tb_frame'"
     ]
    }
   ],
   "source": [
    "%load_ext autoreload\n",
    "%autoreload 2\n",
    "\n",
    "import traceback\n",
    "from notebook_utils import *\n",
    "from Traj import *\n",
    "import asyncio\n",
    "from localization_extras import Localization\n",
    "\n",
    "# Setup Logger\n",
    "LOG = get_logger('demo_notebook.log')\n",
    "\n",
    "# Init GUI and Commander\n",
    "gui = GET_GUI()\n",
    "cmdr = gui.launcher.commander\n",
    "\n",
    "gui.show()\n",
    "\n",
    "# Start the simulator\n",
    "START_SIM()\n",
    "\n",
    "# Start the plotter\n",
    "START_PLOTTER()"
   ]
  },
  {
   "cell_type": "code",
   "execution_count": null,
   "metadata": {},
   "outputs": [],
   "source": [
    "# Initialize Robot to communicate with the virtual robot and plotter\n",
    "robot = VirtualRobot(cmdr)\n",
    "\n",
    "# Initialize mapper\n",
    "# Requires a VirtualRobot object as a parameter\n",
    "mapper = Mapper(robot)\n",
    "\n",
    "# Initialize your BaseLocalization object\n",
    "# Requires a VirtualRobot object and a Mapper object as parameters\n",
    "loc = Localization(robot, mapper)\n",
    "\n",
    "## Plot Map\n",
    "cmdr.plot_map()"
   ]
  },
  {
   "attachments": {},
   "cell_type": "markdown",
   "metadata": {},
   "source": [
    "# Run the Bayes Filter\n",
    "The cells below utilizes the member functions of class **Localization** (defined in [localization_extras.py](../localization_extras.py)) in each iteration of the Bayes filter algorithm to localize the robot in the grid map. <br>"
   ]
  },
  {
   "cell_type": "code",
   "execution_count": null,
   "metadata": {},
   "outputs": [],
   "source": [
    "# Reset Robot and Plots\n",
    "robot.reset()\n",
    "cmdr.reset_plotter()\n",
    "\n",
    "# Init Uniform Belief\n",
    "loc.init_grid_beliefs()\n",
    "\n",
    "# Get Observation Data by executing a 360 degree rotation motion\n",
    "loc.get_observation_data()\n",
    "\n",
    "# Run Update Step\n",
    "loc.update_step()\n",
    "loc.print_update_stats(plot_data=True)\n",
    "\n",
    "# Plot Odom and GT\n",
    "current_odom, current_gt = robot.get_pose()\n",
    "cmdr.plot_gt(current_gt[0], current_gt[1])\n",
    "cmdr.plot_odom(current_odom[0], current_odom[1])"
   ]
  },
  {
   "cell_type": "code",
   "execution_count": null,
   "metadata": {},
   "outputs": [],
   "source": [
    "# Initialize the Trajectory object\n",
    "traj = Trajectory(loc)\n",
    "\n",
    "# Run through each motion steps\n",
    "for t in range(0, traj.total_time_steps):\n",
    "    print(\"\\n\\n-----------------\", t, \"-----------------\")\n",
    "    \n",
    "    prev_odom, current_odom, prev_gt, current_gt = traj.execute_time_step(t)\n",
    "        \n",
    "    # Prediction Step\n",
    "    loc.prediction_step(current_odom, prev_odom)\n",
    "    loc.print_prediction_stats(plot_data=True)\n",
    "    \n",
    "    # Get Observation Data by executing a 360 degree rotation motion\n",
    "    loc.get_observation_data()\n",
    "    \n",
    "    # Update Step\n",
    "    loc.update_step()\n",
    "    loc.print_update_stats(plot_data=True)\n",
    "\n",
    "# Uncomment the below line to wait for keyboard input between each iteration.\n",
    "#   input(\"Press Enter to Continue\")\n",
    "        \n",
    "    print(\"-------------------------------------\")"
   ]
  }
 ],
 "metadata": {
  "kernelspec": {
   "display_name": "Python 3 (ipykernel)",
   "language": "python",
   "name": "python3"
  },
  "language_info": {
   "codemirror_mode": {
    "name": "ipython",
    "version": 3
   },
   "file_extension": ".py",
   "mimetype": "text/x-python",
   "name": "python",
   "nbconvert_exporter": "python",
   "pygments_lexer": "ipython3",
   "version": "3.9.6"
  }
 },
 "nbformat": 4,
 "nbformat_minor": 4
}
