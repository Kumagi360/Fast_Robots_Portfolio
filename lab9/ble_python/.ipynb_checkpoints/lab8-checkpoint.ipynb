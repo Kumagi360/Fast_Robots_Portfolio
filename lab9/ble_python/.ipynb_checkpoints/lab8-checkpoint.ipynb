{
 "cells": [
  {
   "cell_type": "code",
   "execution_count": 1,
   "id": "c0723dde",
   "metadata": {
    "tags": []
   },
   "outputs": [],
   "source": [
    "%load_ext autoreload\n",
    "%autoreload 2\n",
    "\n",
    "from ble import get_ble_controller\n",
    "from base_ble import LOG\n",
    "from cmd_types import CMD\n",
    "import time\n",
    "import numpy as np\n",
    "\n",
    "LOG.propagate = False\n",
    "\n",
    "from matplotlib import pyplot as plt\n",
    "import random\n",
    "import numpy as np"
   ]
  },
  {
   "cell_type": "code",
   "execution_count": 9,
   "id": "bd7a2590-afaa-4f71-93da-b2c18e1e6460",
   "metadata": {
    "tags": []
   },
   "outputs": [
    {
     "name": "stdout",
     "output_type": "stream",
     "text": [
      "2023-05-07 22:16:17,674 |\u001b[32m INFO     \u001b[0m|: Disconnected from 17C0176F-95E8-439F-A4DD-EF7D3F71062E\n"
     ]
    }
   ],
   "source": [
    "# disconnect from Artemis\n",
    "ble.disconnect()"
   ]
  },
  {
   "cell_type": "code",
   "execution_count": 2,
   "id": "2987d64a",
   "metadata": {
    "tags": []
   },
   "outputs": [
    {
     "name": "stdout",
     "output_type": "stream",
     "text": [
      "2023-05-12 11:51:10,360 |\u001b[32m INFO     \u001b[0m|: Looking for Artemis Nano Peripheral Device: C0:83:D5:66:86:3C\n",
      "2023-05-12 11:51:12,964 |\u001b[32m INFO     \u001b[0m|: Connected to C0:83:D5:66:86:3C\n"
     ]
    },
    {
     "name": "stderr",
     "output_type": "stream",
     "text": [
      "/Users/kunalgupta/Desktop/lab8/ble_python/base_ble.py:87: FutureWarning: This method will be removed future version, pass the callback to the BleakClient constructor instead.\n",
      "  self.client.set_disconnected_callback(self.disconnect_handler)\n"
     ]
    }
   ],
   "source": [
    "# connect to Artemis\n",
    "\n",
    "# Get ArtemisBLEController object\n",
    "ble = get_ble_controller()\n",
    "\n",
    "# Connect to the Artemis Device\n",
    "ble.connect()"
   ]
  },
  {
   "cell_type": "code",
   "execution_count": 3,
   "id": "cdf9523e",
   "metadata": {
    "tags": []
   },
   "outputs": [
    {
     "name": "stdout",
     "output_type": "stream",
     "text": [
      "PONG\n"
     ]
    }
   ],
   "source": [
    "# test sending and receiving\n",
    "\n",
    "ble.send_command(CMD.PING, \"\")\n",
    "\n",
    "s = ble.receive_string(ble.uuid['RX_STRING'])\n",
    "print(s)"
   ]
  },
  {
   "cell_type": "code",
   "execution_count": 4,
   "id": "92fb0067",
   "metadata": {
    "tags": []
   },
   "outputs": [],
   "source": [
    "# STATIC --- read and aggregate time, pitch, roll, yaw, TOF#1, TOF#2, leftPWM, rightPWM\n",
    "\n",
    "def fft_callback(uuid, data):\n",
    "    \n",
    "    reading = (ble.bytearray_to_string(data)).split('|')\n",
    "    #print(reading)\n",
    "    \n",
    "    for count in range(entries):\n",
    "        try:\n",
    "            nextPos = count*8\n",
    "            time.append((reading[nextPos]))\n",
    "            pitchC.append((reading[nextPos+1]))\n",
    "            rollC.append((reading[nextPos+2]))\n",
    "            yaw.append((reading[nextPos+3]))\n",
    "            ONEDist.append((reading[nextPos+4]))\n",
    "            TWODist.append((reading[nextPos+5]))\n",
    "            leftPWM.append((reading[nextPos+6]))\n",
    "            rightPWM.append((reading[nextPos+7]))\n",
    "        except (IndexError,ValueError):\n",
    "            continue\n",
    "        \n",
    "    \n",
    "entries = 3\n",
    "time = []\n",
    "pitchC = []\n",
    "rollC = []\n",
    "yaw = []\n",
    "ONEDist = []\n",
    "TWODist = []\n",
    "leftPWM = []\n",
    "rightPWM = []\n",
    "\n",
    "ble.start_notify(ble.uuid['RX_STRING'], fft_callback)\n",
    "ble.send_command(CMD.TIMED_PID_DATA, \"\")"
   ]
  },
  {
   "cell_type": "code",
   "execution_count": 54,
   "id": "58b05475-acb4-47fa-a1be-9f58a7447a48",
   "metadata": {
    "tags": []
   },
   "outputs": [],
   "source": [
    "ble.send_command(CMD.UPDATE_KP, \"0.20\")"
   ]
  },
  {
   "cell_type": "code",
   "execution_count": 61,
   "id": "c09c3bbb",
   "metadata": {},
   "outputs": [],
   "source": [
    "# MOTION --- PID to given distance and read and aggregate time, pitch, roll, yaw, TOF#1, TOF#2, leftPWM, rightPWM\n",
    "\n",
    "def fft_callback(uuid, data):\n",
    "    \n",
    "    reading = (ble.bytearray_to_string(data)).split('|')\n",
    "    #print(reading)\n",
    "    \n",
    "    for count in range(entries):\n",
    "        try:\n",
    "            nextPos = count*7\n",
    "            time.append((reading[nextPos]))\n",
    "            pitchC.append((reading[nextPos+1]))\n",
    "            rollC.append((reading[nextPos+2]))\n",
    "            yaw.append((reading[nextPos+3]))\n",
    "            ONEDist.append((reading[nextPos+4]))\n",
    "            error.append((reading[nextPos+5]))\n",
    "            speed.append((reading[nextPos+6]))\n",
    "        except (IndexError,ValueError):\n",
    "            continue\n",
    "        \n",
    "    \n",
    "entries = 3\n",
    "time = []\n",
    "pitchC = []\n",
    "rollC = []\n",
    "yaw = []\n",
    "ONEDist = []\n",
    "error = []\n",
    "speed = []\n",
    "\n",
    "ble.start_notify(ble.uuid['RX_STRING'], fft_callback)\n",
    "ble.send_command(CMD.TOF_PID, \"304\")"
   ]
  },
  {
   "cell_type": "code",
   "execution_count": 21,
   "id": "0b8e99c4",
   "metadata": {
    "tags": []
   },
   "outputs": [],
   "source": [
    "# STEP --- PID to given distance and read and aggregate time, pitch, roll, yaw, TOF#1, TOF#2, leftPWM, rightPWM\n",
    "\n",
    "def fft_callback(uuid, data):\n",
    "    \n",
    "    reading = (ble.bytearray_to_string(data)).split('|')\n",
    "    #print(reading)\n",
    "    \n",
    "    for count in range(entries):\n",
    "        try:\n",
    "            nextPos = count*7\n",
    "            time.append((reading[nextPos]))\n",
    "            pitchC.append((reading[nextPos+1]))\n",
    "            rollC.append((reading[nextPos+2]))\n",
    "            yaw.append((reading[nextPos+3]))\n",
    "            ONEDist.append((reading[nextPos+4]))\n",
    "            error.append((reading[nextPos+5]))\n",
    "            speed.append((reading[nextPos+6]))\n",
    "        except (IndexError,ValueError):\n",
    "            continue\n",
    "        \n",
    "    \n",
    "entries = 3\n",
    "time = []\n",
    "pitchC = []\n",
    "rollC = []\n",
    "yaw = []\n",
    "ONEDist = []\n",
    "error = []\n",
    "speed = []\n",
    "\n",
    "ble.start_notify(ble.uuid['RX_STRING'], fft_callback)\n",
    "ble.send_command(CMD.STEP, \"\")"
   ]
  },
  {
   "cell_type": "code",
   "execution_count": 92,
   "id": "d0773911",
   "metadata": {
    "tags": []
   },
   "outputs": [
    {
     "name": "stdout",
     "output_type": "stream",
     "text": [
      "['-76', '-76', '-76', '193', '193', '193', '197', '197', '197', '200', '200', '200', '201', '201', '201', '201', '203', '203', '203', '203', '205', '205', '205', '205', '205', '205', '204', '204', '204', '204', '201', '201', '201', '200', '200', '200', '197', '197', '197', '196', '196', '196', '192', '192', '192', '192', '192', '189', '189', '189', '189', '185', '185', '185', '182', '182', '182', '176', '176', '176', '170', '170', '170', '164', '164', '164', '164', '159', '159', '159', '159', '155', '155', '155', '155', '149', '149', '149', '143', '143', '143', '136', '136', '136', '136', '130', '130', '130', '124', '124', '124', '124', '124', '120', '120', '120', '120', '120', '120', '120', '120', '120', '-76', '-76', '-76', '-76', '-76', '94', '94', '94', '94', '94', '85', '85', '85', '85', '85', '77', '77', '77', '77', '77', '77', '67', '67', '67', '67', '67', '67', '51', '51', '51', '51', '51', '51', '50', '50', '50', '50', '50', '50', '0', '0', '0', '0', '0', '0', '0', '0', '0', '0', '0', '0', '0', '0', '0', '0', '0', '0', '0', '0', '0', '0', '0', '0', '0', '0', '0', '0', '0', '0', '0', '0', '0', '0', '0', '0', '0', '0', '0', '0', '0', '0', '0', '0', '0', '0', '0', '0', '0', '0', '0', '0', '0', '0', '0', '0', '0', '0', '-50', '-50', '-50', '-50', '-50', '-50', '-50', '-50', '-50', '-50', '-50', '-50', '-50', '-50', '-50', '-50', '-50', '-50', '-50', '-50', '-50', '-50', '-50', '-53', '-53', '-53', '-53', '-53', '-53', '-56', '-56', '-56', '-56', '-56', '-56', '-56', '-56', '-56', '-58', '-58', '-58', '-58', '-58', '-59', '-59', '-59', '-59', '-59', '-59', '-59', '-59', '-59', '-59', '-59', '-59', '-59', '-59', '-59', '-59', '-59', '-59', '-59', '-59', '-59', '-59', '-56', '-56', '-56', '-56', '-56', '-56', '-52', '-52', '-52', '-52', '-52', '-52', '-52', '-50', '-50', '-50', '-50', '-50', '-50', '-50', '-50', '-50', '-50', '-50', '-50', '-50', '-50', '-50', '-50', '-50', '-50', '-50', '-50', '0', '0', '0', '0', '0', '0', '0', '0', '0', '0', '0', '0', '0', '0', '0', '0', '0', '0', '0', '0', '0', '0', '0', '0', '0', '0', '0', '0', '0', '0', '0', '0', '0', '0', '0', '0', '0', '0', '0', '0', '0', '0', '0', '0', '0', '0', '0', '0', '0', '0', '0', '0', '0', '0', '0', '0', '0', '0', '50', '50', '50', '50', '50', '50', '50', '50', '50', '50', '50', '50', '60', '60', '60', '60', '60']\n"
     ]
    }
   ],
   "source": [
    "print(speed)"
   ]
  },
  {
   "cell_type": "code",
   "execution_count": 153,
   "id": "e47719f0",
   "metadata": {
    "tags": []
   },
   "outputs": [
    {
     "ename": "ValueError",
     "evalue": "Characteristic notification never started",
     "output_type": "error",
     "traceback": [
      "\u001b[0;31m---------------------------------------------------------------------------\u001b[0m",
      "\u001b[0;31mValueError\u001b[0m                                Traceback (most recent call last)",
      "Cell \u001b[0;32mIn[153], line 3\u001b[0m\n\u001b[1;32m      1\u001b[0m \u001b[38;5;66;03m# stop notifications from this characteristic\u001b[39;00m\n\u001b[0;32m----> 3\u001b[0m \u001b[43mble\u001b[49m\u001b[38;5;241;43m.\u001b[39;49m\u001b[43mstop_notify\u001b[49m\u001b[43m(\u001b[49m\u001b[43mble\u001b[49m\u001b[38;5;241;43m.\u001b[39;49m\u001b[43muuid\u001b[49m\u001b[43m[\u001b[49m\u001b[38;5;124;43m'\u001b[39;49m\u001b[38;5;124;43mRX_STRING\u001b[39;49m\u001b[38;5;124;43m'\u001b[39;49m\u001b[43m]\u001b[49m\u001b[43m)\u001b[49m\n",
      "File \u001b[0;32m~/Desktop/lab8/ble_python/ble.py:84\u001b[0m, in \u001b[0;36mBaseBLEController.stop_notify\u001b[0;34m(self, uuid)\u001b[0m\n\u001b[1;32m     83\u001b[0m \u001b[38;5;28;01mdef\u001b[39;00m \u001b[38;5;21mstop_notify\u001b[39m(\u001b[38;5;28mself\u001b[39m, uuid):\n\u001b[0;32m---> 84\u001b[0m     \u001b[38;5;28;43mself\u001b[39;49m\u001b[38;5;241;43m.\u001b[39;49m\u001b[43m_wait\u001b[49m\u001b[43m(\u001b[49m\u001b[38;5;28;43mself\u001b[39;49m\u001b[38;5;241;43m.\u001b[39;49m\u001b[43mdevice\u001b[49m\u001b[38;5;241;43m.\u001b[39;49m\u001b[43m_stop_notify\u001b[49m\u001b[43m(\u001b[49m\u001b[43muuid\u001b[49m\u001b[43m)\u001b[49m\u001b[43m)\u001b[49m\n",
      "File \u001b[0;32m~/Desktop/lab8/ble_python/base_ble.py:27\u001b[0m, in \u001b[0;36mwait_b\u001b[0;34m(coroutine)\u001b[0m\n\u001b[1;32m     26\u001b[0m \u001b[38;5;28;01mdef\u001b[39;00m \u001b[38;5;21mwait_b\u001b[39m(coroutine):\n\u001b[0;32m---> 27\u001b[0m     \u001b[38;5;28;01mreturn\u001b[39;00m \u001b[43masyncio\u001b[49m\u001b[38;5;241;43m.\u001b[39;49m\u001b[43mrun\u001b[49m\u001b[43m(\u001b[49m\u001b[43mcoroutine\u001b[49m\u001b[43m)\u001b[49m\n",
      "File \u001b[0;32m~/Desktop/lab8/FastRobots_ble/lib/python3.9/site-packages/nest_asyncio.py:35\u001b[0m, in \u001b[0;36m_patch_asyncio.<locals>.run\u001b[0;34m(main, debug)\u001b[0m\n\u001b[1;32m     33\u001b[0m task \u001b[38;5;241m=\u001b[39m asyncio\u001b[38;5;241m.\u001b[39mensure_future(main)\n\u001b[1;32m     34\u001b[0m \u001b[38;5;28;01mtry\u001b[39;00m:\n\u001b[0;32m---> 35\u001b[0m     \u001b[38;5;28;01mreturn\u001b[39;00m \u001b[43mloop\u001b[49m\u001b[38;5;241;43m.\u001b[39;49m\u001b[43mrun_until_complete\u001b[49m\u001b[43m(\u001b[49m\u001b[43mtask\u001b[49m\u001b[43m)\u001b[49m\n\u001b[1;32m     36\u001b[0m \u001b[38;5;28;01mfinally\u001b[39;00m:\n\u001b[1;32m     37\u001b[0m     \u001b[38;5;28;01mif\u001b[39;00m \u001b[38;5;129;01mnot\u001b[39;00m task\u001b[38;5;241m.\u001b[39mdone():\n",
      "File \u001b[0;32m~/Desktop/lab8/FastRobots_ble/lib/python3.9/site-packages/nest_asyncio.py:90\u001b[0m, in \u001b[0;36m_patch_loop.<locals>.run_until_complete\u001b[0;34m(self, future)\u001b[0m\n\u001b[1;32m     87\u001b[0m \u001b[38;5;28;01mif\u001b[39;00m \u001b[38;5;129;01mnot\u001b[39;00m f\u001b[38;5;241m.\u001b[39mdone():\n\u001b[1;32m     88\u001b[0m     \u001b[38;5;28;01mraise\u001b[39;00m \u001b[38;5;167;01mRuntimeError\u001b[39;00m(\n\u001b[1;32m     89\u001b[0m         \u001b[38;5;124m'\u001b[39m\u001b[38;5;124mEvent loop stopped before Future completed.\u001b[39m\u001b[38;5;124m'\u001b[39m)\n\u001b[0;32m---> 90\u001b[0m \u001b[38;5;28;01mreturn\u001b[39;00m \u001b[43mf\u001b[49m\u001b[38;5;241;43m.\u001b[39;49m\u001b[43mresult\u001b[49m\u001b[43m(\u001b[49m\u001b[43m)\u001b[49m\n",
      "File \u001b[0;32m/Library/Developer/CommandLineTools/Library/Frameworks/Python3.framework/Versions/3.9/lib/python3.9/asyncio/futures.py:201\u001b[0m, in \u001b[0;36mFuture.result\u001b[0;34m(self)\u001b[0m\n\u001b[1;32m    199\u001b[0m \u001b[38;5;28mself\u001b[39m\u001b[38;5;241m.\u001b[39m__log_traceback \u001b[38;5;241m=\u001b[39m \u001b[38;5;28;01mFalse\u001b[39;00m\n\u001b[1;32m    200\u001b[0m \u001b[38;5;28;01mif\u001b[39;00m \u001b[38;5;28mself\u001b[39m\u001b[38;5;241m.\u001b[39m_exception \u001b[38;5;129;01mis\u001b[39;00m \u001b[38;5;129;01mnot\u001b[39;00m \u001b[38;5;28;01mNone\u001b[39;00m:\n\u001b[0;32m--> 201\u001b[0m     \u001b[38;5;28;01mraise\u001b[39;00m \u001b[38;5;28mself\u001b[39m\u001b[38;5;241m.\u001b[39m_exception\n\u001b[1;32m    202\u001b[0m \u001b[38;5;28;01mreturn\u001b[39;00m \u001b[38;5;28mself\u001b[39m\u001b[38;5;241m.\u001b[39m_result\n",
      "File \u001b[0;32m/Library/Developer/CommandLineTools/Library/Frameworks/Python3.framework/Versions/3.9/lib/python3.9/asyncio/tasks.py:256\u001b[0m, in \u001b[0;36mTask.__step\u001b[0;34m(***failed resolving arguments***)\u001b[0m\n\u001b[1;32m    252\u001b[0m \u001b[38;5;28;01mtry\u001b[39;00m:\n\u001b[1;32m    253\u001b[0m     \u001b[38;5;28;01mif\u001b[39;00m exc \u001b[38;5;129;01mis\u001b[39;00m \u001b[38;5;28;01mNone\u001b[39;00m:\n\u001b[1;32m    254\u001b[0m         \u001b[38;5;66;03m# We use the `send` method directly, because coroutines\u001b[39;00m\n\u001b[1;32m    255\u001b[0m         \u001b[38;5;66;03m# don't have `__iter__` and `__next__` methods.\u001b[39;00m\n\u001b[0;32m--> 256\u001b[0m         result \u001b[38;5;241m=\u001b[39m \u001b[43mcoro\u001b[49m\u001b[38;5;241;43m.\u001b[39;49m\u001b[43msend\u001b[49m\u001b[43m(\u001b[49m\u001b[38;5;28;43;01mNone\u001b[39;49;00m\u001b[43m)\u001b[49m\n\u001b[1;32m    257\u001b[0m     \u001b[38;5;28;01melse\u001b[39;00m:\n\u001b[1;32m    258\u001b[0m         result \u001b[38;5;241m=\u001b[39m coro\u001b[38;5;241m.\u001b[39mthrow(exc)\n",
      "File \u001b[0;32m~/Desktop/lab8/ble_python/base_ble.py:118\u001b[0m, in \u001b[0;36mBLEAsyncDevice._stop_notify\u001b[0;34m(self, uuid)\u001b[0m\n\u001b[1;32m    116\u001b[0m \u001b[38;5;28;01masync\u001b[39;00m \u001b[38;5;28;01mdef\u001b[39;00m \u001b[38;5;21m_stop_notify\u001b[39m(\u001b[38;5;28mself\u001b[39m, uuid):\n\u001b[1;32m    117\u001b[0m     \u001b[38;5;28;01mif\u001b[39;00m \u001b[38;5;28mself\u001b[39m\u001b[38;5;241m.\u001b[39mclient \u001b[38;5;129;01mand\u001b[39;00m \u001b[38;5;28mself\u001b[39m\u001b[38;5;241m.\u001b[39mclient\u001b[38;5;241m.\u001b[39mis_connected:\n\u001b[0;32m--> 118\u001b[0m         \u001b[38;5;28;01mawait\u001b[39;00m \u001b[38;5;28mself\u001b[39m\u001b[38;5;241m.\u001b[39mclient\u001b[38;5;241m.\u001b[39mstop_notify(uuid)\n\u001b[1;32m    119\u001b[0m     \u001b[38;5;28;01melse\u001b[39;00m:\n\u001b[1;32m    120\u001b[0m         \u001b[38;5;28;01mraise\u001b[39;00m \u001b[38;5;167;01mException\u001b[39;00m(\u001b[38;5;124m\"\u001b[39m\u001b[38;5;124mNot connected to a BLE device\u001b[39m\u001b[38;5;124m\"\u001b[39m)\n",
      "File \u001b[0;32m~/Desktop/lab8/FastRobots_ble/lib/python3.9/site-packages/bleak/__init__.py:735\u001b[0m, in \u001b[0;36mBleakClient.stop_notify\u001b[0;34m(self, char_specifier)\u001b[0m\n\u001b[1;32m    719\u001b[0m \u001b[38;5;28;01masync\u001b[39;00m \u001b[38;5;28;01mdef\u001b[39;00m \u001b[38;5;21mstop_notify\u001b[39m(\n\u001b[1;32m    720\u001b[0m     \u001b[38;5;28mself\u001b[39m, char_specifier: Union[BleakGATTCharacteristic, \u001b[38;5;28mint\u001b[39m, \u001b[38;5;28mstr\u001b[39m, uuid\u001b[38;5;241m.\u001b[39mUUID]\n\u001b[1;32m    721\u001b[0m ) \u001b[38;5;241m-\u001b[39m\u001b[38;5;241m>\u001b[39m \u001b[38;5;28;01mNone\u001b[39;00m:\n\u001b[1;32m    722\u001b[0m \u001b[38;5;250m    \u001b[39m\u001b[38;5;124;03m\"\"\"\u001b[39;00m\n\u001b[1;32m    723\u001b[0m \u001b[38;5;124;03m    Deactivate notification/indication on a specified characteristic.\u001b[39;00m\n\u001b[1;32m    724\u001b[0m \n\u001b[0;32m   (...)\u001b[0m\n\u001b[1;32m    733\u001b[0m \u001b[38;5;124;03m        stopped some time before the device disconnects.\u001b[39;00m\n\u001b[1;32m    734\u001b[0m \u001b[38;5;124;03m    \"\"\"\u001b[39;00m\n\u001b[0;32m--> 735\u001b[0m     \u001b[38;5;28;01mawait\u001b[39;00m \u001b[38;5;28mself\u001b[39m\u001b[38;5;241m.\u001b[39m_backend\u001b[38;5;241m.\u001b[39mstop_notify(char_specifier)\n",
      "File \u001b[0;32m~/Desktop/lab8/FastRobots_ble/lib/python3.9/site-packages/bleak/backends/corebluetooth/client.py:391\u001b[0m, in \u001b[0;36mBleakClientCoreBluetooth.stop_notify\u001b[0;34m(self, char_specifier)\u001b[0m\n\u001b[1;32m    388\u001b[0m \u001b[38;5;28;01mif\u001b[39;00m \u001b[38;5;129;01mnot\u001b[39;00m characteristic:\n\u001b[1;32m    389\u001b[0m     \u001b[38;5;28;01mraise\u001b[39;00m BleakError(\u001b[38;5;124m\"\u001b[39m\u001b[38;5;124mCharacteristic \u001b[39m\u001b[38;5;132;01m{}\u001b[39;00m\u001b[38;5;124m not found!\u001b[39m\u001b[38;5;124m\"\u001b[39m\u001b[38;5;241m.\u001b[39mformat(char_specifier))\n\u001b[0;32m--> 391\u001b[0m \u001b[38;5;28;01mawait\u001b[39;00m \u001b[38;5;28mself\u001b[39m\u001b[38;5;241m.\u001b[39m_delegate\u001b[38;5;241m.\u001b[39mstop_notifications(characteristic\u001b[38;5;241m.\u001b[39mobj)\n",
      "File \u001b[0;32m~/Desktop/lab8/FastRobots_ble/lib/python3.9/site-packages/bleak/backends/corebluetooth/PeripheralDelegate.py:234\u001b[0m, in \u001b[0;36mPeripheralDelegate.stop_notifications\u001b[0;34m(self, characteristic)\u001b[0m\n\u001b[1;32m    232\u001b[0m c_handle \u001b[38;5;241m=\u001b[39m characteristic\u001b[38;5;241m.\u001b[39mhandle()\n\u001b[1;32m    233\u001b[0m \u001b[38;5;28;01mif\u001b[39;00m c_handle \u001b[38;5;129;01mnot\u001b[39;00m \u001b[38;5;129;01min\u001b[39;00m \u001b[38;5;28mself\u001b[39m\u001b[38;5;241m.\u001b[39m_characteristic_notify_callbacks:\n\u001b[0;32m--> 234\u001b[0m     \u001b[38;5;28;01mraise\u001b[39;00m \u001b[38;5;167;01mValueError\u001b[39;00m(\u001b[38;5;124m\"\u001b[39m\u001b[38;5;124mCharacteristic notification never started\u001b[39m\u001b[38;5;124m\"\u001b[39m)\n\u001b[1;32m    236\u001b[0m future \u001b[38;5;241m=\u001b[39m \u001b[38;5;28mself\u001b[39m\u001b[38;5;241m.\u001b[39m_event_loop\u001b[38;5;241m.\u001b[39mcreate_future()\n\u001b[1;32m    238\u001b[0m \u001b[38;5;28mself\u001b[39m\u001b[38;5;241m.\u001b[39m_characteristic_notify_change_futures[c_handle] \u001b[38;5;241m=\u001b[39m future\n",
      "\u001b[0;31mValueError\u001b[0m: Characteristic notification never started"
     ]
    }
   ],
   "source": [
    "# stop notifications from this characteristic\n",
    "\n",
    "ble.stop_notify(ble.uuid['RX_STRING'])"
   ]
  },
  {
   "cell_type": "code",
   "execution_count": null,
   "id": "f9289968",
   "metadata": {},
   "outputs": [],
   "source": [
    "intDist = []\n",
    "intPWM = []\n",
    "kf_output = []\n",
    "\n",
    "for item in range(len(ONEDist)):\n",
    "    intDist.append(int(ONEDist[item]))\n",
    "    intPWM.append(int(speed[item]))\n",
    "\n",
    "# initializing Kalman Filter\n",
    "\n",
    "# sampling, drag, and momentum\n",
    "SecPerSample = 0.0122\n",
    "d = 0.000521\n",
    "m = 0.000283\n",
    "\n",
    "# A,B,C matrices and discretized \n",
    "A = np.array([[0,1],[0,-d/m]])\n",
    "B = np.array([[0],[1/m]])\n",
    "C = np.array([[1,0]])\n",
    "\n",
    "A_disc = np.eye(2) + SecPerSample * A\n",
    "B_disc = SecPerSample * B\n",
    "C=np.array([[1,0]])\n",
    "\n",
    "# ballpark variances, process variance\n",
    "posSigma = np.sqrt(10**2/SecPerSample)\n",
    "speedSigma = np.sqrt(10**2/SecPerSample)\n",
    "sensorSigma = 1.14\n",
    "\n",
    "sigma_u=np.array([[posSigma**2,0],[0,speedSigma**2]])\n",
    "sigma_z=np.array([[sensorSigma**2]])\n",
    "\n",
    "print(A_disc)\n",
    "print(B_disc)\n",
    "print(C)\n",
    "\n",
    "# initial states\n",
    "x = np.array([[-intDist[0]],[0]])\n",
    "sig = np.array([[10,0],[0,10]])\n",
    "    "
   ]
  },
  {
   "cell_type": "code",
   "execution_count": null,
   "id": "040c8209",
   "metadata": {},
   "outputs": [],
   "source": [
    "def kf(x,u,sig,y):\n",
    "    \n",
    "    x_p = A_disc.dot(x) + B_disc.dot(u)                     \n",
    "    sig_p = A_disc.dot(sig.dot(A_disc.transpose())) + sigma_u \n",
    "    \n",
    "    y_m = y-C.dot(x_p)\n",
    "    sig_m = C.dot(sig_p.dot(C.transpose())) + sigma_z\n",
    "    \n",
    "    kf_gain = sig_p.dot(C.transpose().dot(np.linalg.inv(sig_m)))\n",
    "\n",
    "    x_n   = x_p + kf_gain.dot(y_m)\n",
    "    sig_n = (np.eye(2) - kf_gain.dot(C)).dot(sig_p)\n",
    "    return x_n, sig_n"
   ]
  },
  {
   "cell_type": "code",
   "execution_count": null,
   "id": "71d3a34e",
   "metadata": {},
   "outputs": [],
   "source": [
    "kf_output = []\n",
    "for dist, pwm in zip(intDist, intPWM):\n",
    "    x, sig = kf(x, pwm/120, sig, dist)\n",
    "    kf_output.append(x[0][0])"
   ]
  },
  {
   "cell_type": "code",
   "execution_count": null,
   "id": "3743c2dd",
   "metadata": {},
   "outputs": [],
   "source": [
    "# Plot distance measurement data\n",
    "intTime = [eval(t)/1000 for t in time]\n",
    "intDist = [eval(t) for t in speed]\n",
    "plt.scatter(intTime, intDist, label = \"PWM\")\n",
    "#plt.scatter(intTime, kf_output, label = \"Kalman Filtered\")\n",
    "\n",
    "plt.title(\"Time vs PWM\")\n",
    "plt.xlabel(\"Time (s)\")\n",
    "plt.ylabel(\"PWM\")\n",
    "plt.legend(loc='upper center', bbox_to_anchor=(0.5, -0.2),\n",
    "          fancybox=True, shadow=True, ncol=5)\n",
    "# plt.ylim((0,-6000))\n"
   ]
  },
  {
   "cell_type": "code",
   "execution_count": 17,
   "id": "20894fff",
   "metadata": {
    "tags": []
   },
   "outputs": [
    {
     "ename": "ValueError",
     "evalue": "Characteristic notifications already started",
     "output_type": "error",
     "traceback": [
      "\u001b[0;31m---------------------------------------------------------------------------\u001b[0m",
      "\u001b[0;31mValueError\u001b[0m                                Traceback (most recent call last)",
      "\u001b[0;32m/var/folders/nj/jnzf5kq57v5dz7q_7msqh2vm0000gn/T/ipykernel_1387/4179615395.py\u001b[0m in \u001b[0;36m<module>\u001b[0;34m\u001b[0m\n\u001b[1;32m     29\u001b[0m \u001b[0mspeed\u001b[0m \u001b[0;34m=\u001b[0m \u001b[0;34m[\u001b[0m\u001b[0;34m]\u001b[0m\u001b[0;34m\u001b[0m\u001b[0;34m\u001b[0m\u001b[0m\n\u001b[1;32m     30\u001b[0m \u001b[0;34m\u001b[0m\u001b[0m\n\u001b[0;32m---> 31\u001b[0;31m \u001b[0mble\u001b[0m\u001b[0;34m.\u001b[0m\u001b[0mstart_notify\u001b[0m\u001b[0;34m(\u001b[0m\u001b[0mble\u001b[0m\u001b[0;34m.\u001b[0m\u001b[0muuid\u001b[0m\u001b[0;34m[\u001b[0m\u001b[0;34m'RX_STRING'\u001b[0m\u001b[0;34m]\u001b[0m\u001b[0;34m,\u001b[0m \u001b[0mfft_callback\u001b[0m\u001b[0;34m)\u001b[0m\u001b[0;34m\u001b[0m\u001b[0;34m\u001b[0m\u001b[0m\n\u001b[0m\u001b[1;32m     32\u001b[0m \u001b[0mble\u001b[0m\u001b[0;34m.\u001b[0m\u001b[0msend_command\u001b[0m\u001b[0;34m(\u001b[0m\u001b[0mCMD\u001b[0m\u001b[0;34m.\u001b[0m\u001b[0mKF_PID\u001b[0m\u001b[0;34m,\u001b[0m \u001b[0;34m\"304\"\u001b[0m\u001b[0;34m)\u001b[0m\u001b[0;34m\u001b[0m\u001b[0;34m\u001b[0m\u001b[0m\n",
      "\u001b[0;32m~/Desktop/CORNELL/SP23/Fast Robots/lab8/ble_python/ble.py\u001b[0m in \u001b[0;36mstart_notify\u001b[0;34m(self, uuid, notification_handler)\u001b[0m\n\u001b[1;32m     79\u001b[0m \u001b[0;34m\u001b[0m\u001b[0m\n\u001b[1;32m     80\u001b[0m     \u001b[0;32mdef\u001b[0m \u001b[0mstart_notify\u001b[0m\u001b[0;34m(\u001b[0m\u001b[0mself\u001b[0m\u001b[0;34m,\u001b[0m \u001b[0muuid\u001b[0m\u001b[0;34m,\u001b[0m \u001b[0mnotification_handler\u001b[0m\u001b[0;34m)\u001b[0m\u001b[0;34m:\u001b[0m\u001b[0;34m\u001b[0m\u001b[0;34m\u001b[0m\u001b[0m\n\u001b[0;32m---> 81\u001b[0;31m         \u001b[0mself\u001b[0m\u001b[0;34m.\u001b[0m\u001b[0m_wait\u001b[0m\u001b[0;34m(\u001b[0m\u001b[0mself\u001b[0m\u001b[0;34m.\u001b[0m\u001b[0mdevice\u001b[0m\u001b[0;34m.\u001b[0m\u001b[0m_start_notify\u001b[0m\u001b[0;34m(\u001b[0m\u001b[0muuid\u001b[0m\u001b[0;34m,\u001b[0m \u001b[0mnotification_handler\u001b[0m\u001b[0;34m)\u001b[0m\u001b[0;34m)\u001b[0m\u001b[0;34m\u001b[0m\u001b[0;34m\u001b[0m\u001b[0m\n\u001b[0m\u001b[1;32m     82\u001b[0m \u001b[0;34m\u001b[0m\u001b[0m\n\u001b[1;32m     83\u001b[0m     \u001b[0;32mdef\u001b[0m \u001b[0mstop_notify\u001b[0m\u001b[0;34m(\u001b[0m\u001b[0mself\u001b[0m\u001b[0;34m,\u001b[0m \u001b[0muuid\u001b[0m\u001b[0;34m)\u001b[0m\u001b[0;34m:\u001b[0m\u001b[0;34m\u001b[0m\u001b[0;34m\u001b[0m\u001b[0m\n",
      "\u001b[0;32m~/Desktop/CORNELL/SP23/Fast Robots/lab8/ble_python/base_ble.py\u001b[0m in \u001b[0;36mwait_b\u001b[0;34m(coroutine)\u001b[0m\n\u001b[1;32m     25\u001b[0m \u001b[0;34m\u001b[0m\u001b[0m\n\u001b[1;32m     26\u001b[0m \u001b[0;32mdef\u001b[0m \u001b[0mwait_b\u001b[0m\u001b[0;34m(\u001b[0m\u001b[0mcoroutine\u001b[0m\u001b[0;34m)\u001b[0m\u001b[0;34m:\u001b[0m\u001b[0;34m\u001b[0m\u001b[0;34m\u001b[0m\u001b[0m\n\u001b[0;32m---> 27\u001b[0;31m     \u001b[0;32mreturn\u001b[0m \u001b[0masyncio\u001b[0m\u001b[0;34m.\u001b[0m\u001b[0mrun\u001b[0m\u001b[0;34m(\u001b[0m\u001b[0mcoroutine\u001b[0m\u001b[0;34m)\u001b[0m\u001b[0;34m\u001b[0m\u001b[0;34m\u001b[0m\u001b[0m\n\u001b[0m\u001b[1;32m     28\u001b[0m \u001b[0;34m\u001b[0m\u001b[0m\n\u001b[1;32m     29\u001b[0m \u001b[0;31m# Ref: https://github.com/alexandrebarachant/muse-lsl/pull/148/files\u001b[0m\u001b[0;34m\u001b[0m\u001b[0;34m\u001b[0m\u001b[0;34m\u001b[0m\u001b[0m\n",
      "\u001b[0;32m~/Desktop/CORNELL/SP23/Fast Robots/lab3_v2/FastRobots_ble/lib/python3.7/site-packages/nest_asyncio.py\u001b[0m in \u001b[0;36mrun\u001b[0;34m(main, debug)\u001b[0m\n\u001b[1;32m     33\u001b[0m         \u001b[0mtask\u001b[0m \u001b[0;34m=\u001b[0m \u001b[0masyncio\u001b[0m\u001b[0;34m.\u001b[0m\u001b[0mensure_future\u001b[0m\u001b[0;34m(\u001b[0m\u001b[0mmain\u001b[0m\u001b[0;34m)\u001b[0m\u001b[0;34m\u001b[0m\u001b[0;34m\u001b[0m\u001b[0m\n\u001b[1;32m     34\u001b[0m         \u001b[0;32mtry\u001b[0m\u001b[0;34m:\u001b[0m\u001b[0;34m\u001b[0m\u001b[0;34m\u001b[0m\u001b[0m\n\u001b[0;32m---> 35\u001b[0;31m             \u001b[0;32mreturn\u001b[0m \u001b[0mloop\u001b[0m\u001b[0;34m.\u001b[0m\u001b[0mrun_until_complete\u001b[0m\u001b[0;34m(\u001b[0m\u001b[0mtask\u001b[0m\u001b[0;34m)\u001b[0m\u001b[0;34m\u001b[0m\u001b[0;34m\u001b[0m\u001b[0m\n\u001b[0m\u001b[1;32m     36\u001b[0m         \u001b[0;32mfinally\u001b[0m\u001b[0;34m:\u001b[0m\u001b[0;34m\u001b[0m\u001b[0;34m\u001b[0m\u001b[0m\n\u001b[1;32m     37\u001b[0m             \u001b[0;32mif\u001b[0m \u001b[0;32mnot\u001b[0m \u001b[0mtask\u001b[0m\u001b[0;34m.\u001b[0m\u001b[0mdone\u001b[0m\u001b[0;34m(\u001b[0m\u001b[0;34m)\u001b[0m\u001b[0;34m:\u001b[0m\u001b[0;34m\u001b[0m\u001b[0;34m\u001b[0m\u001b[0m\n",
      "\u001b[0;32m~/Desktop/CORNELL/SP23/Fast Robots/lab3_v2/FastRobots_ble/lib/python3.7/site-packages/nest_asyncio.py\u001b[0m in \u001b[0;36mrun_until_complete\u001b[0;34m(self, future)\u001b[0m\n\u001b[1;32m     88\u001b[0m                 raise RuntimeError(\n\u001b[1;32m     89\u001b[0m                     'Event loop stopped before Future completed.')\n\u001b[0;32m---> 90\u001b[0;31m             \u001b[0;32mreturn\u001b[0m \u001b[0mf\u001b[0m\u001b[0;34m.\u001b[0m\u001b[0mresult\u001b[0m\u001b[0;34m(\u001b[0m\u001b[0;34m)\u001b[0m\u001b[0;34m\u001b[0m\u001b[0;34m\u001b[0m\u001b[0m\n\u001b[0m\u001b[1;32m     91\u001b[0m \u001b[0;34m\u001b[0m\u001b[0m\n\u001b[1;32m     92\u001b[0m     \u001b[0;32mdef\u001b[0m \u001b[0m_run_once\u001b[0m\u001b[0;34m(\u001b[0m\u001b[0mself\u001b[0m\u001b[0;34m)\u001b[0m\u001b[0;34m:\u001b[0m\u001b[0;34m\u001b[0m\u001b[0;34m\u001b[0m\u001b[0m\n",
      "\u001b[0;32m~/opt/anaconda3/lib/python3.7/asyncio/futures.py\u001b[0m in \u001b[0;36mresult\u001b[0;34m(self)\u001b[0m\n\u001b[1;32m    179\u001b[0m         \u001b[0mself\u001b[0m\u001b[0;34m.\u001b[0m\u001b[0m__log_traceback\u001b[0m \u001b[0;34m=\u001b[0m \u001b[0;32mFalse\u001b[0m\u001b[0;34m\u001b[0m\u001b[0;34m\u001b[0m\u001b[0m\n\u001b[1;32m    180\u001b[0m         \u001b[0;32mif\u001b[0m \u001b[0mself\u001b[0m\u001b[0;34m.\u001b[0m\u001b[0m_exception\u001b[0m \u001b[0;32mis\u001b[0m \u001b[0;32mnot\u001b[0m \u001b[0;32mNone\u001b[0m\u001b[0;34m:\u001b[0m\u001b[0;34m\u001b[0m\u001b[0;34m\u001b[0m\u001b[0m\n\u001b[0;32m--> 181\u001b[0;31m             \u001b[0;32mraise\u001b[0m \u001b[0mself\u001b[0m\u001b[0;34m.\u001b[0m\u001b[0m_exception\u001b[0m\u001b[0;34m\u001b[0m\u001b[0;34m\u001b[0m\u001b[0m\n\u001b[0m\u001b[1;32m    182\u001b[0m         \u001b[0;32mreturn\u001b[0m \u001b[0mself\u001b[0m\u001b[0;34m.\u001b[0m\u001b[0m_result\u001b[0m\u001b[0;34m\u001b[0m\u001b[0;34m\u001b[0m\u001b[0m\n\u001b[1;32m    183\u001b[0m \u001b[0;34m\u001b[0m\u001b[0m\n",
      "\u001b[0;32m~/opt/anaconda3/lib/python3.7/asyncio/tasks.py\u001b[0m in \u001b[0;36m__step\u001b[0;34m(***failed resolving arguments***)\u001b[0m\n\u001b[1;32m    247\u001b[0m                 \u001b[0;31m# We use the `send` method directly, because coroutines\u001b[0m\u001b[0;34m\u001b[0m\u001b[0;34m\u001b[0m\u001b[0;34m\u001b[0m\u001b[0m\n\u001b[1;32m    248\u001b[0m                 \u001b[0;31m# don't have `__iter__` and `__next__` methods.\u001b[0m\u001b[0;34m\u001b[0m\u001b[0;34m\u001b[0m\u001b[0;34m\u001b[0m\u001b[0m\n\u001b[0;32m--> 249\u001b[0;31m                 \u001b[0mresult\u001b[0m \u001b[0;34m=\u001b[0m \u001b[0mcoro\u001b[0m\u001b[0;34m.\u001b[0m\u001b[0msend\u001b[0m\u001b[0;34m(\u001b[0m\u001b[0;32mNone\u001b[0m\u001b[0;34m)\u001b[0m\u001b[0;34m\u001b[0m\u001b[0;34m\u001b[0m\u001b[0m\n\u001b[0m\u001b[1;32m    250\u001b[0m             \u001b[0;32melse\u001b[0m\u001b[0;34m:\u001b[0m\u001b[0;34m\u001b[0m\u001b[0;34m\u001b[0m\u001b[0m\n\u001b[1;32m    251\u001b[0m                 \u001b[0mresult\u001b[0m \u001b[0;34m=\u001b[0m \u001b[0mcoro\u001b[0m\u001b[0;34m.\u001b[0m\u001b[0mthrow\u001b[0m\u001b[0;34m(\u001b[0m\u001b[0mexc\u001b[0m\u001b[0;34m)\u001b[0m\u001b[0;34m\u001b[0m\u001b[0;34m\u001b[0m\u001b[0m\n",
      "\u001b[0;32m~/Desktop/CORNELL/SP23/Fast Robots/lab8/ble_python/base_ble.py\u001b[0m in \u001b[0;36m_start_notify\u001b[0;34m(self, uuid, notification_handler)\u001b[0m\n\u001b[1;32m    110\u001b[0m     \u001b[0;32masync\u001b[0m \u001b[0;32mdef\u001b[0m \u001b[0m_start_notify\u001b[0m\u001b[0;34m(\u001b[0m\u001b[0mself\u001b[0m\u001b[0;34m,\u001b[0m \u001b[0muuid\u001b[0m\u001b[0;34m,\u001b[0m \u001b[0mnotification_handler\u001b[0m\u001b[0;34m)\u001b[0m\u001b[0;34m:\u001b[0m\u001b[0;34m\u001b[0m\u001b[0;34m\u001b[0m\u001b[0m\n\u001b[1;32m    111\u001b[0m         \u001b[0;32mif\u001b[0m \u001b[0mself\u001b[0m\u001b[0;34m.\u001b[0m\u001b[0mclient\u001b[0m \u001b[0;32mand\u001b[0m \u001b[0mself\u001b[0m\u001b[0;34m.\u001b[0m\u001b[0mclient\u001b[0m\u001b[0;34m.\u001b[0m\u001b[0mis_connected\u001b[0m\u001b[0;34m:\u001b[0m\u001b[0;34m\u001b[0m\u001b[0;34m\u001b[0m\u001b[0m\n\u001b[0;32m--> 112\u001b[0;31m             \u001b[0;32mawait\u001b[0m \u001b[0mself\u001b[0m\u001b[0;34m.\u001b[0m\u001b[0mclient\u001b[0m\u001b[0;34m.\u001b[0m\u001b[0mstart_notify\u001b[0m\u001b[0;34m(\u001b[0m\u001b[0muuid\u001b[0m\u001b[0;34m,\u001b[0m \u001b[0mnotification_handler\u001b[0m\u001b[0;34m)\u001b[0m\u001b[0;34m\u001b[0m\u001b[0;34m\u001b[0m\u001b[0m\n\u001b[0m\u001b[1;32m    113\u001b[0m         \u001b[0;32melse\u001b[0m\u001b[0;34m:\u001b[0m\u001b[0;34m\u001b[0m\u001b[0;34m\u001b[0m\u001b[0m\n\u001b[1;32m    114\u001b[0m             \u001b[0;32mraise\u001b[0m \u001b[0mException\u001b[0m\u001b[0;34m(\u001b[0m\u001b[0;34m\"Not connected to a BLE device\"\u001b[0m\u001b[0;34m)\u001b[0m\u001b[0;34m\u001b[0m\u001b[0;34m\u001b[0m\u001b[0m\n",
      "\u001b[0;32m~/Desktop/CORNELL/SP23/Fast Robots/lab3_v2/FastRobots_ble/lib/python3.7/site-packages/bleak/__init__.py\u001b[0m in \u001b[0;36mstart_notify\u001b[0;34m(self, char_specifier, callback, **kwargs)\u001b[0m\n\u001b[1;32m    647\u001b[0m             \u001b[0mwrapped_callback\u001b[0m \u001b[0;34m=\u001b[0m \u001b[0mfunctools\u001b[0m\u001b[0;34m.\u001b[0m\u001b[0mpartial\u001b[0m\u001b[0;34m(\u001b[0m\u001b[0mcallback\u001b[0m\u001b[0;34m,\u001b[0m \u001b[0mcharacteristic\u001b[0m\u001b[0;34m)\u001b[0m\u001b[0;34m\u001b[0m\u001b[0;34m\u001b[0m\u001b[0m\n\u001b[1;32m    648\u001b[0m \u001b[0;34m\u001b[0m\u001b[0m\n\u001b[0;32m--> 649\u001b[0;31m         \u001b[0;32mawait\u001b[0m \u001b[0mself\u001b[0m\u001b[0;34m.\u001b[0m\u001b[0m_backend\u001b[0m\u001b[0;34m.\u001b[0m\u001b[0mstart_notify\u001b[0m\u001b[0;34m(\u001b[0m\u001b[0mcharacteristic\u001b[0m\u001b[0;34m,\u001b[0m \u001b[0mwrapped_callback\u001b[0m\u001b[0;34m,\u001b[0m \u001b[0;34m**\u001b[0m\u001b[0mkwargs\u001b[0m\u001b[0;34m)\u001b[0m\u001b[0;34m\u001b[0m\u001b[0;34m\u001b[0m\u001b[0m\n\u001b[0m\u001b[1;32m    650\u001b[0m \u001b[0;34m\u001b[0m\u001b[0m\n\u001b[1;32m    651\u001b[0m     async def stop_notify(\n",
      "\u001b[0;32m~/Desktop/CORNELL/SP23/Fast Robots/lab3_v2/FastRobots_ble/lib/python3.7/site-packages/bleak/backends/corebluetooth/client.py\u001b[0m in \u001b[0;36mstart_notify\u001b[0;34m(self, characteristic, callback, **kwargs)\u001b[0m\n\u001b[1;32m    358\u001b[0m         \u001b[0;32massert\u001b[0m \u001b[0mself\u001b[0m\u001b[0;34m.\u001b[0m\u001b[0m_delegate\u001b[0m \u001b[0;32mis\u001b[0m \u001b[0;32mnot\u001b[0m \u001b[0;32mNone\u001b[0m\u001b[0;34m\u001b[0m\u001b[0;34m\u001b[0m\u001b[0m\n\u001b[1;32m    359\u001b[0m \u001b[0;34m\u001b[0m\u001b[0m\n\u001b[0;32m--> 360\u001b[0;31m         \u001b[0;32mawait\u001b[0m \u001b[0mself\u001b[0m\u001b[0;34m.\u001b[0m\u001b[0m_delegate\u001b[0m\u001b[0;34m.\u001b[0m\u001b[0mstart_notifications\u001b[0m\u001b[0;34m(\u001b[0m\u001b[0mcharacteristic\u001b[0m\u001b[0;34m.\u001b[0m\u001b[0mobj\u001b[0m\u001b[0;34m,\u001b[0m \u001b[0mcallback\u001b[0m\u001b[0;34m)\u001b[0m\u001b[0;34m\u001b[0m\u001b[0;34m\u001b[0m\u001b[0m\n\u001b[0m\u001b[1;32m    361\u001b[0m \u001b[0;34m\u001b[0m\u001b[0m\n\u001b[1;32m    362\u001b[0m     async def stop_notify(\n",
      "\u001b[0;32m~/Desktop/CORNELL/SP23/Fast Robots/lab3_v2/FastRobots_ble/lib/python3.7/site-packages/bleak/backends/corebluetooth/PeripheralDelegate.py\u001b[0m in \u001b[0;36mstart_notifications\u001b[0;34m(self, characteristic, callback)\u001b[0m\n\u001b[1;32m    210\u001b[0m         \u001b[0mc_handle\u001b[0m \u001b[0;34m=\u001b[0m \u001b[0mcharacteristic\u001b[0m\u001b[0;34m.\u001b[0m\u001b[0mhandle\u001b[0m\u001b[0;34m(\u001b[0m\u001b[0;34m)\u001b[0m\u001b[0;34m\u001b[0m\u001b[0;34m\u001b[0m\u001b[0m\n\u001b[1;32m    211\u001b[0m         \u001b[0;32mif\u001b[0m \u001b[0mc_handle\u001b[0m \u001b[0;32min\u001b[0m \u001b[0mself\u001b[0m\u001b[0;34m.\u001b[0m\u001b[0m_characteristic_notify_callbacks\u001b[0m\u001b[0;34m:\u001b[0m\u001b[0;34m\u001b[0m\u001b[0;34m\u001b[0m\u001b[0m\n\u001b[0;32m--> 212\u001b[0;31m             \u001b[0;32mraise\u001b[0m \u001b[0mValueError\u001b[0m\u001b[0;34m(\u001b[0m\u001b[0;34m\"Characteristic notifications already started\"\u001b[0m\u001b[0;34m)\u001b[0m\u001b[0;34m\u001b[0m\u001b[0;34m\u001b[0m\u001b[0m\n\u001b[0m\u001b[1;32m    213\u001b[0m \u001b[0;34m\u001b[0m\u001b[0m\n\u001b[1;32m    214\u001b[0m         \u001b[0mself\u001b[0m\u001b[0;34m.\u001b[0m\u001b[0m_characteristic_notify_callbacks\u001b[0m\u001b[0;34m[\u001b[0m\u001b[0mc_handle\u001b[0m\u001b[0;34m]\u001b[0m \u001b[0;34m=\u001b[0m \u001b[0mcallback\u001b[0m\u001b[0;34m\u001b[0m\u001b[0;34m\u001b[0m\u001b[0m\n",
      "\u001b[0;31mValueError\u001b[0m: Characteristic notifications already started"
     ]
    }
   ],
   "source": [
    "# KF --- PID to given distance and read and aggregate time, pitch, roll, yaw, TOF#1, TOF#2, leftPWM, rightPWM\n",
    "\n",
    "def fft_callback(uuid, data):\n",
    "    \n",
    "    reading = (ble.bytearray_to_string(data)).split('|')\n",
    "    #print(reading)\n",
    "    \n",
    "    for count in range(entries):\n",
    "        try:\n",
    "            nextPos = count*7\n",
    "            time.append((reading[nextPos]))\n",
    "            pitchC.append((reading[nextPos+1]))\n",
    "            rollC.append((reading[nextPos+2]))\n",
    "            yaw.append((reading[nextPos+3]))\n",
    "            ONEDist.append((reading[nextPos+4]))\n",
    "            kfdist.append((reading[nextPos+5]))\n",
    "            speed.append((reading[nextPos+6]))\n",
    "        except (IndexError,ValueError):\n",
    "            continue\n",
    "        \n",
    "    \n",
    "entries = 3\n",
    "time = []\n",
    "pitchC = []\n",
    "rollC = []\n",
    "yaw = []\n",
    "ONEDist = []\n",
    "kfdist = []\n",
    "speed = []\n",
    "\n",
    "ble.start_notify(ble.uuid['RX_STRING'], fft_callback)\n",
    "ble.send_command(CMD.KF_PID, \"304\")"
   ]
  },
  {
   "cell_type": "code",
   "execution_count": 7,
   "id": "23b6dc8c",
   "metadata": {
    "tags": []
   },
   "outputs": [],
   "source": [
    "# STUNT --- step to given distance and read and aggregate time, pitch, roll, yaw, TOF#1, TOF#2, leftPWM, rightPWM\n",
    "\n",
    "def fft_callback(uuid, data):\n",
    "    \n",
    "    reading = (ble.bytearray_to_string(data)).split('|')\n",
    "    #print(reading)\n",
    "    \n",
    "    for count in range(entries):\n",
    "        try:\n",
    "            nextPos = count*7\n",
    "            time.append((reading[nextPos]))\n",
    "            pitchC.append((reading[nextPos+1]))\n",
    "            rollC.append((reading[nextPos+2]))\n",
    "            yaw.append((reading[nextPos+3]))\n",
    "            ONEDist.append((reading[nextPos+4]))\n",
    "            kfDist.append((reading[nextPos+5]))\n",
    "            speed.append((reading[nextPos+6]))\n",
    "        except (IndexError,ValueError):\n",
    "            continue\n",
    "        \n",
    "entries = 3\n",
    "time = []\n",
    "pitchC = []\n",
    "rollC = []\n",
    "yaw = []\n",
    "ONEDist = []\n",
    "kfDist = []\n",
    "speed = []\n",
    "\n",
    "ble.start_notify(ble.uuid['RX_STRING'], fft_callback)\n",
    "ble.send_command(CMD.STUNT, \"\")"
   ]
  },
  {
   "cell_type": "code",
   "execution_count": null,
   "id": "8e2cb8da-4231-428e-bb8e-9979d2467a3e",
   "metadata": {},
   "outputs": [],
   "source": []
  },
  {
   "cell_type": "code",
   "execution_count": 177,
   "id": "b0e39898",
   "metadata": {
    "tags": []
   },
   "outputs": [
    {
     "name": "stdout",
     "output_type": "stream",
     "text": [
      "['255', '255', '255', '255', '255', '255', '255', '255', '255', '255', '255', '255', '255', '255', '255', '255', '255', '255', '255', '255', '255', '255', '255', '255', '255', '255', '255', '255', '255', '255', '255', '255', '255', '255', '255', '255', '255', '255', '255', '255', '255', '255', '255', '255', '255', '255', '255', '255', '255', '255', '255', '255', '255', '255', '255', '255', '255', '255', '255', '255', '255', '255', '255', '255', '255', '255', '255', '255', '255', '255', '255', '255', '255', '255', '255', '255', '255', '255', '255', '255', '255', '255', '255', '255', '255', '255', '255', '255', '255', '255', '255', '255', '255', '255', '255', '255', '255', '255', '255', '255', '255', '255', '255', '255', '255', '255', '255', '255', '255', '255', '255', '255', '255', '255', '255', '255', '255', '255', '255', '255', '255', '255', '255', '255', '255', '255', '255', '255', '255', '255', '255', '255', '255', '255', '255', '255', '255', '255', '255', '255', '255', '255', '255', '255', '255', '255', '255', '255', '255', '255', '255', '255', '255', '255', '255', '255', '255', '255', '255', '255', '255', '255', '255', '255', '255', '255', '255', '255', '255', '255', '255', '255', '255', '255', '255', '255', '255', '255', '255', '255', '255', '255', '255', '255', '255', '255', '255', '255', '255', '255', '255', '255', '255', '255', '255', '255', '255', '255', '255', '255', '255', '255', '255', '255', '255', '255', '255', '255', '255', '255', '255', '255', '255', '255', '255', '255', '255', '255', '255', '255', '255', '255', '255', '255', '255', '255', '255', '255', '255', '255', '255', '255', '255', '255', '255', '255', '255', '255', '255', '255', '255', '255', '255', '255', '255', '255', '255', '255', '255', '255', '255', '255', '255', '255', '255', '255', '255', '255', '255', '255', '255', '255', '255', '255', '255', '255', '255', '255', '255', '255', '255', '255', '255', '255', '255', '255', '255', '255', '255', '255', '255', '255', '255', '255', '255', '255', '255', '255', '255', '255', '255', '255', '255', '255', '255', '255', '-255', '-255', '-255', '-255', '-255', '-255', '-255', '-255', '-255', '-255', '-255', '-255', '-255', '-255', '-255', '-255', '-255', '-255', '-255', '-255', '-255', '-255', '-255', '-255', '-255', '-255', '-255', '-255', '-255', '-255', '-255', '-255', '-255', '-255', '-255', '-255', '-255', '-255', '-255', '-255', '-255', '-255', '-255', '-255', '-255', '-255', '-255', '-255', '-255', '-255', '-255', '-255', '-255', '-255', '-255', '-255', '-255', '-255', '-255', '-255', '-255', '-255', '-255', '-255', '-255', '-255', '-255', '-255', '-255', '-255', '-255', '-255', '-255', '-255', '-255', '-255', '-255', '-255', '-255', '-255', '-255', '-255', '-255', '-255', '-255', '-255', '-255', '-255', '-255', '-255', '-255', '-255', '-255', '-255', '-255', '-255', '-255', '-255', '-255', '-255', '-255', '-255', '-255', '-255', '-255', '-255', '-255', '-255', '-255', '-255', '-255', '-255', '-255', '-255', '-255', '-255', '-255', '-255', '-255', '-255', '-255', '-255', '-255', '-255', '-255', '-255', '-255', '-255', '-255', '-255', '-255', '-255', '-255', '-255', '-255', '-255', '-255', '-255', '-255', '-255', '-255', '-255', '-255', '-255', '-255', '-255', '-255', '-255', '-255', '-255', '-255', '-255', '-255', '-255', '-255', '-255', '-255', '-255', '-255', '-255', '-255', '-255', '-255', '-255', '-255', '-255', '-255', '-255', '-255', '-255', '-255', '-255', '-255', '-255', '-255', '-255', '-255', '-255', '-255', '-255', '-255', '-255', '-255', '-255', '-255', '-255', '-255', '-255', '-255', '-255', '-255', '-255', '-255', '-255', '-255', '-255', '-255', '-255', '-255', '-255', '-255', '-255', '-255', '-255', '-255', '-255', '-255', '-255', '-255', '-255', '-255', '-255', '-255', '-255', '-255', '-255', '-255', '-255', '-255', '-255', '-255', '-255', '-255', '-255', '-255', '-255', '-255', '-255', '-255', '-255', '-255', '-255', '-255', '-255', '-255', '-255', '-255', '-255', '-255', '-255', '-255', '-255', '-255', '-255', '-255', '-255', '-255', '-255', '-255', '-255', '-255', '-255', '-255', '-255', '-255', '-255', '-255', '-255', '-255', '-255', '-255', '-255', '-255', '-255', '-255', '-255', '-255', '-255', '-255', '-255', '-255', '-255', '-255', '-255', '-255', '-255', '-255', '-255', '-255', '-255', '-255', '-255', '-255', '-255', '-255', '-255', '-255', '-255', '-255', '-255', '-255', '-255', '-255', '-255', '-255', '-255', '-255', '-255', '-255', '-255', '-255', '-255', '-255', '-255', '-255', '-255', '-255', '-255', '-255', '-255', '-255', '-255', '-255', '-255', '-255', '-255', '-255', '-255', '-255', '-255', '-255', '-255', '-255', '-255', '-255', '-255', '-255', '-255', '-255', '-255', '-255', '-255', '-255', '-255', '-255', '-255', '-255', '-255', '-255', '-255', '-255', '-255', '-255', '-255', '-255', '-255', '-255', '-255', '-255', '-255', '-255', '-255', '-255', '-255', '-255', '-255', '-255', '-255', '-255', '-255', '-255', '-255', '-255', '-255', '-255', '-255', '-255', '-255', '-255', '-255', '-255', '-255', '-255', '-255', '-255', '-255', '-255', '-255', '-255', '-255', '-255', '-255', '-255', '-255', '-255', '-255', '-255', '-255', '-255', '-255', '-255', '-255', '-255', '-255', '-255', '-255', '-255', '-255', '-255', '-255', '-255', '-255', '-255', '-255', '-255', '-255', '-255', '-255', '-255', '-255', '-255', '-255', '-255', '-255', '-255', '-255', '-255', '-255', '-255', '-255', '-255', '-255', '-255', '-255', '-255', '-255', '-255', '-255', '-255', '-255']\n"
     ]
    }
   ],
   "source": [
    "print(speed)"
   ]
  },
  {
   "cell_type": "code",
   "execution_count": 6,
   "id": "812e6680",
   "metadata": {
    "tags": []
   },
   "outputs": [],
   "source": [
    "# stop notifications from this characteristic\n",
    "\n",
    "ble.stop_notify(ble.uuid['RX_STRING'])"
   ]
  },
  {
   "cell_type": "code",
   "execution_count": 5,
   "id": "4d596429",
   "metadata": {
    "tags": []
   },
   "outputs": [
    {
     "data": {
      "text/plain": [
       "<matplotlib.legend.Legend at 0x110fa40a0>"
      ]
     },
     "execution_count": 5,
     "metadata": {},
     "output_type": "execute_result"
    },
    {
     "data": {
      "image/png": "[encoded data removed]",
      "text/plain": [
       "<Figure size 640x480 with 1 Axes>"
      ]
     },
     "metadata": {},
     "output_type": "display_data"
    }
   ],
   "source": [
    "import random\n",
    "\n",
    "# Plot distance measurement data\n",
    "intTime = [eval(t)/1000 for t in time]\n",
    "intDist = [eval(i) for i in ONEDist]\n",
    "plt.scatter(intTime, intDist, label = \"Measured Distance\")\n",
    "\n",
    "# intkf = [eval(i) for i in kfDist]\n",
    "# plt.scatter(intTime, intkf, label = \"KF Distance\")\n",
    "\n",
    "# intSpeed = [eval(i) for i in speed]\n",
    "# plt.scatter(intTime, intSpeed, label = \"PWM\")\n",
    "\n",
    "plt.title(\"Stunt: Time vs Distance and PWM\")\n",
    "plt.xlabel(\"Time (s)\")\n",
    "plt.ylabel(\"Distance (mm), PWM\")\n",
    "plt.legend(loc='upper center', bbox_to_anchor=(0.5, -0.2),\n",
    "          fancybox=True, shadow=True, ncol=5)\n",
    "\n",
    "#plt.xlim((139,142))\n",
    "#plt.ylim((-500,2000))\n",
    "\n"
   ]
  },
  {
   "cell_type": "code",
   "execution_count": 234,
   "id": "ae882927-40f4-4181-b4b1-717cd30bb972",
   "metadata": {
    "tags": []
   },
   "outputs": [
    {
     "name": "stdout",
     "output_type": "stream",
     "text": [
      "['674', '675', '675', '675', '675', '675', '675', '675', '675', '676', '676', '676', '676', '676', '676', '676', '676', '675', '675', '675', '675', '675', '675', '675', '677', '677', '677', '677', '677', '677', '677', '677', '677', '677', '677', '677', '677', '677', '677', '677', '677', '676', '676', '676', '676', '676', '676', '676', '677', '677', '677', '677', '677', '677', '677', '677', '677', '676', '676', '676', '676', '676', '676', '676', '676', '676', '676', '676', '676', '676', '676', '676', '676', '676', '673', '673', '673', '673', '673', '673', '673', '672', '672', '672', '672', '672', '672', '672', '672', '674', '674', '674', '674', '674', '674', '674', '674', '674', '674', '674', '674', '674', '674', '674', '673', '673', '673', '673', '673', '673', '673', '670', '670', '670', '670', '670', '670', '670', '670', '670', '667', '667', '667', '667', '667', '667', '667', '667', '668', '668', '668', '668', '668', '668', '668', '669', '669', '669', '669', '669', '669', '669', '669', '669', '671', '671', '671', '671', '671', '671', '671', '671', '669', '669', '669', '669', '669', '669', '669', '667', '667', '667', '667', '667', '667', '667', '667', '667', '669', '669', '669', '669', '669', '669', '669', '669', '669', '669', '669', '669', '669', '669', '669', '670', '670', '670', '670', '670', '670', '670', '668', '668', '668', '668', '668', '668', '668', '668', '669', '669', '669', '669', '669', '669', '669', '670', '670', '670', '670', '670', '670', '670', '674', '674', '674', '674', '674', '674', '674', '674', '671', '671', '671', '671', '671', '671', '671', '671', '673', '673', '673', '673', '673', '673', '673', '682', '696', '696', '696', '696', '696', '696', '696', '680', '680', '680', '680', '680', '680', '680', '680', '673', '673', '673', '673', '673', '673', '673', '673', '671', '671', '671', '671', '671', '671', '671', '671', '673', '673', '673', '673', '673', '673', '673', '673', '675', '675', '675', '675', '675', '675', '675', '675', '672', '672', '672', '672', '672', '672', '672', '672', '672', '672', '672', '672', '672', '672', '672', '670', '670', '670', '670', '670', '670', '670', '671', '671', '671', '671', '671', '671', '671', '672', '672', '672', '672', '672', '672', '672', '672', '672', '670', '670', '670', '670', '670', '670', '670', '670', '670', '670', '670', '670', '670', '670', '670', '670', '670', '670', '670', '670', '670', '670', '670', '670', '670', '669', '669', '669', '669', '669', '669', '669', '669', '668', '668', '668', '668', '668', '668', '668', '668', '671', '671', '671', '671', '671', '671', '671', '670', '670', '670', '670', '670', '670', '670', '670', '670', '670', '670', '670', '670', '670', '670', '670', '670', '670', '670', '670', '670', '670', '670', '670']\n"
     ]
    }
   ],
   "source": [
    "print(ONEDist)"
   ]
  }
 ],
 "metadata": {
  "kernelspec": {
   "display_name": "Python 3 (ipykernel)",
   "language": "python",
   "name": "python3"
  },
  "language_info": {
   "codemirror_mode": {
    "name": "ipython",
    "version": 3
   },
   "file_extension": ".py",
   "mimetype": "text/x-python",
   "name": "python",
   "nbconvert_exporter": "python",
   "pygments_lexer": "ipython3",
   "version": "3.9.6"
  }
 },
 "nbformat": 4,
 "nbformat_minor": 5
}
