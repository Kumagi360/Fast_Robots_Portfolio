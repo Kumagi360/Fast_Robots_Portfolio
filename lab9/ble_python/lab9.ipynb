{
 "cells": [
  {
   "cell_type": "code",
   "execution_count": 3,
   "id": "9045d819-a439-43ff-8967-22ee8165fa84",
   "metadata": {},
   "outputs": [
    {
     "name": "stdout",
     "output_type": "stream",
     "text": [
      "The autoreload extension is already loaded. To reload it, use:\n",
      "  %reload_ext autoreload\n"
     ]
    }
   ],
   "source": [
    "%load_ext autoreload\n",
    "%autoreload 2\n",
    "\n",
    "from ble import get_ble_controller\n",
    "from base_ble import LOG\n",
    "from cmd_types import CMD\n",
    "import time\n",
    "import numpy as np\n",
    "\n",
    "LOG.propagate = False\n",
    "\n",
    "from matplotlib import pyplot as plt\n",
    "import random\n",
    "import numpy as np"
   ]
  },
  {
   "cell_type": "code",
   "execution_count": null,
   "id": "c44c6f5e-b1da-421f-b22e-0d5f10bc3ac5",
   "metadata": {},
   "outputs": [],
   "source": [
    "# disconnect from Artemis\n",
    "ble.disconnect()"
   ]
  },
  {
   "cell_type": "code",
   "execution_count": 324,
   "id": "d7d892a0-3ab7-4b87-b948-607586d307dd",
   "metadata": {
    "tags": []
   },
   "outputs": [
    {
     "name": "stdout",
     "output_type": "stream",
     "text": [
      "2023-05-12 16:06:55,413 |\u001b[32m INFO     \u001b[0m|: Looking for Artemis Nano Peripheral Device: C0:83:D5:66:86:3C\n",
      "2023-05-12 16:06:57,949 |\u001b[32m INFO     \u001b[0m|: Connected to C0:83:D5:66:86:3C\n"
     ]
    }
   ],
   "source": [
    "# connect to Artemis\n",
    "    \n",
    "# Get ArtemisBLEController object\n",
    "ble = get_ble_controller()\n",
    "\n",
    "# Connect to the Artemis Device\n",
    "ble.connect()"
   ]
  },
  {
   "cell_type": "code",
   "execution_count": 122,
   "id": "d92de04f-d065-4241-8ac5-16bc48eb51ec",
   "metadata": {
    "tags": []
   },
   "outputs": [
    {
     "name": "stdout",
     "output_type": "stream",
     "text": [
      "PONG\n"
     ]
    }
   ],
   "source": [
    "# test sending and receiving\n",
    "\n",
    "ble.send_command(CMD.PING, \"\")\n",
    "\n",
    "s = ble.receive_string(ble.uuid['RX_STRING'])\n",
    "print(s)"
   ]
  },
  {
   "cell_type": "code",
   "execution_count": null,
   "id": "5f4ea6c8-dbd2-4f68-8f29-32972feb2615",
   "metadata": {},
   "outputs": [],
   "source": [
    "# STATIC --- read and aggregate time, pitch, roll, yaw, TOF#1, TOF#2, leftPWM, rightPWM\n",
    "\n",
    "def fft_callback(uuid, data):\n",
    "    \n",
    "    reading = (ble.bytearray_to_string(data)).split('|')\n",
    "    #print(reading)\n",
    "    \n",
    "    for count in range(entries):\n",
    "        try:\n",
    "            nextPos = count*8\n",
    "            time.append((reading[nextPos]))\n",
    "            pitchC.append((reading[nextPos+1]))\n",
    "            rollC.append((reading[nextPos+2]))\n",
    "            yaw.append((reading[nextPos+3]))\n",
    "            ONEDist.append((reading[nextPos+4]))\n",
    "            TWODist.append((reading[nextPos+5]))\n",
    "            leftPWM.append((reading[nextPos+6]))\n",
    "            rightPWM.append((reading[nextPos+7]))\n",
    "        except (IndexError,ValueError):\n",
    "            continue\n",
    "        \n",
    "    \n",
    "entries = 3\n",
    "time = []\n",
    "pitchC = []\n",
    "rollC = []\n",
    "yaw = []\n",
    "ONEDist = []\n",
    "TWODist = []\n",
    "leftPWM = []\n",
    "rightPWM = []\n",
    "\n",
    "ble.start_notify(ble.uuid['RX_STRING'], fft_callback)\n",
    "ble.send_command(CMD.TIMED_PID_DATA, \"\")"
   ]
  },
  {
   "cell_type": "code",
   "execution_count": 325,
   "id": "209930eb-4721-4a19-b07b-aaf6d55e9bd1",
   "metadata": {
    "tags": []
   },
   "outputs": [],
   "source": [
    "# ANGSPEED --- PID to given angular velocity and read and aggregate time, pitch, roll, yaw, TOF#1, TOF#2, leftPWM, rightPWM\n",
    "\n",
    "def fft_callback(uuid, data):\n",
    "    \n",
    "    reading = (ble.bytearray_to_string(data)).split('|')\n",
    "    #print(reading)\n",
    "    \n",
    "    for count in range(entries):\n",
    "        try:\n",
    "            nextPos = count*7\n",
    "            time.append((reading[nextPos]))\n",
    "            target.append((reading[nextPos+1]))\n",
    "            error.append((reading[nextPos+2]))\n",
    "            yaw.append((reading[nextPos+3]))\n",
    "            ONEDist.append((reading[nextPos+4]))\n",
    "            rawY.append((reading[nextPos+5]))\n",
    "            speed.append((reading[nextPos+6]))\n",
    "        except (IndexError,ValueError):\n",
    "            continue\n",
    "        \n",
    "    \n",
    "entries = 3\n",
    "time = []\n",
    "target = []\n",
    "error = []\n",
    "yaw = []\n",
    "ONEDist = []\n",
    "rawY = []\n",
    "speed = []\n",
    "\n",
    "ble.start_notify(ble.uuid['RX_STRING'], fft_callback)\n",
    "ble.send_command(CMD.ANGSPEED, \"3\")"
   ]
  },
  {
   "cell_type": "code",
   "execution_count": 227,
   "id": "e77ccad6-e67f-4425-a93c-7a097a0280a6",
   "metadata": {
    "tags": []
   },
   "outputs": [
    {
     "name": "stdout",
     "output_type": "stream",
     "text": [
      "['-1', '2', '16', '48', '54', '49', '40', '25', '24', '29', '28', '24', '40', '32', '31', '37', '29', '29', '36', '37', '32', '33', '25', '21', '21', '31', '29', '27', '23', '25', '38', '42', '42', '30', '20', '26', '34', '39', '31', '29', '26', '20', '32', '45', '44', '42', '34', '27', '39', '46', '39', '26', '35', '35', '25', '35', '39', '42', '40', '27', '34', '27', '16', '34', '48', '43', '38', '38', '39', '30', '34', '28', '38', '43', '39', '33', '28', '25', '23', '25', '36', '30', '40', '36', '37', '42', '40', '27', '30', '26', '20', '24', '12', '37', '41', '42', '38', '33', '34', '42', '29', '42', '23', '34', '36', '31', '40', '35', '37', '35', '31', '31', '31', '24', '15', '26', '40', '27', '23', '33', '20', '11', '20', '41', '37', '33', '26', '21', '23', '23', '19', '29', '21', '14', '16', '23', '16', '18', '30', '27', '28', '36', '35', '27', '11', '35', '39', '30', '26', '20', '19', '28', '23', '31', '31', '33', '41', '44', '43', '34', '26', '25', '26', '35', '32', '29', '28', '29', '45', '41', '35', '34', '38', '41', '21', '30', '23', '42', '51', '47', '22', '25', '38', '42', '46', '41', '38', '39', '30', '28', '33', '37', '47', '48', '40', '42', '45', '47', '41', '28', '24', '43', '40', '36', '38', '45', '49', '32', '36', '33', '41', '34', '34', '41', '44', '45', '36', '38', '35', '25', '28', '27', '41', '47', '42', '33', '40', '45', '40', '27', '13', '30', '32', '43', '43', '42', '35', '37', '38', '36', '39', '37', '41', '37', '39', '32', '40', '45', '41', '33', '32', '36', '42', '40', '37', '33', '40', '40', '40', '35', '28', '15', '30', '28', '30', '37', '36', '35', '20', '23', '22', '30', '39', '45', '43', '34', '30', '31', '30', '33', '39', '36', '28', '29', '18', '24', '34', '33', '32', '32', '41', '22', '18', '23', '28', '33', '23', '29', '31', '38', '21', '15', '23', '30', '40', '44', '26', '23', '31', '16', '24', '41', '40', '38', '40', '35', '30', '42', '40', '41', '41', '24', '23', '29', '35', '35', '27', '41', '46', '44', '27', '41', '34']\n"
     ]
    }
   ],
   "source": [
    "print(rawY)"
   ]
  },
  {
   "cell_type": "code",
   "execution_count": 326,
   "id": "3e6d71b4-6056-4776-bd03-61428babea70",
   "metadata": {
    "tags": []
   },
   "outputs": [],
   "source": [
    "# stop notifications from this characteristic\n",
    "\n",
    "ble.stop_notify(ble.uuid['RX_STRING'])"
   ]
  },
  {
   "cell_type": "code",
   "execution_count": 327,
   "id": "6631d153-6633-4bab-bebb-71557b3d410b",
   "metadata": {
    "tags": []
   },
   "outputs": [
    {
     "data": {
      "text/plain": [
       "<matplotlib.legend.Legend at 0x11f05f550>"
      ]
     },
     "execution_count": 327,
     "metadata": {},
     "output_type": "execute_result"
    },
    {
     "data": {
      "image/png": "[encoded data removed]",
      "text/plain": [
       "<Figure size 640x480 with 1 Axes>"
      ]
     },
     "metadata": {},
     "output_type": "display_data"
    }
   ],
   "source": [
    "import random\n",
    "\n",
    "# Collect all data points\n",
    "intTarget = [eval(i) for i in target]\n",
    "intError = [eval(i) for i in error]\n",
    "intSpeed = [eval(i) for i in speed]\n",
    "\n",
    "intTime = [eval(t)/1000 for t in time]\n",
    "\n",
    "intAng = [eval(i) for i in rawY]\n",
    "intYaw = [-eval(i) for i in yaw]\n",
    "\n",
    "intDist = [eval(i) for i in ONEDist]\n",
    "\n",
    "# Plot all graphs\n",
    "plt.scatter(intTime, intDist, label = \"Measured Distance\")\n",
    "#plt.scatter(intTime, intTarget, label = \"Setpoint\")\n",
    "#plt.scatter(intTime, intAng, label = \"Angular Speed\")\n",
    "#plt.scatter(intTime, intError, label = \"Error\")\n",
    "#plt.scatter(intTime, intSpeed, label = \"Speed\")\n",
    "#plt.scatter(intTime, intYaw, label = \"Current Yaw\")\n",
    "\n",
    "plt.title(\"Time vs Angular Speed Control (5,3)\")\n",
    "plt.xlabel(\"Time (s)\")\n",
    "plt.ylabel(\"Distance (mm)\")\n",
    "plt.legend(loc='upper center', bbox_to_anchor=(0.5, -0.2),\n",
    "          fancybox=True, shadow=True, ncol=5)\n",
    "\n",
    "#plt.xlim((139,142))\n",
    "#plt.ylim((-500,2000))\n",
    "\n",
    "#n3n2, p5n3, p0p3, p5p3\n"
   ]
  },
  {
   "cell_type": "code",
   "execution_count": null,
   "id": "25568c72-2d43-49ac-babc-7d69fba1ddf8",
   "metadata": {},
   "outputs": [],
   "source": [
    "intTarget = [eval(i) for i in target]\n",
    "intError = [eval(i) for i in error]\n",
    "intSpeed = [eval(i) for i in speed]\n",
    "\n",
    "intTime = [eval(t)/1000 for t in time]\n",
    "\n",
    "intAng = [eval(i) for i in rawY]\n",
    "intYaw = [-eval(i) for i in yaw]\n",
    "\n",
    "intDist = [eval(i) for i in ONEDist]"
   ]
  },
  {
   "cell_type": "code",
   "execution_count": 328,
   "id": "6688f615-ee93-418f-8e04-07a5b05fb75e",
   "metadata": {
    "tags": []
   },
   "outputs": [],
   "source": [
    "p5p3_Target = intTarget\n",
    "p5p3_Error = intError\n",
    "p5p3_Speed = intSpeed\n",
    "\n",
    "p5p3_Time = intTime\n",
    "\n",
    "p5p3_Ang = intAng\n",
    "p5p3_Yaw = intYaw\n",
    "\n",
    "p5p3_Dist = intDist"
   ]
  },
  {
   "cell_type": "code",
   "execution_count": 329,
   "id": "4703efdf-0b11-45d1-bf7d-a5c66b8f1aed",
   "metadata": {
    "tags": []
   },
   "outputs": [
    {
     "name": "stdout",
     "output_type": "stream",
     "text": [
      "Stored 'p5p3_Target' (list)\n",
      "Stored 'p5p3_Error' (list)\n",
      "Stored 'p5p3_Speed' (list)\n",
      "Stored 'p5p3_Time' (list)\n",
      "Stored 'p5p3_Ang' (list)\n",
      "Stored 'p5p3_Yaw' (list)\n",
      "Stored 'p5p3_Dist' (list)\n"
     ]
    }
   ],
   "source": [
    "%store p5p3_Target\n",
    "%store p5p3_Error\n",
    "%store p5p3_Speed\n",
    "\n",
    "%store p5p3_Time\n",
    "\n",
    "%store p5p3_Ang\n",
    "%store p5p3_Yaw\n",
    "\n",
    "%store p5p3_Dist"
   ]
  },
  {
   "cell_type": "code",
   "execution_count": 346,
   "id": "f36736b5-e34e-40d0-8941-87bf3b169923",
   "metadata": {
    "tags": []
   },
   "outputs": [
    {
     "name": "stdout",
     "output_type": "stream",
     "text": [
      "1020\n"
     ]
    }
   ],
   "source": [
    "print(len(p5p3_Time))"
   ]
  }
 ],
 "metadata": {
  "kernelspec": {
   "display_name": "Python 3 (ipykernel)",
   "language": "python",
   "name": "python3"
  },
  "language_info": {
   "codemirror_mode": {
    "name": "ipython",
    "version": 3
   },
   "file_extension": ".py",
   "mimetype": "text/x-python",
   "name": "python",
   "nbconvert_exporter": "python",
   "pygments_lexer": "ipython3",
   "version": "3.9.6"
  }
 },
 "nbformat": 4,
 "nbformat_minor": 5
}
