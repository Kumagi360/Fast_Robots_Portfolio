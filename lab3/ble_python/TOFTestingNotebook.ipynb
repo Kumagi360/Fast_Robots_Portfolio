{
 "cells": [
  {
   "cell_type": "markdown",
   "id": "9a6fa9d6-91d7-4c7b-8bd7-7e398f751858",
   "metadata": {
    "tags": []
   },
   "source": [
    "## TOF Testing Notebook"
   ]
  },
  {
   "cell_type": "code",
   "execution_count": 5,
   "id": "5baca3a2-a335-4c24-a0aa-f95701e1f2c4",
   "metadata": {
    "tags": []
   },
   "outputs": [
    {
     "name": "stdout",
     "output_type": "stream",
     "text": [
      "The autoreload extension is already loaded. To reload it, use:\n",
      "  %reload_ext autoreload\n"
     ]
    }
   ],
   "source": [
    "# BLE libraries\n",
    "\n",
    "%load_ext autoreload\n",
    "%autoreload 2\n",
    "\n",
    "from ble import get_ble_controller\n",
    "from base_ble import LOG\n",
    "from cmd_types import CMD\n",
    "import time\n",
    "import numpy as np\n",
    "\n",
    "LOG.propagate = False"
   ]
  },
  {
   "cell_type": "code",
   "execution_count": 6,
   "id": "b9f883a1-7025-4451-aebd-3db0e44d99b3",
   "metadata": {},
   "outputs": [
    {
     "name": "stdout",
     "output_type": "stream",
     "text": [
      "2023-02-15 14:53:29,225 |\u001b[32m INFO     \u001b[0m|: Looking for Artemis Nano Peripheral Device: C0:83:D5:66:86:3C\n",
      "2023-02-15 14:53:33,727 |\u001b[32m INFO     \u001b[0m|: Connected to C0:83:D5:66:86:3C\n"
     ]
    }
   ],
   "source": [
    "# Connect to BLE\n",
    "\n",
    "# Get ArtemisBLEController object\n",
    "ble = get_ble_controller()\n",
    "\n",
    "# Connect to the Artemis Device\n",
    "ble.connect()\n",
    "\n"
   ]
  },
  {
   "cell_type": "code",
   "execution_count": 7,
   "id": "36b8e613-727c-4331-9dda-446a2932338b",
   "metadata": {
    "tags": []
   },
   "outputs": [
    {
     "ename": "TypeError",
     "evalue": "'NoneType' object is not subscriptable",
     "output_type": "error",
     "traceback": [
      "\u001b[0;31m---------------------------------------------------------------------------\u001b[0m",
      "\u001b[0;31mTypeError\u001b[0m                                 Traceback (most recent call last)",
      "\u001b[0;32m/var/folders/nj/jnzf5kq57v5dz7q_7msqh2vm0000gn/T/ipykernel_9365/3602377951.py\u001b[0m in \u001b[0;36m<module>\u001b[0;34m\u001b[0m\n\u001b[1;32m      1\u001b[0m \u001b[0;31m# Read a float GATT Charactersistic\u001b[0m\u001b[0;34m\u001b[0m\u001b[0;34m\u001b[0m\u001b[0;34m\u001b[0m\u001b[0m\n\u001b[0;32m----> 2\u001b[0;31m \u001b[0mf\u001b[0m \u001b[0;34m=\u001b[0m \u001b[0mble\u001b[0m\u001b[0;34m.\u001b[0m\u001b[0mreceive_float\u001b[0m\u001b[0;34m(\u001b[0m\u001b[0mble\u001b[0m\u001b[0;34m.\u001b[0m\u001b[0muuid\u001b[0m\u001b[0;34m[\u001b[0m\u001b[0;34m'RX_FLOAT'\u001b[0m\u001b[0;34m]\u001b[0m\u001b[0;34m)\u001b[0m\u001b[0;34m\u001b[0m\u001b[0;34m\u001b[0m\u001b[0m\n\u001b[0m\u001b[1;32m      3\u001b[0m \u001b[0mprint\u001b[0m\u001b[0;34m(\u001b[0m\u001b[0mf\u001b[0m\u001b[0;34m)\u001b[0m\u001b[0;34m\u001b[0m\u001b[0;34m\u001b[0m\u001b[0m\n",
      "\u001b[0;31mTypeError\u001b[0m: 'NoneType' object is not subscriptable"
     ]
    },
    {
     "name": "stdout",
     "output_type": "stream",
     "text": [
      "2023-02-15 14:55:10,023 |\u001b[32m INFO     \u001b[0m|: Disconnected from AB6C95E9-A4ED-4F7A-B208-0AFEAFDDA3AD\n"
     ]
    }
   ],
   "source": [
    "# Read a float GATT Charactersistic\n",
    "f = ble.receive_float(ble.uuid['RX_FLOAT'])\n",
    "print(f)"
   ]
  },
  {
   "cell_type": "code",
   "execution_count": 6,
   "id": "aea54658-2058-423a-bebd-aae6b11dc22a",
   "metadata": {
    "tags": []
   },
   "outputs": [
    {
     "ename": "TypeError",
     "evalue": "'NoneType' object is not subscriptable",
     "output_type": "error",
     "traceback": [
      "\u001b[0;31m---------------------------------------------------------------------------\u001b[0m",
      "\u001b[0;31mTypeError\u001b[0m                                 Traceback (most recent call last)",
      "\u001b[0;32m/var/folders/nj/jnzf5kq57v5dz7q_7msqh2vm0000gn/T/ipykernel_9323/1281292474.py\u001b[0m in \u001b[0;36m<module>\u001b[0;34m\u001b[0m\n\u001b[0;32m----> 1\u001b[0;31m \u001b[0mble\u001b[0m\u001b[0;34m.\u001b[0m\u001b[0msend_command\u001b[0m\u001b[0;34m(\u001b[0m\u001b[0mCMD\u001b[0m\u001b[0;34m.\u001b[0m\u001b[0mPING\u001b[0m\u001b[0;34m,\u001b[0m \u001b[0;34m''\u001b[0m\u001b[0;34m)\u001b[0m\u001b[0;34m\u001b[0m\u001b[0;34m\u001b[0m\u001b[0m\n\u001b[0m",
      "\u001b[0;32m~/Desktop/CORNELL/SP23/Fast Robots/lab3/ble_python/ble.py\u001b[0m in \u001b[0;36msend_command\u001b[0;34m(self, cmd_type, data)\u001b[0m\n\u001b[1;32m    149\u001b[0m \u001b[0;34m\u001b[0m\u001b[0m\n\u001b[1;32m    150\u001b[0m         \u001b[0;32mif\u001b[0m \u001b[0mlen\u001b[0m\u001b[0;34m(\u001b[0m\u001b[0mcmd_string\u001b[0m\u001b[0;34m)\u001b[0m \u001b[0;34m<\u001b[0m \u001b[0mself\u001b[0m\u001b[0;34m.\u001b[0m\u001b[0mmax_write_length\u001b[0m\u001b[0;34m:\u001b[0m\u001b[0;34m\u001b[0m\u001b[0;34m\u001b[0m\u001b[0m\n\u001b[0;32m--> 151\u001b[0;31m             \u001b[0mself\u001b[0m\u001b[0;34m.\u001b[0m\u001b[0mwrite\u001b[0m\u001b[0;34m(\u001b[0m\u001b[0mself\u001b[0m\u001b[0;34m.\u001b[0m\u001b[0muuid\u001b[0m\u001b[0;34m[\u001b[0m\u001b[0;34m'TX_CMD_STRING'\u001b[0m\u001b[0;34m]\u001b[0m\u001b[0;34m,\u001b[0m \u001b[0mbytearray\u001b[0m\u001b[0;34m(\u001b[0m\u001b[0mmap\u001b[0m\u001b[0;34m(\u001b[0m\u001b[0mord\u001b[0m\u001b[0;34m,\u001b[0m \u001b[0mcmd_string\u001b[0m\u001b[0;34m)\u001b[0m\u001b[0;34m)\u001b[0m\u001b[0;34m)\u001b[0m\u001b[0;34m\u001b[0m\u001b[0;34m\u001b[0m\u001b[0m\n\u001b[0m\u001b[1;32m    152\u001b[0m         \u001b[0;32melse\u001b[0m\u001b[0;34m:\u001b[0m\u001b[0;34m\u001b[0m\u001b[0;34m\u001b[0m\u001b[0m\n\u001b[1;32m    153\u001b[0m             raise Exception(\"Cannot write string larger than {} bytes\".format(\n",
      "\u001b[0;31mTypeError\u001b[0m: 'NoneType' object is not subscriptable"
     ]
    },
    {
     "name": "stdout",
     "output_type": "stream",
     "text": [
      "2023-02-15 14:48:18,127 |\u001b[32m INFO     \u001b[0m|: Disconnected from AB6C95E9-A4ED-4F7A-B208-0AFEAFDDA3AD\n"
     ]
    }
   ],
   "source": [
    "ble.send_command(CMD.PING, '')"
   ]
  },
  {
   "cell_type": "code",
   "execution_count": 7,
   "id": "4f752565-8a5d-4294-9f2c-89f0c941b298",
   "metadata": {
    "tags": []
   },
   "outputs": [
    {
     "ename": "TypeError",
     "evalue": "'NoneType' object is not subscriptable",
     "output_type": "error",
     "traceback": [
      "\u001b[0;31m---------------------------------------------------------------------------\u001b[0m",
      "\u001b[0;31mTypeError\u001b[0m                                 Traceback (most recent call last)",
      "\u001b[0;32m/var/folders/nj/jnzf5kq57v5dz7q_7msqh2vm0000gn/T/ipykernel_9079/2875721586.py\u001b[0m in \u001b[0;36m<module>\u001b[0;34m\u001b[0m\n\u001b[0;32m----> 1\u001b[0;31m \u001b[0mble\u001b[0m\u001b[0;34m.\u001b[0m\u001b[0msend_command\u001b[0m\u001b[0;34m(\u001b[0m\u001b[0mCMD\u001b[0m\u001b[0;34m.\u001b[0m\u001b[0mPING\u001b[0m\u001b[0;34m,\u001b[0m \u001b[0;34m\"\"\u001b[0m\u001b[0;34m)\u001b[0m\u001b[0;34m\u001b[0m\u001b[0;34m\u001b[0m\u001b[0m\n\u001b[0m\u001b[1;32m      2\u001b[0m \u001b[0;34m\u001b[0m\u001b[0m\n\u001b[1;32m      3\u001b[0m \u001b[0;31m# Document sensor range, accuracy, repeatability, and ranging time. in dark and light.\u001b[0m\u001b[0;34m\u001b[0m\u001b[0;34m\u001b[0m\u001b[0;34m\u001b[0m\u001b[0m\n\u001b[1;32m      4\u001b[0m \u001b[0;32mdef\u001b[0m \u001b[0mnotif_callback\u001b[0m\u001b[0;34m(\u001b[0m\u001b[0muuid\u001b[0m\u001b[0;34m,\u001b[0m \u001b[0mdata\u001b[0m\u001b[0;34m)\u001b[0m\u001b[0;34m:\u001b[0m\u001b[0;34m\u001b[0m\u001b[0;34m\u001b[0m\u001b[0m\n\u001b[1;32m      5\u001b[0m     \u001b[0;32mglobal\u001b[0m \u001b[0minstances\u001b[0m\u001b[0;34m\u001b[0m\u001b[0;34m\u001b[0m\u001b[0m\n",
      "\u001b[0;32m~/Desktop/CORNELL/SP23/Fast Robots/lab3/ble_python/ble.py\u001b[0m in \u001b[0;36msend_command\u001b[0;34m(self, cmd_type, data)\u001b[0m\n\u001b[1;32m    149\u001b[0m \u001b[0;34m\u001b[0m\u001b[0m\n\u001b[1;32m    150\u001b[0m         \u001b[0;32mif\u001b[0m \u001b[0mlen\u001b[0m\u001b[0;34m(\u001b[0m\u001b[0mcmd_string\u001b[0m\u001b[0;34m)\u001b[0m \u001b[0;34m<\u001b[0m \u001b[0mself\u001b[0m\u001b[0;34m.\u001b[0m\u001b[0mmax_write_length\u001b[0m\u001b[0;34m:\u001b[0m\u001b[0;34m\u001b[0m\u001b[0;34m\u001b[0m\u001b[0m\n\u001b[0;32m--> 151\u001b[0;31m             \u001b[0mself\u001b[0m\u001b[0;34m.\u001b[0m\u001b[0mwrite\u001b[0m\u001b[0;34m(\u001b[0m\u001b[0mself\u001b[0m\u001b[0;34m.\u001b[0m\u001b[0muuid\u001b[0m\u001b[0;34m[\u001b[0m\u001b[0;34m'TX_CMD_STRING'\u001b[0m\u001b[0;34m]\u001b[0m\u001b[0;34m,\u001b[0m \u001b[0mbytearray\u001b[0m\u001b[0;34m(\u001b[0m\u001b[0mmap\u001b[0m\u001b[0;34m(\u001b[0m\u001b[0mord\u001b[0m\u001b[0;34m,\u001b[0m \u001b[0mcmd_string\u001b[0m\u001b[0;34m)\u001b[0m\u001b[0;34m)\u001b[0m\u001b[0;34m)\u001b[0m\u001b[0;34m\u001b[0m\u001b[0;34m\u001b[0m\u001b[0m\n\u001b[0m\u001b[1;32m    152\u001b[0m         \u001b[0;32melse\u001b[0m\u001b[0;34m:\u001b[0m\u001b[0;34m\u001b[0m\u001b[0;34m\u001b[0m\u001b[0m\n\u001b[1;32m    153\u001b[0m             raise Exception(\"Cannot write string larger than {} bytes\".format(\n",
      "\u001b[0;31mTypeError\u001b[0m: 'NoneType' object is not subscriptable"
     ]
    }
   ],
   "source": [
    "ble.send_command(CMD.PING, \"\")\n",
    "\n",
    "# Document sensor range, accuracy, repeatability, and ranging time. in dark and light. \n",
    "def notif_callback(uuid, data):\n",
    "    global instances\n",
    "    pair = (ble.bytearray_to_string(data)).split('|')\n",
    "    print(\"Sample \" + str(instances) + \" at \" + pair[0] + \" is \" + pair[1])\n",
    "    \n",
    "    distanceAtLocation[location].append(pair[0])\n",
    "    timeAtLocation[location].append(pair[1])\n",
    "    \n",
    "    if (instances == 50):\n",
    "        location += 1\n",
    "        instances = 0\n",
    "        print(len(distanceAtLocation))\n",
    "        print(distanceAtLocation[location])\n",
    "        print(len(timeAtLocation))\n",
    "        print(distanceAtLocation[location])\n",
    "    else:\n",
    "        instances += 1\n",
    "\n",
    "location = 0\n",
    "instances = 0\n",
    "ble.start_notify(ble.uuid['RX_STRING'], notif_callback)"
   ]
  },
  {
   "cell_type": "code",
   "execution_count": 10,
   "id": "065a73c1-90b3-49d2-ab11-276367ccf935",
   "metadata": {
    "tags": []
   },
   "outputs": [
    {
     "ename": "TypeError",
     "evalue": "'NoneType' object is not subscriptable",
     "output_type": "error",
     "traceback": [
      "\u001b[0;31m---------------------------------------------------------------------------\u001b[0m",
      "\u001b[0;31mTypeError\u001b[0m                                 Traceback (most recent call last)",
      "\u001b[0;32m/var/folders/nj/jnzf5kq57v5dz7q_7msqh2vm0000gn/T/ipykernel_6564/2058831848.py\u001b[0m in \u001b[0;36m<module>\u001b[0;34m\u001b[0m\n\u001b[1;32m      2\u001b[0m \u001b[0;34m\u001b[0m\u001b[0m\n\u001b[1;32m      3\u001b[0m \u001b[0;31m# Read a float GATT Charactersistic\u001b[0m\u001b[0;34m\u001b[0m\u001b[0;34m\u001b[0m\u001b[0;34m\u001b[0m\u001b[0m\n\u001b[0;32m----> 4\u001b[0;31m \u001b[0mf\u001b[0m \u001b[0;34m=\u001b[0m \u001b[0mble\u001b[0m\u001b[0;34m.\u001b[0m\u001b[0mreceive_float\u001b[0m\u001b[0;34m(\u001b[0m\u001b[0mble\u001b[0m\u001b[0;34m.\u001b[0m\u001b[0muuid\u001b[0m\u001b[0;34m[\u001b[0m\u001b[0;34m'RX_FLOAT'\u001b[0m\u001b[0;34m]\u001b[0m\u001b[0;34m)\u001b[0m\u001b[0;34m\u001b[0m\u001b[0;34m\u001b[0m\u001b[0m\n\u001b[0m\u001b[1;32m      5\u001b[0m \u001b[0mprint\u001b[0m\u001b[0;34m(\u001b[0m\u001b[0mf\u001b[0m\u001b[0;34m)\u001b[0m\u001b[0;34m\u001b[0m\u001b[0;34m\u001b[0m\u001b[0m\n\u001b[1;32m      6\u001b[0m \u001b[0;34m\u001b[0m\u001b[0m\n",
      "\u001b[0;31mTypeError\u001b[0m: 'NoneType' object is not subscriptable"
     ]
    }
   ],
   "source": [
    "#Verify reading and writing to characteristics\n",
    "\n",
    "# Read a float GATT Charactersistic\n",
    "f = ble.receive_float(ble.uuid['RX_FLOAT'])\n",
    "print(f)\n",
    "\n",
    "# Read a string GATT Charactersistic\n",
    "s = ble.receive_string(ble.uuid['RX_STRING'])\n",
    "print(s)\n",
    "\n",
    "ble.send_command(CMD.PING, \"\")\n",
    "s = ble.receive_string(ble.uuid['RX_STRING'])\n",
    "print(s)\n",
    "\n",
    "ble.send_command(CMD.SEND_TWO_INTS, \"2|-6\")"
   ]
  },
  {
   "cell_type": "code",
   "execution_count": null,
   "id": "f2a61bc2-b2a1-4fbf-b95b-42ad7772fac3",
   "metadata": {},
   "outputs": [],
   "source": [
    "# Document sensor range, accuracy, repeatability, and ranging time. in dark and light. \n",
    "def notif_callback(uuid, data):\n",
    "    global instances\n",
    "    pair = (ble.bytearray_to_string(data)).split('|')\n",
    "    print(\"Sample \" + str(instances) + \" at \" + pair[0] + \" is \" + pair[1])\n",
    "    \n",
    "    distanceAtLocation[location].append(pair[0])\n",
    "    timeAtLocation[location].append(pair[1])\n",
    "    \n",
    "    if instances = 50:\n",
    "        location += 1\n",
    "        instances = 0\n",
    "        print(len(distanceAtLocation))\n",
    "        print(distanceAtLocation[location])\n",
    "        print(len(timeAtLocation))\n",
    "        print(distanceAtLocation[location])\n",
    "    else:\n",
    "        instances += 1\n",
    "\n",
    "location = 0\n",
    "instances = 0\n",
    "ble.start_notify(ble.uuid['RX_STRING'], notif_callback)"
   ]
  },
  {
   "cell_type": "code",
   "execution_count": null,
   "id": "154eb37d-3559-4026-8791-42b3bc4e2baf",
   "metadata": {},
   "outputs": [],
   "source": [
    "ble.stop_notify(ble.uuid['RX_STRING'])"
   ]
  }
 ],
 "metadata": {
  "kernelspec": {
   "display_name": "Python 3 (ipykernel)",
   "language": "python",
   "name": "python3"
  },
  "language_info": {
   "codemirror_mode": {
    "name": "ipython",
    "version": 3
   },
   "file_extension": ".py",
   "mimetype": "text/x-python",
   "name": "python",
   "nbconvert_exporter": "python",
   "pygments_lexer": "ipython3",
   "version": "3.7.6"
  }
 },
 "nbformat": 4,
 "nbformat_minor": 5
}
