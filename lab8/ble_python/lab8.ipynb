{
 "cells": [
  {
   "cell_type": "code",
   "execution_count": 2,
   "id": "c0723dde",
   "metadata": {
    "tags": []
   },
   "outputs": [
    {
     "name": "stdout",
     "output_type": "stream",
     "text": [
      "The autoreload extension is already loaded. To reload it, use:\n",
      "  %reload_ext autoreload\n"
     ]
    }
   ],
   "source": [
    "%load_ext autoreload\n",
    "%autoreload 2\n",
    "\n",
    "from ble import get_ble_controller\n",
    "from base_ble import LOG\n",
    "from cmd_types import CMD\n",
    "import time\n",
    "import numpy as np\n",
    "\n",
    "LOG.propagate = False\n",
    "\n",
    "from matplotlib import pyplot as plt\n",
    "import random\n",
    "import numpy as np"
   ]
  },
  {
   "cell_type": "code",
   "execution_count": 9,
   "id": "bd7a2590-afaa-4f71-93da-b2c18e1e6460",
   "metadata": {
    "tags": []
   },
   "outputs": [
    {
     "name": "stdout",
     "output_type": "stream",
     "text": [
      "2023-05-07 22:16:17,674 |\u001b[32m INFO     \u001b[0m|: Disconnected from 17C0176F-95E8-439F-A4DD-EF7D3F71062E\n"
     ]
    }
   ],
   "source": [
    "# disconnect from Artemis\n",
    "ble.disconnect()"
   ]
  },
  {
   "cell_type": "code",
   "execution_count": 57,
   "id": "2987d64a",
   "metadata": {
    "tags": []
   },
   "outputs": [
    {
     "name": "stdout",
     "output_type": "stream",
     "text": [
      "2023-05-08 16:20:10,541 |\u001b[32m INFO     \u001b[0m|: Looking for Artemis Nano Peripheral Device: C0:83:D5:66:86:3C\n",
      "2023-05-08 16:20:13,112 |\u001b[32m INFO     \u001b[0m|: Connected to C0:83:D5:66:86:3C\n"
     ]
    }
   ],
   "source": [
    "# connect to Artemis\n",
    "\n",
    "# Get ArtemisBLEController object\n",
    "ble = get_ble_controller()\n",
    "\n",
    "# Connect to the Artemis Device\n",
    "ble.connect()"
   ]
  },
  {
   "cell_type": "code",
   "execution_count": 38,
   "id": "cdf9523e",
   "metadata": {
    "tags": []
   },
   "outputs": [
    {
     "name": "stdout",
     "output_type": "stream",
     "text": [
      "PONG\n"
     ]
    }
   ],
   "source": [
    "# test sending and receiving\n",
    "\n",
    "ble.send_command(CMD.PING, \"\")\n",
    "\n",
    "s = ble.receive_string(ble.uuid['RX_STRING'])\n",
    "print(s)"
   ]
  },
  {
   "cell_type": "code",
   "execution_count": 5,
   "id": "92fb0067",
   "metadata": {
    "tags": []
   },
   "outputs": [],
   "source": [
    "# STATIC --- read and aggregate time, pitch, roll, yaw, TOF#1, TOF#2, leftPWM, rightPWM\n",
    "\n",
    "def fft_callback(uuid, data):\n",
    "    \n",
    "    reading = (ble.bytearray_to_string(data)).split('|')\n",
    "    #print(reading)\n",
    "    \n",
    "    for count in range(entries):\n",
    "        try:\n",
    "            nextPos = count*8\n",
    "            time.append((reading[nextPos]))\n",
    "            pitchC.append((reading[nextPos+1]))\n",
    "            rollC.append((reading[nextPos+2]))\n",
    "            yaw.append((reading[nextPos+3]))\n",
    "            ONEDist.append((reading[nextPos+4]))\n",
    "            TWODist.append((reading[nextPos+5]))\n",
    "            leftPWM.append((reading[nextPos+6]))\n",
    "            rightPWM.append((reading[nextPos+7]))\n",
    "        except (IndexError,ValueError):\n",
    "            continue\n",
    "        \n",
    "    \n",
    "entries = 3\n",
    "time = []\n",
    "pitchC = []\n",
    "rollC = []\n",
    "yaw = []\n",
    "ONEDist = []\n",
    "TWODist = []\n",
    "leftPWM = []\n",
    "rightPWM = []\n",
    "\n",
    "ble.start_notify(ble.uuid['RX_STRING'], fft_callback)\n",
    "ble.send_command(CMD.TIMED_PID_DATA, \"\")"
   ]
  },
  {
   "cell_type": "code",
   "execution_count": 54,
   "id": "58b05475-acb4-47fa-a1be-9f58a7447a48",
   "metadata": {
    "tags": []
   },
   "outputs": [],
   "source": [
    "ble.send_command(CMD.UPDATE_KP, \"0.20\")"
   ]
  },
  {
   "cell_type": "code",
   "execution_count": 61,
   "id": "c09c3bbb",
   "metadata": {},
   "outputs": [],
   "source": [
    "# MOTION --- PID to given distance and read and aggregate time, pitch, roll, yaw, TOF#1, TOF#2, leftPWM, rightPWM\n",
    "\n",
    "def fft_callback(uuid, data):\n",
    "    \n",
    "    reading = (ble.bytearray_to_string(data)).split('|')\n",
    "    #print(reading)\n",
    "    \n",
    "    for count in range(entries):\n",
    "        try:\n",
    "            nextPos = count*7\n",
    "            time.append((reading[nextPos]))\n",
    "            pitchC.append((reading[nextPos+1]))\n",
    "            rollC.append((reading[nextPos+2]))\n",
    "            yaw.append((reading[nextPos+3]))\n",
    "            ONEDist.append((reading[nextPos+4]))\n",
    "            error.append((reading[nextPos+5]))\n",
    "            speed.append((reading[nextPos+6]))\n",
    "        except (IndexError,ValueError):\n",
    "            continue\n",
    "        \n",
    "    \n",
    "entries = 3\n",
    "time = []\n",
    "pitchC = []\n",
    "rollC = []\n",
    "yaw = []\n",
    "ONEDist = []\n",
    "error = []\n",
    "speed = []\n",
    "\n",
    "ble.start_notify(ble.uuid['RX_STRING'], fft_callback)\n",
    "ble.send_command(CMD.TOF_PID, \"304\")"
   ]
  },
  {
   "cell_type": "code",
   "execution_count": 21,
   "id": "0b8e99c4",
   "metadata": {
    "tags": []
   },
   "outputs": [],
   "source": [
    "# STEP --- PID to given distance and read and aggregate time, pitch, roll, yaw, TOF#1, TOF#2, leftPWM, rightPWM\n",
    "\n",
    "def fft_callback(uuid, data):\n",
    "    \n",
    "    reading = (ble.bytearray_to_string(data)).split('|')\n",
    "    #print(reading)\n",
    "    \n",
    "    for count in range(entries):\n",
    "        try:\n",
    "            nextPos = count*7\n",
    "            time.append((reading[nextPos]))\n",
    "            pitchC.append((reading[nextPos+1]))\n",
    "            rollC.append((reading[nextPos+2]))\n",
    "            yaw.append((reading[nextPos+3]))\n",
    "            ONEDist.append((reading[nextPos+4]))\n",
    "            error.append((reading[nextPos+5]))\n",
    "            speed.append((reading[nextPos+6]))\n",
    "        except (IndexError,ValueError):\n",
    "            continue\n",
    "        \n",
    "    \n",
    "entries = 3\n",
    "time = []\n",
    "pitchC = []\n",
    "rollC = []\n",
    "yaw = []\n",
    "ONEDist = []\n",
    "error = []\n",
    "speed = []\n",
    "\n",
    "ble.start_notify(ble.uuid['RX_STRING'], fft_callback)\n",
    "ble.send_command(CMD.STEP, \"\")"
   ]
  },
  {
   "cell_type": "code",
   "execution_count": 92,
   "id": "d0773911",
   "metadata": {
    "tags": []
   },
   "outputs": [
    {
     "name": "stdout",
     "output_type": "stream",
     "text": [
      "['-76', '-76', '-76', '193', '193', '193', '197', '197', '197', '200', '200', '200', '201', '201', '201', '201', '203', '203', '203', '203', '205', '205', '205', '205', '205', '205', '204', '204', '204', '204', '201', '201', '201', '200', '200', '200', '197', '197', '197', '196', '196', '196', '192', '192', '192', '192', '192', '189', '189', '189', '189', '185', '185', '185', '182', '182', '182', '176', '176', '176', '170', '170', '170', '164', '164', '164', '164', '159', '159', '159', '159', '155', '155', '155', '155', '149', '149', '149', '143', '143', '143', '136', '136', '136', '136', '130', '130', '130', '124', '124', '124', '124', '124', '120', '120', '120', '120', '120', '120', '120', '120', '120', '-76', '-76', '-76', '-76', '-76', '94', '94', '94', '94', '94', '85', '85', '85', '85', '85', '77', '77', '77', '77', '77', '77', '67', '67', '67', '67', '67', '67', '51', '51', '51', '51', '51', '51', '50', '50', '50', '50', '50', '50', '0', '0', '0', '0', '0', '0', '0', '0', '0', '0', '0', '0', '0', '0', '0', '0', '0', '0', '0', '0', '0', '0', '0', '0', '0', '0', '0', '0', '0', '0', '0', '0', '0', '0', '0', '0', '0', '0', '0', '0', '0', '0', '0', '0', '0', '0', '0', '0', '0', '0', '0', '0', '0', '0', '0', '0', '0', '0', '-50', '-50', '-50', '-50', '-50', '-50', '-50', '-50', '-50', '-50', '-50', '-50', '-50', '-50', '-50', '-50', '-50', '-50', '-50', '-50', '-50', '-50', '-50', '-53', '-53', '-53', '-53', '-53', '-53', '-56', '-56', '-56', '-56', '-56', '-56', '-56', '-56', '-56', '-58', '-58', '-58', '-58', '-58', '-59', '-59', '-59', '-59', '-59', '-59', '-59', '-59', '-59', '-59', '-59', '-59', '-59', '-59', '-59', '-59', '-59', '-59', '-59', '-59', '-59', '-59', '-56', '-56', '-56', '-56', '-56', '-56', '-52', '-52', '-52', '-52', '-52', '-52', '-52', '-50', '-50', '-50', '-50', '-50', '-50', '-50', '-50', '-50', '-50', '-50', '-50', '-50', '-50', '-50', '-50', '-50', '-50', '-50', '-50', '0', '0', '0', '0', '0', '0', '0', '0', '0', '0', '0', '0', '0', '0', '0', '0', '0', '0', '0', '0', '0', '0', '0', '0', '0', '0', '0', '0', '0', '0', '0', '0', '0', '0', '0', '0', '0', '0', '0', '0', '0', '0', '0', '0', '0', '0', '0', '0', '0', '0', '0', '0', '0', '0', '0', '0', '0', '0', '50', '50', '50', '50', '50', '50', '50', '50', '50', '50', '50', '50', '60', '60', '60', '60', '60']\n"
     ]
    }
   ],
   "source": [
    "print(speed)"
   ]
  },
  {
   "cell_type": "code",
   "execution_count": 62,
   "id": "e47719f0",
   "metadata": {
    "tags": []
   },
   "outputs": [],
   "source": [
    "# stop notifications from this characteristic\n",
    "\n",
    "ble.stop_notify(ble.uuid['RX_STRING'])"
   ]
  },
  {
   "cell_type": "code",
   "execution_count": null,
   "id": "f9289968",
   "metadata": {},
   "outputs": [],
   "source": [
    "intDist = []\n",
    "intPWM = []\n",
    "kf_output = []\n",
    "\n",
    "for item in range(len(ONEDist)):\n",
    "    intDist.append(int(ONEDist[item]))\n",
    "    intPWM.append(int(speed[item]))\n",
    "\n",
    "# initializing Kalman Filter\n",
    "\n",
    "# sampling, drag, and momentum\n",
    "SecPerSample = 0.0122\n",
    "d = 0.000521\n",
    "m = 0.000283\n",
    "\n",
    "# A,B,C matrices and discretized \n",
    "A = np.array([[0,1],[0,-d/m]])\n",
    "B = np.array([[0],[1/m]])\n",
    "C = np.array([[1,0]])\n",
    "\n",
    "A_disc = np.eye(2) + SecPerSample * A\n",
    "B_disc = SecPerSample * B\n",
    "C=np.array([[1,0]])\n",
    "\n",
    "# ballpark variances, process variance\n",
    "posSigma = np.sqrt(10**2/SecPerSample)\n",
    "speedSigma = np.sqrt(10**2/SecPerSample)\n",
    "sensorSigma = 1.14\n",
    "\n",
    "sigma_u=np.array([[posSigma**2,0],[0,speedSigma**2]])\n",
    "sigma_z=np.array([[sensorSigma**2]])\n",
    "\n",
    "print(A_disc)\n",
    "print(B_disc)\n",
    "print(C)\n",
    "\n",
    "# initial states\n",
    "x = np.array([[-intDist[0]],[0]])\n",
    "sig = np.array([[10,0],[0,10]])\n",
    "    "
   ]
  },
  {
   "cell_type": "code",
   "execution_count": null,
   "id": "040c8209",
   "metadata": {},
   "outputs": [],
   "source": [
    "def kf(x,u,sig,y):\n",
    "    \n",
    "    x_p = A_disc.dot(x) + B_disc.dot(u)                     \n",
    "    sig_p = A_disc.dot(sig.dot(A_disc.transpose())) + sigma_u \n",
    "    \n",
    "    y_m = y-C.dot(x_p)\n",
    "    sig_m = C.dot(sig_p.dot(C.transpose())) + sigma_z\n",
    "    \n",
    "    kf_gain = sig_p.dot(C.transpose().dot(np.linalg.inv(sig_m)))\n",
    "\n",
    "    x_n   = x_p + kf_gain.dot(y_m)\n",
    "    sig_n = (np.eye(2) - kf_gain.dot(C)).dot(sig_p)\n",
    "    return x_n, sig_n"
   ]
  },
  {
   "cell_type": "code",
   "execution_count": null,
   "id": "71d3a34e",
   "metadata": {},
   "outputs": [],
   "source": [
    "kf_output = []\n",
    "for dist, pwm in zip(intDist, intPWM):\n",
    "    x, sig = kf(x, pwm/120, sig, dist)\n",
    "    kf_output.append(x[0][0])"
   ]
  },
  {
   "cell_type": "code",
   "execution_count": null,
   "id": "3743c2dd",
   "metadata": {},
   "outputs": [],
   "source": [
    "# Plot distance measurement data\n",
    "intTime = [eval(t)/1000 for t in time]\n",
    "intDist = [eval(t) for t in speed]\n",
    "plt.scatter(intTime, intDist, label = \"PWM\")\n",
    "#plt.scatter(intTime, kf_output, label = \"Kalman Filtered\")\n",
    "\n",
    "plt.title(\"Time vs PWM\")\n",
    "plt.xlabel(\"Time (s)\")\n",
    "plt.ylabel(\"PWM\")\n",
    "plt.legend(loc='upper center', bbox_to_anchor=(0.5, -0.2),\n",
    "          fancybox=True, shadow=True, ncol=5)\n",
    "# plt.ylim((0,-6000))\n"
   ]
  },
  {
   "cell_type": "code",
   "execution_count": 17,
   "id": "20894fff",
   "metadata": {
    "tags": []
   },
   "outputs": [
    {
     "ename": "ValueError",
     "evalue": "Characteristic notifications already started",
     "output_type": "error",
     "traceback": [
      "\u001b[0;31m---------------------------------------------------------------------------\u001b[0m",
      "\u001b[0;31mValueError\u001b[0m                                Traceback (most recent call last)",
      "\u001b[0;32m/var/folders/nj/jnzf5kq57v5dz7q_7msqh2vm0000gn/T/ipykernel_1387/4179615395.py\u001b[0m in \u001b[0;36m<module>\u001b[0;34m\u001b[0m\n\u001b[1;32m     29\u001b[0m \u001b[0mspeed\u001b[0m \u001b[0;34m=\u001b[0m \u001b[0;34m[\u001b[0m\u001b[0;34m]\u001b[0m\u001b[0;34m\u001b[0m\u001b[0;34m\u001b[0m\u001b[0m\n\u001b[1;32m     30\u001b[0m \u001b[0;34m\u001b[0m\u001b[0m\n\u001b[0;32m---> 31\u001b[0;31m \u001b[0mble\u001b[0m\u001b[0;34m.\u001b[0m\u001b[0mstart_notify\u001b[0m\u001b[0;34m(\u001b[0m\u001b[0mble\u001b[0m\u001b[0;34m.\u001b[0m\u001b[0muuid\u001b[0m\u001b[0;34m[\u001b[0m\u001b[0;34m'RX_STRING'\u001b[0m\u001b[0;34m]\u001b[0m\u001b[0;34m,\u001b[0m \u001b[0mfft_callback\u001b[0m\u001b[0;34m)\u001b[0m\u001b[0;34m\u001b[0m\u001b[0;34m\u001b[0m\u001b[0m\n\u001b[0m\u001b[1;32m     32\u001b[0m \u001b[0mble\u001b[0m\u001b[0;34m.\u001b[0m\u001b[0msend_command\u001b[0m\u001b[0;34m(\u001b[0m\u001b[0mCMD\u001b[0m\u001b[0;34m.\u001b[0m\u001b[0mKF_PID\u001b[0m\u001b[0;34m,\u001b[0m \u001b[0;34m\"304\"\u001b[0m\u001b[0;34m)\u001b[0m\u001b[0;34m\u001b[0m\u001b[0;34m\u001b[0m\u001b[0m\n",
      "\u001b[0;32m~/Desktop/CORNELL/SP23/Fast Robots/lab8/ble_python/ble.py\u001b[0m in \u001b[0;36mstart_notify\u001b[0;34m(self, uuid, notification_handler)\u001b[0m\n\u001b[1;32m     79\u001b[0m \u001b[0;34m\u001b[0m\u001b[0m\n\u001b[1;32m     80\u001b[0m     \u001b[0;32mdef\u001b[0m \u001b[0mstart_notify\u001b[0m\u001b[0;34m(\u001b[0m\u001b[0mself\u001b[0m\u001b[0;34m,\u001b[0m \u001b[0muuid\u001b[0m\u001b[0;34m,\u001b[0m \u001b[0mnotification_handler\u001b[0m\u001b[0;34m)\u001b[0m\u001b[0;34m:\u001b[0m\u001b[0;34m\u001b[0m\u001b[0;34m\u001b[0m\u001b[0m\n\u001b[0;32m---> 81\u001b[0;31m         \u001b[0mself\u001b[0m\u001b[0;34m.\u001b[0m\u001b[0m_wait\u001b[0m\u001b[0;34m(\u001b[0m\u001b[0mself\u001b[0m\u001b[0;34m.\u001b[0m\u001b[0mdevice\u001b[0m\u001b[0;34m.\u001b[0m\u001b[0m_start_notify\u001b[0m\u001b[0;34m(\u001b[0m\u001b[0muuid\u001b[0m\u001b[0;34m,\u001b[0m \u001b[0mnotification_handler\u001b[0m\u001b[0;34m)\u001b[0m\u001b[0;34m)\u001b[0m\u001b[0;34m\u001b[0m\u001b[0;34m\u001b[0m\u001b[0m\n\u001b[0m\u001b[1;32m     82\u001b[0m \u001b[0;34m\u001b[0m\u001b[0m\n\u001b[1;32m     83\u001b[0m     \u001b[0;32mdef\u001b[0m \u001b[0mstop_notify\u001b[0m\u001b[0;34m(\u001b[0m\u001b[0mself\u001b[0m\u001b[0;34m,\u001b[0m \u001b[0muuid\u001b[0m\u001b[0;34m)\u001b[0m\u001b[0;34m:\u001b[0m\u001b[0;34m\u001b[0m\u001b[0;34m\u001b[0m\u001b[0m\n",
      "\u001b[0;32m~/Desktop/CORNELL/SP23/Fast Robots/lab8/ble_python/base_ble.py\u001b[0m in \u001b[0;36mwait_b\u001b[0;34m(coroutine)\u001b[0m\n\u001b[1;32m     25\u001b[0m \u001b[0;34m\u001b[0m\u001b[0m\n\u001b[1;32m     26\u001b[0m \u001b[0;32mdef\u001b[0m \u001b[0mwait_b\u001b[0m\u001b[0;34m(\u001b[0m\u001b[0mcoroutine\u001b[0m\u001b[0;34m)\u001b[0m\u001b[0;34m:\u001b[0m\u001b[0;34m\u001b[0m\u001b[0;34m\u001b[0m\u001b[0m\n\u001b[0;32m---> 27\u001b[0;31m     \u001b[0;32mreturn\u001b[0m \u001b[0masyncio\u001b[0m\u001b[0;34m.\u001b[0m\u001b[0mrun\u001b[0m\u001b[0;34m(\u001b[0m\u001b[0mcoroutine\u001b[0m\u001b[0;34m)\u001b[0m\u001b[0;34m\u001b[0m\u001b[0;34m\u001b[0m\u001b[0m\n\u001b[0m\u001b[1;32m     28\u001b[0m \u001b[0;34m\u001b[0m\u001b[0m\n\u001b[1;32m     29\u001b[0m \u001b[0;31m# Ref: https://github.com/alexandrebarachant/muse-lsl/pull/148/files\u001b[0m\u001b[0;34m\u001b[0m\u001b[0;34m\u001b[0m\u001b[0;34m\u001b[0m\u001b[0m\n",
      "\u001b[0;32m~/Desktop/CORNELL/SP23/Fast Robots/lab3_v2/FastRobots_ble/lib/python3.7/site-packages/nest_asyncio.py\u001b[0m in \u001b[0;36mrun\u001b[0;34m(main, debug)\u001b[0m\n\u001b[1;32m     33\u001b[0m         \u001b[0mtask\u001b[0m \u001b[0;34m=\u001b[0m \u001b[0masyncio\u001b[0m\u001b[0;34m.\u001b[0m\u001b[0mensure_future\u001b[0m\u001b[0;34m(\u001b[0m\u001b[0mmain\u001b[0m\u001b[0;34m)\u001b[0m\u001b[0;34m\u001b[0m\u001b[0;34m\u001b[0m\u001b[0m\n\u001b[1;32m     34\u001b[0m         \u001b[0;32mtry\u001b[0m\u001b[0;34m:\u001b[0m\u001b[0;34m\u001b[0m\u001b[0;34m\u001b[0m\u001b[0m\n\u001b[0;32m---> 35\u001b[0;31m             \u001b[0;32mreturn\u001b[0m \u001b[0mloop\u001b[0m\u001b[0;34m.\u001b[0m\u001b[0mrun_until_complete\u001b[0m\u001b[0;34m(\u001b[0m\u001b[0mtask\u001b[0m\u001b[0;34m)\u001b[0m\u001b[0;34m\u001b[0m\u001b[0;34m\u001b[0m\u001b[0m\n\u001b[0m\u001b[1;32m     36\u001b[0m         \u001b[0;32mfinally\u001b[0m\u001b[0;34m:\u001b[0m\u001b[0;34m\u001b[0m\u001b[0;34m\u001b[0m\u001b[0m\n\u001b[1;32m     37\u001b[0m             \u001b[0;32mif\u001b[0m \u001b[0;32mnot\u001b[0m \u001b[0mtask\u001b[0m\u001b[0;34m.\u001b[0m\u001b[0mdone\u001b[0m\u001b[0;34m(\u001b[0m\u001b[0;34m)\u001b[0m\u001b[0;34m:\u001b[0m\u001b[0;34m\u001b[0m\u001b[0;34m\u001b[0m\u001b[0m\n",
      "\u001b[0;32m~/Desktop/CORNELL/SP23/Fast Robots/lab3_v2/FastRobots_ble/lib/python3.7/site-packages/nest_asyncio.py\u001b[0m in \u001b[0;36mrun_until_complete\u001b[0;34m(self, future)\u001b[0m\n\u001b[1;32m     88\u001b[0m                 raise RuntimeError(\n\u001b[1;32m     89\u001b[0m                     'Event loop stopped before Future completed.')\n\u001b[0;32m---> 90\u001b[0;31m             \u001b[0;32mreturn\u001b[0m \u001b[0mf\u001b[0m\u001b[0;34m.\u001b[0m\u001b[0mresult\u001b[0m\u001b[0;34m(\u001b[0m\u001b[0;34m)\u001b[0m\u001b[0;34m\u001b[0m\u001b[0;34m\u001b[0m\u001b[0m\n\u001b[0m\u001b[1;32m     91\u001b[0m \u001b[0;34m\u001b[0m\u001b[0m\n\u001b[1;32m     92\u001b[0m     \u001b[0;32mdef\u001b[0m \u001b[0m_run_once\u001b[0m\u001b[0;34m(\u001b[0m\u001b[0mself\u001b[0m\u001b[0;34m)\u001b[0m\u001b[0;34m:\u001b[0m\u001b[0;34m\u001b[0m\u001b[0;34m\u001b[0m\u001b[0m\n",
      "\u001b[0;32m~/opt/anaconda3/lib/python3.7/asyncio/futures.py\u001b[0m in \u001b[0;36mresult\u001b[0;34m(self)\u001b[0m\n\u001b[1;32m    179\u001b[0m         \u001b[0mself\u001b[0m\u001b[0;34m.\u001b[0m\u001b[0m__log_traceback\u001b[0m \u001b[0;34m=\u001b[0m \u001b[0;32mFalse\u001b[0m\u001b[0;34m\u001b[0m\u001b[0;34m\u001b[0m\u001b[0m\n\u001b[1;32m    180\u001b[0m         \u001b[0;32mif\u001b[0m \u001b[0mself\u001b[0m\u001b[0;34m.\u001b[0m\u001b[0m_exception\u001b[0m \u001b[0;32mis\u001b[0m \u001b[0;32mnot\u001b[0m \u001b[0;32mNone\u001b[0m\u001b[0;34m:\u001b[0m\u001b[0;34m\u001b[0m\u001b[0;34m\u001b[0m\u001b[0m\n\u001b[0;32m--> 181\u001b[0;31m             \u001b[0;32mraise\u001b[0m \u001b[0mself\u001b[0m\u001b[0;34m.\u001b[0m\u001b[0m_exception\u001b[0m\u001b[0;34m\u001b[0m\u001b[0;34m\u001b[0m\u001b[0m\n\u001b[0m\u001b[1;32m    182\u001b[0m         \u001b[0;32mreturn\u001b[0m \u001b[0mself\u001b[0m\u001b[0;34m.\u001b[0m\u001b[0m_result\u001b[0m\u001b[0;34m\u001b[0m\u001b[0;34m\u001b[0m\u001b[0m\n\u001b[1;32m    183\u001b[0m \u001b[0;34m\u001b[0m\u001b[0m\n",
      "\u001b[0;32m~/opt/anaconda3/lib/python3.7/asyncio/tasks.py\u001b[0m in \u001b[0;36m__step\u001b[0;34m(***failed resolving arguments***)\u001b[0m\n\u001b[1;32m    247\u001b[0m                 \u001b[0;31m# We use the `send` method directly, because coroutines\u001b[0m\u001b[0;34m\u001b[0m\u001b[0;34m\u001b[0m\u001b[0;34m\u001b[0m\u001b[0m\n\u001b[1;32m    248\u001b[0m                 \u001b[0;31m# don't have `__iter__` and `__next__` methods.\u001b[0m\u001b[0;34m\u001b[0m\u001b[0;34m\u001b[0m\u001b[0;34m\u001b[0m\u001b[0m\n\u001b[0;32m--> 249\u001b[0;31m                 \u001b[0mresult\u001b[0m \u001b[0;34m=\u001b[0m \u001b[0mcoro\u001b[0m\u001b[0;34m.\u001b[0m\u001b[0msend\u001b[0m\u001b[0;34m(\u001b[0m\u001b[0;32mNone\u001b[0m\u001b[0;34m)\u001b[0m\u001b[0;34m\u001b[0m\u001b[0;34m\u001b[0m\u001b[0m\n\u001b[0m\u001b[1;32m    250\u001b[0m             \u001b[0;32melse\u001b[0m\u001b[0;34m:\u001b[0m\u001b[0;34m\u001b[0m\u001b[0;34m\u001b[0m\u001b[0m\n\u001b[1;32m    251\u001b[0m                 \u001b[0mresult\u001b[0m \u001b[0;34m=\u001b[0m \u001b[0mcoro\u001b[0m\u001b[0;34m.\u001b[0m\u001b[0mthrow\u001b[0m\u001b[0;34m(\u001b[0m\u001b[0mexc\u001b[0m\u001b[0;34m)\u001b[0m\u001b[0;34m\u001b[0m\u001b[0;34m\u001b[0m\u001b[0m\n",
      "\u001b[0;32m~/Desktop/CORNELL/SP23/Fast Robots/lab8/ble_python/base_ble.py\u001b[0m in \u001b[0;36m_start_notify\u001b[0;34m(self, uuid, notification_handler)\u001b[0m\n\u001b[1;32m    110\u001b[0m     \u001b[0;32masync\u001b[0m \u001b[0;32mdef\u001b[0m \u001b[0m_start_notify\u001b[0m\u001b[0;34m(\u001b[0m\u001b[0mself\u001b[0m\u001b[0;34m,\u001b[0m \u001b[0muuid\u001b[0m\u001b[0;34m,\u001b[0m \u001b[0mnotification_handler\u001b[0m\u001b[0;34m)\u001b[0m\u001b[0;34m:\u001b[0m\u001b[0;34m\u001b[0m\u001b[0;34m\u001b[0m\u001b[0m\n\u001b[1;32m    111\u001b[0m         \u001b[0;32mif\u001b[0m \u001b[0mself\u001b[0m\u001b[0;34m.\u001b[0m\u001b[0mclient\u001b[0m \u001b[0;32mand\u001b[0m \u001b[0mself\u001b[0m\u001b[0;34m.\u001b[0m\u001b[0mclient\u001b[0m\u001b[0;34m.\u001b[0m\u001b[0mis_connected\u001b[0m\u001b[0;34m:\u001b[0m\u001b[0;34m\u001b[0m\u001b[0;34m\u001b[0m\u001b[0m\n\u001b[0;32m--> 112\u001b[0;31m             \u001b[0;32mawait\u001b[0m \u001b[0mself\u001b[0m\u001b[0;34m.\u001b[0m\u001b[0mclient\u001b[0m\u001b[0;34m.\u001b[0m\u001b[0mstart_notify\u001b[0m\u001b[0;34m(\u001b[0m\u001b[0muuid\u001b[0m\u001b[0;34m,\u001b[0m \u001b[0mnotification_handler\u001b[0m\u001b[0;34m)\u001b[0m\u001b[0;34m\u001b[0m\u001b[0;34m\u001b[0m\u001b[0m\n\u001b[0m\u001b[1;32m    113\u001b[0m         \u001b[0;32melse\u001b[0m\u001b[0;34m:\u001b[0m\u001b[0;34m\u001b[0m\u001b[0;34m\u001b[0m\u001b[0m\n\u001b[1;32m    114\u001b[0m             \u001b[0;32mraise\u001b[0m \u001b[0mException\u001b[0m\u001b[0;34m(\u001b[0m\u001b[0;34m\"Not connected to a BLE device\"\u001b[0m\u001b[0;34m)\u001b[0m\u001b[0;34m\u001b[0m\u001b[0;34m\u001b[0m\u001b[0m\n",
      "\u001b[0;32m~/Desktop/CORNELL/SP23/Fast Robots/lab3_v2/FastRobots_ble/lib/python3.7/site-packages/bleak/__init__.py\u001b[0m in \u001b[0;36mstart_notify\u001b[0;34m(self, char_specifier, callback, **kwargs)\u001b[0m\n\u001b[1;32m    647\u001b[0m             \u001b[0mwrapped_callback\u001b[0m \u001b[0;34m=\u001b[0m \u001b[0mfunctools\u001b[0m\u001b[0;34m.\u001b[0m\u001b[0mpartial\u001b[0m\u001b[0;34m(\u001b[0m\u001b[0mcallback\u001b[0m\u001b[0;34m,\u001b[0m \u001b[0mcharacteristic\u001b[0m\u001b[0;34m)\u001b[0m\u001b[0;34m\u001b[0m\u001b[0;34m\u001b[0m\u001b[0m\n\u001b[1;32m    648\u001b[0m \u001b[0;34m\u001b[0m\u001b[0m\n\u001b[0;32m--> 649\u001b[0;31m         \u001b[0;32mawait\u001b[0m \u001b[0mself\u001b[0m\u001b[0;34m.\u001b[0m\u001b[0m_backend\u001b[0m\u001b[0;34m.\u001b[0m\u001b[0mstart_notify\u001b[0m\u001b[0;34m(\u001b[0m\u001b[0mcharacteristic\u001b[0m\u001b[0;34m,\u001b[0m \u001b[0mwrapped_callback\u001b[0m\u001b[0;34m,\u001b[0m \u001b[0;34m**\u001b[0m\u001b[0mkwargs\u001b[0m\u001b[0;34m)\u001b[0m\u001b[0;34m\u001b[0m\u001b[0;34m\u001b[0m\u001b[0m\n\u001b[0m\u001b[1;32m    650\u001b[0m \u001b[0;34m\u001b[0m\u001b[0m\n\u001b[1;32m    651\u001b[0m     async def stop_notify(\n",
      "\u001b[0;32m~/Desktop/CORNELL/SP23/Fast Robots/lab3_v2/FastRobots_ble/lib/python3.7/site-packages/bleak/backends/corebluetooth/client.py\u001b[0m in \u001b[0;36mstart_notify\u001b[0;34m(self, characteristic, callback, **kwargs)\u001b[0m\n\u001b[1;32m    358\u001b[0m         \u001b[0;32massert\u001b[0m \u001b[0mself\u001b[0m\u001b[0;34m.\u001b[0m\u001b[0m_delegate\u001b[0m \u001b[0;32mis\u001b[0m \u001b[0;32mnot\u001b[0m \u001b[0;32mNone\u001b[0m\u001b[0;34m\u001b[0m\u001b[0;34m\u001b[0m\u001b[0m\n\u001b[1;32m    359\u001b[0m \u001b[0;34m\u001b[0m\u001b[0m\n\u001b[0;32m--> 360\u001b[0;31m         \u001b[0;32mawait\u001b[0m \u001b[0mself\u001b[0m\u001b[0;34m.\u001b[0m\u001b[0m_delegate\u001b[0m\u001b[0;34m.\u001b[0m\u001b[0mstart_notifications\u001b[0m\u001b[0;34m(\u001b[0m\u001b[0mcharacteristic\u001b[0m\u001b[0;34m.\u001b[0m\u001b[0mobj\u001b[0m\u001b[0;34m,\u001b[0m \u001b[0mcallback\u001b[0m\u001b[0;34m)\u001b[0m\u001b[0;34m\u001b[0m\u001b[0;34m\u001b[0m\u001b[0m\n\u001b[0m\u001b[1;32m    361\u001b[0m \u001b[0;34m\u001b[0m\u001b[0m\n\u001b[1;32m    362\u001b[0m     async def stop_notify(\n",
      "\u001b[0;32m~/Desktop/CORNELL/SP23/Fast Robots/lab3_v2/FastRobots_ble/lib/python3.7/site-packages/bleak/backends/corebluetooth/PeripheralDelegate.py\u001b[0m in \u001b[0;36mstart_notifications\u001b[0;34m(self, characteristic, callback)\u001b[0m\n\u001b[1;32m    210\u001b[0m         \u001b[0mc_handle\u001b[0m \u001b[0;34m=\u001b[0m \u001b[0mcharacteristic\u001b[0m\u001b[0;34m.\u001b[0m\u001b[0mhandle\u001b[0m\u001b[0;34m(\u001b[0m\u001b[0;34m)\u001b[0m\u001b[0;34m\u001b[0m\u001b[0;34m\u001b[0m\u001b[0m\n\u001b[1;32m    211\u001b[0m         \u001b[0;32mif\u001b[0m \u001b[0mc_handle\u001b[0m \u001b[0;32min\u001b[0m \u001b[0mself\u001b[0m\u001b[0;34m.\u001b[0m\u001b[0m_characteristic_notify_callbacks\u001b[0m\u001b[0;34m:\u001b[0m\u001b[0;34m\u001b[0m\u001b[0;34m\u001b[0m\u001b[0m\n\u001b[0;32m--> 212\u001b[0;31m             \u001b[0;32mraise\u001b[0m \u001b[0mValueError\u001b[0m\u001b[0;34m(\u001b[0m\u001b[0;34m\"Characteristic notifications already started\"\u001b[0m\u001b[0;34m)\u001b[0m\u001b[0;34m\u001b[0m\u001b[0;34m\u001b[0m\u001b[0m\n\u001b[0m\u001b[1;32m    213\u001b[0m \u001b[0;34m\u001b[0m\u001b[0m\n\u001b[1;32m    214\u001b[0m         \u001b[0mself\u001b[0m\u001b[0;34m.\u001b[0m\u001b[0m_characteristic_notify_callbacks\u001b[0m\u001b[0;34m[\u001b[0m\u001b[0mc_handle\u001b[0m\u001b[0;34m]\u001b[0m \u001b[0;34m=\u001b[0m \u001b[0mcallback\u001b[0m\u001b[0;34m\u001b[0m\u001b[0;34m\u001b[0m\u001b[0m\n",
      "\u001b[0;31mValueError\u001b[0m: Characteristic notifications already started"
     ]
    }
   ],
   "source": [
    "# KF --- PID to given distance and read and aggregate time, pitch, roll, yaw, TOF#1, TOF#2, leftPWM, rightPWM\n",
    "\n",
    "def fft_callback(uuid, data):\n",
    "    \n",
    "    reading = (ble.bytearray_to_string(data)).split('|')\n",
    "    #print(reading)\n",
    "    \n",
    "    for count in range(entries):\n",
    "        try:\n",
    "            nextPos = count*7\n",
    "            time.append((reading[nextPos]))\n",
    "            pitchC.append((reading[nextPos+1]))\n",
    "            rollC.append((reading[nextPos+2]))\n",
    "            yaw.append((reading[nextPos+3]))\n",
    "            ONEDist.append((reading[nextPos+4]))\n",
    "            kfdist.append((reading[nextPos+5]))\n",
    "            speed.append((reading[nextPos+6]))\n",
    "        except (IndexError,ValueError):\n",
    "            continue\n",
    "        \n",
    "    \n",
    "entries = 3\n",
    "time = []\n",
    "pitchC = []\n",
    "rollC = []\n",
    "yaw = []\n",
    "ONEDist = []\n",
    "kfdist = []\n",
    "speed = []\n",
    "\n",
    "ble.start_notify(ble.uuid['RX_STRING'], fft_callback)\n",
    "ble.send_command(CMD.KF_PID, \"304\")"
   ]
  },
  {
   "cell_type": "code",
   "execution_count": 33,
   "id": "23b6dc8c",
   "metadata": {
    "tags": []
   },
   "outputs": [],
   "source": [
    "# STUNT --- step to given distance and read and aggregate time, pitch, roll, yaw, TOF#1, TOF#2, leftPWM, rightPWM\n",
    "\n",
    "def fft_callback(uuid, data):\n",
    "    \n",
    "    reading = (ble.bytearray_to_string(data)).split('|')\n",
    "    #print(reading)\n",
    "    \n",
    "    for count in range(entries):\n",
    "        try:\n",
    "            nextPos = count*7\n",
    "            time.append((reading[nextPos]))\n",
    "            pitchC.append((reading[nextPos+1]))\n",
    "            rollC.append((reading[nextPos+2]))\n",
    "            yaw.append((reading[nextPos+3]))\n",
    "            ONEDist.append((reading[nextPos+4]))\n",
    "            error.append((reading[nextPos+5]))\n",
    "            speed.append((reading[nextPos+6]))\n",
    "        except (IndexError,ValueError):\n",
    "            continue\n",
    "        \n",
    "entries = 3\n",
    "time = []\n",
    "pitchC = []\n",
    "rollC = []\n",
    "yaw = []\n",
    "ONEDist = []\n",
    "error = []\n",
    "speed = []\n",
    "\n",
    "ble.start_notify(ble.uuid['RX_STRING'], fft_callback)\n",
    "ble.send_command(CMD.STUNT, \"\")"
   ]
  },
  {
   "cell_type": "code",
   "execution_count": 47,
   "id": "b0e39898",
   "metadata": {
    "tags": []
   },
   "outputs": [
    {
     "name": "stdout",
     "output_type": "stream",
     "text": [
      "['-76', '-76', '-76', '-76', '-76', '149', '149', '149', '159', '159', '159', '159', '157', '157', '157', '157', '157', '157', '157', '152', '152', '152', '147', '147', '147', '147', '138', '138', '138', '124', '124', '124', '110', '110', '110', '96', '96', '96', '96', '96', '82', '82', '82', '64', '64', '64', '50', '50', '50', '50', '50', '50', '50', '50', '0', '0', '0', '0', '0', '0', '0', '0', '0', '0', '0', '0', '0', '0', '0', '0', '0', '0', '0', '0', '-50', '-50', '-50', '-50', '-52', '-52', '-52', '-69', '-69', '-69', '-73', '-73', '-73', '-73', '-73', '-73', '-73', '-73', '-73', '-67', '-67', '-67', '-60', '-60', '-60', '-60', '-60', '-56', '-56', '-56', '-56', '-56', '-51', '-51', '-51', '-50', '-50', '-50', '-50', '-50', '-50', '-50', '-50', '-50', '-50', '-50', '0', '0', '0', '0', '0', '0', '0', '0', '0', '0', '0', '0', '0', '0', '0', '0', '0', '0', '0', '0', '0', '0', '0', '0', '0', '0', '0', '0', '0', '0', '0', '0', '0', '0', '0', '0', '0', '0', '0', '0', '0', '0', '0', '0', '0', '0', '0', '0', '0', '0', '0', '0', '0', '0', '0', '0', '0', '0', '0', '0', '0', '0', '0', '0', '0', '0', '0', '0', '0', '0', '0', '0', '0', '0', '0', '0', '0', '0', '0', '0', '0', '0', '0', '0', '0', '0', '0', '0', '0', '0', '0', '0', '0', '0', '0', '0', '0', '0', '0', '0', '0', '0', '0', '0', '0', '0', '0', '0', '0', '0', '0', '0', '0', '0', '0', '0', '0', '0', '0', '0', '0', '0', '0', '0', '0', '0', '0', '0', '0', '0', '0', '0', '0', '0', '0', '0', '0', '0', '0', '0', '0', '0', '0', '0', '0', '0', '0', '0', '0', '0', '0', '0', '0', '0', '0', '0', '0', '0', '0', '0', '0', '0', '0', '0', '0', '0', '0', '0', '0', '0', '0', '0', '0', '0', '0', '0', '0', '0', '0', '0', '0', '0', '0', '0', '0', '0', '0', '0', '0', '0', '0', '0', '0', '0', '0', '0', '0', '0', '0', '0', '0', '0', '0', '0', '0', '0', '0', '0', '0', '0', '0', '0', '0', '0', '0', '0', '0', '0', '0', '0', '0', '0', '0', '0', '0', '0', '0', '0', '0', '0', '0', '0', '0', '0', '0', '0', '0', '0', '0', '0', '0', '0', '0', '0', '0', '0', '0', '0', '0', '0', '0', '0', '0', '0', '0', '0', '0', '0', '0', '0', '0', '0', '0', '0', '0', '0', '0', '0', '0', '0', '0', '0', '0', '0', '0', '0', '0', '0', '0', '0', '0', '0', '0', '0', '0', '0', '0', '0']\n"
     ]
    }
   ],
   "source": [
    "print(speed)"
   ]
  },
  {
   "cell_type": "code",
   "execution_count": 64,
   "id": "812e6680",
   "metadata": {
    "tags": []
   },
   "outputs": [
    {
     "ename": "ValueError",
     "evalue": "Characteristic notification never started",
     "output_type": "error",
     "traceback": [
      "\u001b[0;31m---------------------------------------------------------------------------\u001b[0m",
      "\u001b[0;31mValueError\u001b[0m                                Traceback (most recent call last)",
      "\u001b[0;32m/var/folders/nj/jnzf5kq57v5dz7q_7msqh2vm0000gn/T/ipykernel_1520/2735251063.py\u001b[0m in \u001b[0;36m<module>\u001b[0;34m\u001b[0m\n\u001b[1;32m      1\u001b[0m \u001b[0;31m# stop notifications from this characteristic\u001b[0m\u001b[0;34m\u001b[0m\u001b[0;34m\u001b[0m\u001b[0;34m\u001b[0m\u001b[0m\n\u001b[1;32m      2\u001b[0m \u001b[0;34m\u001b[0m\u001b[0m\n\u001b[0;32m----> 3\u001b[0;31m \u001b[0mble\u001b[0m\u001b[0;34m.\u001b[0m\u001b[0mstop_notify\u001b[0m\u001b[0;34m(\u001b[0m\u001b[0mble\u001b[0m\u001b[0;34m.\u001b[0m\u001b[0muuid\u001b[0m\u001b[0;34m[\u001b[0m\u001b[0;34m'RX_STRING'\u001b[0m\u001b[0;34m]\u001b[0m\u001b[0;34m)\u001b[0m\u001b[0;34m\u001b[0m\u001b[0;34m\u001b[0m\u001b[0m\n\u001b[0m",
      "\u001b[0;32m~/Desktop/CORNELL/SP23/Fast Robots/lab8/ble_python/ble.py\u001b[0m in \u001b[0;36mstop_notify\u001b[0;34m(self, uuid)\u001b[0m\n\u001b[1;32m     82\u001b[0m \u001b[0;34m\u001b[0m\u001b[0m\n\u001b[1;32m     83\u001b[0m     \u001b[0;32mdef\u001b[0m \u001b[0mstop_notify\u001b[0m\u001b[0;34m(\u001b[0m\u001b[0mself\u001b[0m\u001b[0;34m,\u001b[0m \u001b[0muuid\u001b[0m\u001b[0;34m)\u001b[0m\u001b[0;34m:\u001b[0m\u001b[0;34m\u001b[0m\u001b[0;34m\u001b[0m\u001b[0m\n\u001b[0;32m---> 84\u001b[0;31m         \u001b[0mself\u001b[0m\u001b[0;34m.\u001b[0m\u001b[0m_wait\u001b[0m\u001b[0;34m(\u001b[0m\u001b[0mself\u001b[0m\u001b[0;34m.\u001b[0m\u001b[0mdevice\u001b[0m\u001b[0;34m.\u001b[0m\u001b[0m_stop_notify\u001b[0m\u001b[0;34m(\u001b[0m\u001b[0muuid\u001b[0m\u001b[0;34m)\u001b[0m\u001b[0;34m)\u001b[0m\u001b[0;34m\u001b[0m\u001b[0;34m\u001b[0m\u001b[0m\n\u001b[0m\u001b[1;32m     85\u001b[0m \u001b[0;34m\u001b[0m\u001b[0m\n\u001b[1;32m     86\u001b[0m     \u001b[0;32mdef\u001b[0m \u001b[0mexplore_services\u001b[0m\u001b[0;34m(\u001b[0m\u001b[0mself\u001b[0m\u001b[0;34m)\u001b[0m\u001b[0;34m:\u001b[0m\u001b[0;34m\u001b[0m\u001b[0;34m\u001b[0m\u001b[0m\n",
      "\u001b[0;32m~/Desktop/CORNELL/SP23/Fast Robots/lab8/ble_python/base_ble.py\u001b[0m in \u001b[0;36mwait_b\u001b[0;34m(coroutine)\u001b[0m\n\u001b[1;32m     25\u001b[0m \u001b[0;34m\u001b[0m\u001b[0m\n\u001b[1;32m     26\u001b[0m \u001b[0;32mdef\u001b[0m \u001b[0mwait_b\u001b[0m\u001b[0;34m(\u001b[0m\u001b[0mcoroutine\u001b[0m\u001b[0;34m)\u001b[0m\u001b[0;34m:\u001b[0m\u001b[0;34m\u001b[0m\u001b[0;34m\u001b[0m\u001b[0m\n\u001b[0;32m---> 27\u001b[0;31m     \u001b[0;32mreturn\u001b[0m \u001b[0masyncio\u001b[0m\u001b[0;34m.\u001b[0m\u001b[0mrun\u001b[0m\u001b[0;34m(\u001b[0m\u001b[0mcoroutine\u001b[0m\u001b[0;34m)\u001b[0m\u001b[0;34m\u001b[0m\u001b[0;34m\u001b[0m\u001b[0m\n\u001b[0m\u001b[1;32m     28\u001b[0m \u001b[0;34m\u001b[0m\u001b[0m\n\u001b[1;32m     29\u001b[0m \u001b[0;31m# Ref: https://github.com/alexandrebarachant/muse-lsl/pull/148/files\u001b[0m\u001b[0;34m\u001b[0m\u001b[0;34m\u001b[0m\u001b[0;34m\u001b[0m\u001b[0m\n",
      "\u001b[0;32m~/Desktop/CORNELL/SP23/Fast Robots/lab3_v2/FastRobots_ble/lib/python3.7/site-packages/nest_asyncio.py\u001b[0m in \u001b[0;36mrun\u001b[0;34m(main, debug)\u001b[0m\n\u001b[1;32m     33\u001b[0m         \u001b[0mtask\u001b[0m \u001b[0;34m=\u001b[0m \u001b[0masyncio\u001b[0m\u001b[0;34m.\u001b[0m\u001b[0mensure_future\u001b[0m\u001b[0;34m(\u001b[0m\u001b[0mmain\u001b[0m\u001b[0;34m)\u001b[0m\u001b[0;34m\u001b[0m\u001b[0;34m\u001b[0m\u001b[0m\n\u001b[1;32m     34\u001b[0m         \u001b[0;32mtry\u001b[0m\u001b[0;34m:\u001b[0m\u001b[0;34m\u001b[0m\u001b[0;34m\u001b[0m\u001b[0m\n\u001b[0;32m---> 35\u001b[0;31m             \u001b[0;32mreturn\u001b[0m \u001b[0mloop\u001b[0m\u001b[0;34m.\u001b[0m\u001b[0mrun_until_complete\u001b[0m\u001b[0;34m(\u001b[0m\u001b[0mtask\u001b[0m\u001b[0;34m)\u001b[0m\u001b[0;34m\u001b[0m\u001b[0;34m\u001b[0m\u001b[0m\n\u001b[0m\u001b[1;32m     36\u001b[0m         \u001b[0;32mfinally\u001b[0m\u001b[0;34m:\u001b[0m\u001b[0;34m\u001b[0m\u001b[0;34m\u001b[0m\u001b[0m\n\u001b[1;32m     37\u001b[0m             \u001b[0;32mif\u001b[0m \u001b[0;32mnot\u001b[0m \u001b[0mtask\u001b[0m\u001b[0;34m.\u001b[0m\u001b[0mdone\u001b[0m\u001b[0;34m(\u001b[0m\u001b[0;34m)\u001b[0m\u001b[0;34m:\u001b[0m\u001b[0;34m\u001b[0m\u001b[0;34m\u001b[0m\u001b[0m\n",
      "\u001b[0;32m~/Desktop/CORNELL/SP23/Fast Robots/lab3_v2/FastRobots_ble/lib/python3.7/site-packages/nest_asyncio.py\u001b[0m in \u001b[0;36mrun_until_complete\u001b[0;34m(self, future)\u001b[0m\n\u001b[1;32m     88\u001b[0m                 raise RuntimeError(\n\u001b[1;32m     89\u001b[0m                     'Event loop stopped before Future completed.')\n\u001b[0;32m---> 90\u001b[0;31m             \u001b[0;32mreturn\u001b[0m \u001b[0mf\u001b[0m\u001b[0;34m.\u001b[0m\u001b[0mresult\u001b[0m\u001b[0;34m(\u001b[0m\u001b[0;34m)\u001b[0m\u001b[0;34m\u001b[0m\u001b[0;34m\u001b[0m\u001b[0m\n\u001b[0m\u001b[1;32m     91\u001b[0m \u001b[0;34m\u001b[0m\u001b[0m\n\u001b[1;32m     92\u001b[0m     \u001b[0;32mdef\u001b[0m \u001b[0m_run_once\u001b[0m\u001b[0;34m(\u001b[0m\u001b[0mself\u001b[0m\u001b[0;34m)\u001b[0m\u001b[0;34m:\u001b[0m\u001b[0;34m\u001b[0m\u001b[0;34m\u001b[0m\u001b[0m\n",
      "\u001b[0;32m~/opt/anaconda3/lib/python3.7/asyncio/futures.py\u001b[0m in \u001b[0;36mresult\u001b[0;34m(self)\u001b[0m\n\u001b[1;32m    179\u001b[0m         \u001b[0mself\u001b[0m\u001b[0;34m.\u001b[0m\u001b[0m__log_traceback\u001b[0m \u001b[0;34m=\u001b[0m \u001b[0;32mFalse\u001b[0m\u001b[0;34m\u001b[0m\u001b[0;34m\u001b[0m\u001b[0m\n\u001b[1;32m    180\u001b[0m         \u001b[0;32mif\u001b[0m \u001b[0mself\u001b[0m\u001b[0;34m.\u001b[0m\u001b[0m_exception\u001b[0m \u001b[0;32mis\u001b[0m \u001b[0;32mnot\u001b[0m \u001b[0;32mNone\u001b[0m\u001b[0;34m:\u001b[0m\u001b[0;34m\u001b[0m\u001b[0;34m\u001b[0m\u001b[0m\n\u001b[0;32m--> 181\u001b[0;31m             \u001b[0;32mraise\u001b[0m \u001b[0mself\u001b[0m\u001b[0;34m.\u001b[0m\u001b[0m_exception\u001b[0m\u001b[0;34m\u001b[0m\u001b[0;34m\u001b[0m\u001b[0m\n\u001b[0m\u001b[1;32m    182\u001b[0m         \u001b[0;32mreturn\u001b[0m \u001b[0mself\u001b[0m\u001b[0;34m.\u001b[0m\u001b[0m_result\u001b[0m\u001b[0;34m\u001b[0m\u001b[0;34m\u001b[0m\u001b[0m\n\u001b[1;32m    183\u001b[0m \u001b[0;34m\u001b[0m\u001b[0m\n",
      "\u001b[0;32m~/opt/anaconda3/lib/python3.7/asyncio/tasks.py\u001b[0m in \u001b[0;36m__step\u001b[0;34m(***failed resolving arguments***)\u001b[0m\n\u001b[1;32m    247\u001b[0m                 \u001b[0;31m# We use the `send` method directly, because coroutines\u001b[0m\u001b[0;34m\u001b[0m\u001b[0;34m\u001b[0m\u001b[0;34m\u001b[0m\u001b[0m\n\u001b[1;32m    248\u001b[0m                 \u001b[0;31m# don't have `__iter__` and `__next__` methods.\u001b[0m\u001b[0;34m\u001b[0m\u001b[0;34m\u001b[0m\u001b[0;34m\u001b[0m\u001b[0m\n\u001b[0;32m--> 249\u001b[0;31m                 \u001b[0mresult\u001b[0m \u001b[0;34m=\u001b[0m \u001b[0mcoro\u001b[0m\u001b[0;34m.\u001b[0m\u001b[0msend\u001b[0m\u001b[0;34m(\u001b[0m\u001b[0;32mNone\u001b[0m\u001b[0;34m)\u001b[0m\u001b[0;34m\u001b[0m\u001b[0;34m\u001b[0m\u001b[0m\n\u001b[0m\u001b[1;32m    250\u001b[0m             \u001b[0;32melse\u001b[0m\u001b[0;34m:\u001b[0m\u001b[0;34m\u001b[0m\u001b[0;34m\u001b[0m\u001b[0m\n\u001b[1;32m    251\u001b[0m                 \u001b[0mresult\u001b[0m \u001b[0;34m=\u001b[0m \u001b[0mcoro\u001b[0m\u001b[0;34m.\u001b[0m\u001b[0mthrow\u001b[0m\u001b[0;34m(\u001b[0m\u001b[0mexc\u001b[0m\u001b[0;34m)\u001b[0m\u001b[0;34m\u001b[0m\u001b[0;34m\u001b[0m\u001b[0m\n",
      "\u001b[0;32m~/Desktop/CORNELL/SP23/Fast Robots/lab8/ble_python/base_ble.py\u001b[0m in \u001b[0;36m_stop_notify\u001b[0;34m(self, uuid)\u001b[0m\n\u001b[1;32m    116\u001b[0m     \u001b[0;32masync\u001b[0m \u001b[0;32mdef\u001b[0m \u001b[0m_stop_notify\u001b[0m\u001b[0;34m(\u001b[0m\u001b[0mself\u001b[0m\u001b[0;34m,\u001b[0m \u001b[0muuid\u001b[0m\u001b[0;34m)\u001b[0m\u001b[0;34m:\u001b[0m\u001b[0;34m\u001b[0m\u001b[0;34m\u001b[0m\u001b[0m\n\u001b[1;32m    117\u001b[0m         \u001b[0;32mif\u001b[0m \u001b[0mself\u001b[0m\u001b[0;34m.\u001b[0m\u001b[0mclient\u001b[0m \u001b[0;32mand\u001b[0m \u001b[0mself\u001b[0m\u001b[0;34m.\u001b[0m\u001b[0mclient\u001b[0m\u001b[0;34m.\u001b[0m\u001b[0mis_connected\u001b[0m\u001b[0;34m:\u001b[0m\u001b[0;34m\u001b[0m\u001b[0;34m\u001b[0m\u001b[0m\n\u001b[0;32m--> 118\u001b[0;31m             \u001b[0;32mawait\u001b[0m \u001b[0mself\u001b[0m\u001b[0;34m.\u001b[0m\u001b[0mclient\u001b[0m\u001b[0;34m.\u001b[0m\u001b[0mstop_notify\u001b[0m\u001b[0;34m(\u001b[0m\u001b[0muuid\u001b[0m\u001b[0;34m)\u001b[0m\u001b[0;34m\u001b[0m\u001b[0;34m\u001b[0m\u001b[0m\n\u001b[0m\u001b[1;32m    119\u001b[0m         \u001b[0;32melse\u001b[0m\u001b[0;34m:\u001b[0m\u001b[0;34m\u001b[0m\u001b[0;34m\u001b[0m\u001b[0m\n\u001b[1;32m    120\u001b[0m             \u001b[0;32mraise\u001b[0m \u001b[0mException\u001b[0m\u001b[0;34m(\u001b[0m\u001b[0;34m\"Not connected to a BLE device\"\u001b[0m\u001b[0;34m)\u001b[0m\u001b[0;34m\u001b[0m\u001b[0;34m\u001b[0m\u001b[0m\n",
      "\u001b[0;32m~/Desktop/CORNELL/SP23/Fast Robots/lab3_v2/FastRobots_ble/lib/python3.7/site-packages/bleak/__init__.py\u001b[0m in \u001b[0;36mstop_notify\u001b[0;34m(self, char_specifier)\u001b[0m\n\u001b[1;32m    665\u001b[0m             \u001b[0mstopped\u001b[0m \u001b[0msome\u001b[0m \u001b[0mtime\u001b[0m \u001b[0mbefore\u001b[0m \u001b[0mthe\u001b[0m \u001b[0mdevice\u001b[0m \u001b[0mdisconnects\u001b[0m\u001b[0;34m.\u001b[0m\u001b[0;34m\u001b[0m\u001b[0;34m\u001b[0m\u001b[0m\n\u001b[1;32m    666\u001b[0m         \"\"\"\n\u001b[0;32m--> 667\u001b[0;31m         \u001b[0;32mawait\u001b[0m \u001b[0mself\u001b[0m\u001b[0;34m.\u001b[0m\u001b[0m_backend\u001b[0m\u001b[0;34m.\u001b[0m\u001b[0mstop_notify\u001b[0m\u001b[0;34m(\u001b[0m\u001b[0mchar_specifier\u001b[0m\u001b[0;34m)\u001b[0m\u001b[0;34m\u001b[0m\u001b[0;34m\u001b[0m\u001b[0m\n\u001b[0m\u001b[1;32m    668\u001b[0m \u001b[0;34m\u001b[0m\u001b[0m\n\u001b[1;32m    669\u001b[0m     \u001b[0;32masync\u001b[0m \u001b[0;32mdef\u001b[0m \u001b[0mread_gatt_descriptor\u001b[0m\u001b[0;34m(\u001b[0m\u001b[0mself\u001b[0m\u001b[0;34m,\u001b[0m \u001b[0mhandle\u001b[0m\u001b[0;34m:\u001b[0m \u001b[0mint\u001b[0m\u001b[0;34m,\u001b[0m \u001b[0;34m**\u001b[0m\u001b[0mkwargs\u001b[0m\u001b[0;34m)\u001b[0m \u001b[0;34m->\u001b[0m \u001b[0mbytearray\u001b[0m\u001b[0;34m:\u001b[0m\u001b[0;34m\u001b[0m\u001b[0;34m\u001b[0m\u001b[0m\n",
      "\u001b[0;32m~/Desktop/CORNELL/SP23/Fast Robots/lab3_v2/FastRobots_ble/lib/python3.7/site-packages/bleak/backends/corebluetooth/client.py\u001b[0m in \u001b[0;36mstop_notify\u001b[0;34m(self, char_specifier)\u001b[0m\n\u001b[1;32m    379\u001b[0m             \u001b[0;32mraise\u001b[0m \u001b[0mBleakError\u001b[0m\u001b[0;34m(\u001b[0m\u001b[0;34m\"Characteristic {} not found!\"\u001b[0m\u001b[0;34m.\u001b[0m\u001b[0mformat\u001b[0m\u001b[0;34m(\u001b[0m\u001b[0mchar_specifier\u001b[0m\u001b[0;34m)\u001b[0m\u001b[0;34m)\u001b[0m\u001b[0;34m\u001b[0m\u001b[0;34m\u001b[0m\u001b[0m\n\u001b[1;32m    380\u001b[0m \u001b[0;34m\u001b[0m\u001b[0m\n\u001b[0;32m--> 381\u001b[0;31m         \u001b[0;32mawait\u001b[0m \u001b[0mself\u001b[0m\u001b[0;34m.\u001b[0m\u001b[0m_delegate\u001b[0m\u001b[0;34m.\u001b[0m\u001b[0mstop_notifications\u001b[0m\u001b[0;34m(\u001b[0m\u001b[0mcharacteristic\u001b[0m\u001b[0;34m.\u001b[0m\u001b[0mobj\u001b[0m\u001b[0;34m)\u001b[0m\u001b[0;34m\u001b[0m\u001b[0;34m\u001b[0m\u001b[0m\n\u001b[0m\u001b[1;32m    382\u001b[0m \u001b[0;34m\u001b[0m\u001b[0m\n\u001b[1;32m    383\u001b[0m     \u001b[0;32masync\u001b[0m \u001b[0;32mdef\u001b[0m \u001b[0mget_rssi\u001b[0m\u001b[0;34m(\u001b[0m\u001b[0mself\u001b[0m\u001b[0;34m)\u001b[0m \u001b[0;34m->\u001b[0m \u001b[0mint\u001b[0m\u001b[0;34m:\u001b[0m\u001b[0;34m\u001b[0m\u001b[0;34m\u001b[0m\u001b[0m\n",
      "\u001b[0;32m~/Desktop/CORNELL/SP23/Fast Robots/lab3_v2/FastRobots_ble/lib/python3.7/site-packages/bleak/backends/corebluetooth/PeripheralDelegate.py\u001b[0m in \u001b[0;36mstop_notifications\u001b[0;34m(self, characteristic)\u001b[0m\n\u001b[1;32m    227\u001b[0m         \u001b[0mc_handle\u001b[0m \u001b[0;34m=\u001b[0m \u001b[0mcharacteristic\u001b[0m\u001b[0;34m.\u001b[0m\u001b[0mhandle\u001b[0m\u001b[0;34m(\u001b[0m\u001b[0;34m)\u001b[0m\u001b[0;34m\u001b[0m\u001b[0;34m\u001b[0m\u001b[0m\n\u001b[1;32m    228\u001b[0m         \u001b[0;32mif\u001b[0m \u001b[0mc_handle\u001b[0m \u001b[0;32mnot\u001b[0m \u001b[0;32min\u001b[0m \u001b[0mself\u001b[0m\u001b[0;34m.\u001b[0m\u001b[0m_characteristic_notify_callbacks\u001b[0m\u001b[0;34m:\u001b[0m\u001b[0;34m\u001b[0m\u001b[0;34m\u001b[0m\u001b[0m\n\u001b[0;32m--> 229\u001b[0;31m             \u001b[0;32mraise\u001b[0m \u001b[0mValueError\u001b[0m\u001b[0;34m(\u001b[0m\u001b[0;34m\"Characteristic notification never started\"\u001b[0m\u001b[0;34m)\u001b[0m\u001b[0;34m\u001b[0m\u001b[0;34m\u001b[0m\u001b[0m\n\u001b[0m\u001b[1;32m    230\u001b[0m \u001b[0;34m\u001b[0m\u001b[0m\n\u001b[1;32m    231\u001b[0m         \u001b[0mfuture\u001b[0m \u001b[0;34m=\u001b[0m \u001b[0mself\u001b[0m\u001b[0;34m.\u001b[0m\u001b[0m_event_loop\u001b[0m\u001b[0;34m.\u001b[0m\u001b[0mcreate_future\u001b[0m\u001b[0;34m(\u001b[0m\u001b[0;34m)\u001b[0m\u001b[0;34m\u001b[0m\u001b[0;34m\u001b[0m\u001b[0m\n",
      "\u001b[0;31mValueError\u001b[0m: Characteristic notification never started"
     ]
    },
    {
     "name": "stdout",
     "output_type": "stream",
     "text": [
      "2023-05-08 16:22:50,621 |\u001b[32m INFO     \u001b[0m|: Disconnected from 17C0176F-95E8-439F-A4DD-EF7D3F71062E\n"
     ]
    }
   ],
   "source": [
    "# stop notifications from this characteristic\n",
    "\n",
    "ble.stop_notify(ble.uuid['RX_STRING'])"
   ]
  },
  {
   "cell_type": "code",
   "execution_count": 63,
   "id": "4d596429",
   "metadata": {
    "tags": []
   },
   "outputs": [
    {
     "data": {
      "text/plain": [
       "<matplotlib.legend.Legend at 0x7f8865cd5b50>"
      ]
     },
     "execution_count": 63,
     "metadata": {},
     "output_type": "execute_result"
    },
    {
     "data": {
      "image/png": "[encoded data removed]",
      "text/plain": [
       "<Figure size 640x480 with 1 Axes>"
      ]
     },
     "metadata": {},
     "output_type": "display_data"
    }
   ],
   "source": [
    "import random\n",
    "\n",
    "# Plot distance measurement data\n",
    "intTime = [eval(t)/1000 for t in time]\n",
    "intDist = [eval(i) for i in ONEDist]\n",
    "intSpeed = [eval(i) for i in speed]\n",
    "# intkf = [eval(i)+random.randint(3, 20) for i in kfdist]\n",
    "plt.scatter(intTime, intDist, label = \"Distance\")\n",
    "plt.scatter(intTime, intSpeed, label = \"PWM\")\n",
    "\n",
    "plt.title(\"PID to 1ft\")\n",
    "plt.xlabel(\"Time (s)\")\n",
    "plt.ylabel(\"Distance (mm)\")\n",
    "plt.legend(loc='upper center', bbox_to_anchor=(0.5, -0.2),\n",
    "          fancybox=True, shadow=True, ncol=5)\n",
    "# plt.ylim((0,-6000))\n"
   ]
  }
 ],
 "metadata": {
  "kernelspec": {
   "display_name": "Python 3 (ipykernel)",
   "language": "python",
   "name": "python3"
  },
  "language_info": {
   "codemirror_mode": {
    "name": "ipython",
    "version": 3
   },
   "file_extension": ".py",
   "mimetype": "text/x-python",
   "name": "python",
   "nbconvert_exporter": "python",
   "pygments_lexer": "ipython3",
   "version": "3.7.6"
  }
 },
 "nbformat": 4,
 "nbformat_minor": 5
}
